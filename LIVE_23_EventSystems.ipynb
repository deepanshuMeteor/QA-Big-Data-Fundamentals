{
  "cells": [
    {
      "cell_type": "markdown",
      "metadata": {
        "id": "view-in-github",
        "colab_type": "text"
      },
      "source": [
        "<a href=\"https://colab.research.google.com/github/deepanshuMeteor/QA-Big-Data-Fundamentals/blob/main/LIVE_23_EventSystems.ipynb\" target=\"_parent\"><img src=\"https://colab.research.google.com/assets/colab-badge.svg\" alt=\"Open In Colab\"/></a>"
      ]
    },
    {
      "cell_type": "markdown",
      "metadata": {
        "id": "7cJRR29wbvCM"
      },
      "source": [
        "# Intro to Event Systems\n",
        "## Big Data for Data Scientists\n",
        "\n",
        "---"
      ]
    },
    {
      "cell_type": "markdown",
      "metadata": {
        "id": "RAf2AjD8bvCR"
      },
      "source": [
        "# Part 0: Responsive Systems"
      ]
    },
    {
      "cell_type": "markdown",
      "metadata": {
        "id": "RV6ZbnWfbvCT"
      },
      "source": [
        "## How do I design a data system to be *responsive*? "
      ]
    },
    {
      "cell_type": "markdown",
      "metadata": {
        "id": "SO361WAIbvCU"
      },
      "source": [
        "# Part 1: Event & Streaming Basics"
      ]
    },
    {
      "cell_type": "markdown",
      "metadata": {
        "id": "oJkqXl8VbvCU"
      },
      "source": [
        "## What is an Event?"
      ]
    },
    {
      "cell_type": "markdown",
      "metadata": {
        "id": "bTcHAMUtbvCV"
      },
      "source": [
        "Any \"row\" (observation, case, example)... which has the following properties:\n",
        "\n",
        "* subject\n",
        "* verb\n",
        "* object\n",
        "* context"
      ]
    },
    {
      "cell_type": "code",
      "execution_count": 1,
      "metadata": {
        "colab": {
          "base_uri": "https://localhost:8080/"
        },
        "id": "xf1d43qUbvCW",
        "outputId": "3372d746-c3c6-43ae-e29b-17aa7eafce81"
      },
      "outputs": [
        {
          "output_type": "execute_result",
          "data": {
            "text/plain": [
              "1650549808.5777333"
            ]
          },
          "metadata": {},
          "execution_count": 1
        }
      ],
      "source": [
        "from time import time\n",
        "time()"
      ]
    },
    {
      "cell_type": "code",
      "execution_count": 2,
      "metadata": {
        "colab": {
          "base_uri": "https://localhost:8080/"
        },
        "id": "nzzp27WubvCc",
        "outputId": "c4de74c7-4f31-4935-a9c1-43c7f8a35cdf"
      },
      "outputs": [
        {
          "output_type": "execute_result",
          "data": {
            "text/plain": [
              "{'context': {'at': 1650549815.5420847},\n",
              " 'object': {'id': 3001, 'type': 'FILM'},\n",
              " 'subject': {'id': 101, 'type': 'CUSTOMER'},\n",
              " 'verb': 'REVIEW'}"
            ]
          },
          "metadata": {},
          "execution_count": 2
        }
      ],
      "source": [
        "customer_reviews_film = {\n",
        "    'subject': {\n",
        "        'id': 101,\n",
        "        'type': 'CUSTOMER'\n",
        "    },\n",
        "    'verb': 'REVIEW',\n",
        "    'object' : {\n",
        "        'id': 3001,\n",
        "        'type': 'FILM'\n",
        "    },\n",
        "    'context': {\n",
        "        'at': time()\n",
        "    }\n",
        "}\n",
        "\n",
        "customer_reviews_film"
      ]
    },
    {
      "cell_type": "markdown",
      "metadata": {
        "id": "NSyD1eGAbvCe"
      },
      "source": [
        "Pretty much any piece of data can be represented as an event. "
      ]
    },
    {
      "cell_type": "markdown",
      "metadata": {
        "id": "ckZupWyrbvCf"
      },
      "source": [
        "### Aside: Events with schemaless contents"
      ]
    },
    {
      "cell_type": "code",
      "execution_count": 3,
      "metadata": {
        "id": "3pjizmMEbvCg"
      },
      "outputs": [],
      "source": [
        "client_submits_taxform = {\n",
        "    'subject': {\n",
        "        'id': 'UK'\n",
        "    },\n",
        "    'verb': 'SUBMIT_TAX',\n",
        "    'object': {\n",
        "        'id': 901,\n",
        "        'body': \"SCHEMALESS-SERIALIZED-DATA\"\n",
        "    },\n",
        "    'context': {\n",
        "        'at': time()\n",
        "    }\n",
        "}"
      ]
    },
    {
      "cell_type": "markdown",
      "metadata": {
        "id": "OpP1Qmq-bvCh"
      },
      "source": [
        "## What is an Event System?"
      ]
    },
    {
      "cell_type": "markdown",
      "metadata": {
        "id": "0kLWgmSMbvCj"
      },
      "source": [
        "Any system for which the primary data element is an event (as defined above). "
      ]
    },
    {
      "cell_type": "markdown",
      "metadata": {
        "id": "pHK0B9qkbvCj"
      },
      "source": [
        "## What is Streaming and Stream Processing?"
      ]
    },
    {
      "cell_type": "markdown",
      "metadata": {
        "id": "Rvn3C100bvCk"
      },
      "source": [
        "Streaming is a technical term which means using a constant amount of memory to process a large amount of data.\n",
        "\n",
        "Here, \"streaming\" denotes that we process one event at a time... across a whole \"stream\" of events. "
      ]
    },
    {
      "cell_type": "markdown",
      "metadata": {
        "id": "MwMXIGURbvCk"
      },
      "source": [
        "## What is an append-only log?"
      ]
    },
    {
      "cell_type": "markdown",
      "metadata": {
        "id": "y4EJsN5fbvCl"
      },
      "source": [
        "An append-only log is just *one* possible system to record an event stream. \n",
        "\n",
        "Typically an event stream is only \"live\" over some window of time, eg., you \"live\" event stream has only 1day of events; here the log is cleared daily.\n",
        "\n",
        "An append-only is a system of accept raw unprocesed events, typically over a window of time, \"verbtaim\" without editing or deleting.\n",
        "\n",
        "This log is then replicated to serve for later or offline processing (& archiving). "
      ]
    },
    {
      "cell_type": "markdown",
      "metadata": {
        "id": "TyCmfx7DbvCm"
      },
      "source": [
        "## How is an append-only log structured?\n",
        "\n",
        "Events are sequenced in time, so that later events in log occur later.\n",
        "\n",
        "\"Archived logs\" have *the same structure*, so you can use the same tools  to process a live and archived log.\n",
        "\n",
        "Reprocessing an archived log is known as \"replaying\", and this is extremely conveient way of fixing mistakes (& reprocessing data etc.)."
      ]
    },
    {
      "cell_type": "markdown",
      "metadata": {
        "id": "oneMcGjcbvCn"
      },
      "source": [
        "## Why does this seem simple?"
      ]
    },
    {
      "cell_type": "markdown",
      "metadata": {
        "id": "asTPeJQ3bvCn"
      },
      "source": [
        "This is deceptively simple, compare with a database, and you *CANNOT*:\n",
        "\n",
        "* edit\n",
        "* delete\n",
        "\n",
        "\n",
        "And , with a relational db, \"rows\" are thought of as *highly structured* and *not ordered*. \n",
        "\n",
        "\n",
        "**Event logs are ordered in time, uneditable, weakly structured (subject, verb, object, at)**. \n",
        "\n",
        "The limitations are vital! "
      ]
    },
    {
      "cell_type": "markdown",
      "metadata": {
        "id": "NoEE6JiQbvCo"
      },
      "source": [
        "## How do I persist events?"
      ]
    },
    {
      "cell_type": "markdown",
      "metadata": {
        "id": "rdb_9hxibvCo"
      },
      "source": [
        "Replicated them from the log. "
      ]
    },
    {
      "cell_type": "markdown",
      "metadata": {
        "id": "_4fFeVRpbvCp"
      },
      "source": [
        "## Aside: What's the difference between an event bus and event log?"
      ]
    },
    {
      "cell_type": "markdown",
      "metadata": {
        "id": "Cz_b0qQ0bvCp"
      },
      "source": [
        "An event bus is an internal signalling and coordination system for managing internal services. The data in a event bus, is generated by *internal systems* and is mostly formatted as \"call function with these argumnts\". \n",
        "\n",
        "\n",
        "An event log is **a database**, it's where the data is. It's not, primarily, a coodination mechaism. The data in an event log is generated by *customers* (or sensors, or any external systems). They can be use a bit like an event bus to coordinate, but this is a secondary use: most of the data in them is externally generally generated. "
      ]
    },
    {
      "cell_type": "markdown",
      "metadata": {
        "id": "Dog-abS2bvCq"
      },
      "source": [
        "# Part 2: Applications"
      ]
    },
    {
      "cell_type": "markdown",
      "metadata": {
        "id": "wG-rfClBbvCq"
      },
      "source": [
        "## What is the most basic implementation of a event stream?"
      ]
    },
    {
      "cell_type": "code",
      "execution_count": 4,
      "metadata": {
        "colab": {
          "base_uri": "https://localhost:8080/"
        },
        "id": "nZteoq5TbvCq",
        "outputId": "1ba57d17-ffa8-4458-8ccf-68ea0b34f35e"
      },
      "outputs": [
        {
          "output_type": "execute_result",
          "data": {
            "text/plain": [
              "{'context': {'at': 1650549820.7373793},\n",
              " 'object': {'body': 'SCHEMALESS-SERIALIZED-DATA', 'id': 901},\n",
              " 'subject': {'id': 'UK'},\n",
              " 'verb': 'SUBMIT_TAX'}"
            ]
          },
          "metadata": {},
          "execution_count": 4
        }
      ],
      "source": [
        "client_submits_taxform"
      ]
    },
    {
      "cell_type": "code",
      "execution_count": 5,
      "metadata": {
        "colab": {
          "base_uri": "https://localhost:8080/"
        },
        "id": "lUKuTk2JbvCr",
        "outputId": "adcee1c2-9b34-4969-aa80-8697138e4e09"
      },
      "outputs": [
        {
          "output_type": "execute_result",
          "data": {
            "text/plain": [
              "<_io.TextIOWrapper name='log' mode='w' encoding='UTF-8'>"
            ]
          },
          "metadata": {},
          "execution_count": 5
        }
      ],
      "source": [
        "open('log', 'w')"
      ]
    },
    {
      "cell_type": "code",
      "execution_count": 6,
      "metadata": {
        "colab": {
          "base_uri": "https://localhost:8080/"
        },
        "id": "9-PbPyz0bvCr",
        "outputId": "99a97b8d-c29b-4df3-aa5f-bf924a0cd5d5"
      },
      "outputs": [
        {
          "output_type": "execute_result",
          "data": {
            "text/plain": [
              "148"
            ]
          },
          "metadata": {},
          "execution_count": 6
        }
      ],
      "source": [
        "from json import dumps as encode\n",
        "\n",
        "client_submits_taxform = { \n",
        "    'subject': { 'id': 'UK' },\n",
        "    'verb': 'SUBMIT_TAX',\n",
        "    'object': { 'id': 901, 'body': \"SCHEMALESS-SERIALIZED-DATA\" },\n",
        "    'context': { 'at': time() }\n",
        "}\n",
        "\n",
        "open('log', 'a').write(encode(client_submits_taxform) + \"\\n\")"
      ]
    },
    {
      "cell_type": "code",
      "execution_count": 7,
      "metadata": {
        "colab": {
          "base_uri": "https://localhost:8080/"
        },
        "id": "YMQDKKvfbvCs",
        "outputId": "de8412ea-bc96-4462-b7b2-804162e0aabf"
      },
      "outputs": [
        {
          "output_type": "stream",
          "name": "stdout",
          "text": [
            "{\"subject\": {\"id\": \"UK\"}, \"verb\": \"SUBMIT_TAX\", \"object\": {\"id\": 901, \"body\": \"SCHEMALESS-SERIALIZED-DATA\"}, \"context\": {\"at\": 1650549837.1697195}}\n",
            "\n"
          ]
        }
      ],
      "source": [
        "print(open('log').read())"
      ]
    },
    {
      "cell_type": "markdown",
      "metadata": {
        "id": "LR3yFVrubvCs"
      },
      "source": [
        "## How do I process a log?"
      ]
    },
    {
      "cell_type": "code",
      "execution_count": 8,
      "metadata": {
        "colab": {
          "base_uri": "https://localhost:8080/"
        },
        "id": "cgAgi9iebvCt",
        "outputId": "cba86bef-2d4d-401a-f11b-7ff05cab8d8d"
      },
      "outputs": [
        {
          "output_type": "stream",
          "name": "stdout",
          "text": [
            "UK 1650549837.1697195\n"
          ]
        }
      ],
      "source": [
        "from json import loads as decode\n",
        "\n",
        "def process(event):\n",
        "    print(event['subject']['id'], event['context']['at'])\n",
        "    \n",
        "# streaming\n",
        "for raw_event in open('log'):\n",
        "    event = decode(raw_event)\n",
        "    process(event)"
      ]
    },
    {
      "cell_type": "markdown",
      "metadata": {
        "id": "5bz0nhfPbvCt"
      },
      "source": [
        "## How does a log processor know where to start processing?"
      ]
    },
    {
      "cell_type": "code",
      "execution_count": 9,
      "metadata": {
        "colab": {
          "base_uri": "https://localhost:8080/"
        },
        "id": "D0LrMetmbvCt",
        "outputId": "1fa23c6e-e871-4e72-92a5-eaa3382535fb"
      },
      "outputs": [
        {
          "output_type": "stream",
          "name": "stdout",
          "text": [
            "UK 1650549837.1697195\n"
          ]
        }
      ],
      "source": [
        "from json import loads as decode\n",
        "\n",
        "def process(event):\n",
        "    print(event['subject']['id'], event['context']['at'])\n",
        "    \n",
        "processed_timestamp = 0 # time()\n",
        "\n",
        "for raw_event in open('log'):\n",
        "    event = decode(raw_event)\n",
        "    \n",
        "    if event['context']['at'] > processed_timestamp:\n",
        "        process(event)\n",
        "        processed_timestamp = event['context']['at']\n",
        "    else:\n",
        "        # skip events we've processed\n",
        "        continue"
      ]
    },
    {
      "cell_type": "markdown",
      "metadata": {
        "id": "TN-P0zj_bvCu"
      },
      "source": [
        "## What do processors typically do with events?"
      ]
    },
    {
      "cell_type": "markdown",
      "metadata": {
        "id": "csCjrSjTbvCu"
      },
      "source": [
        "* Noramlize and insert into database\n",
        "* Insert *derived* event into a different event stream\n",
        "* (Also, possibly, email user)\n",
        "\n",
        "Typically there is a \"Raw\" or primary stream whose events are always generated externally. This stream is *just processed* into new streams or derived data. \n",
        "\n",
        "And typically, \"actions\" such as emailing a user, are executed on a derived stream. So that the \"raw\" stream is just a \"vertaim record\". "
      ]
    },
    {
      "cell_type": "markdown",
      "metadata": {
        "id": "jenKQenqbvCv"
      },
      "source": [
        "## How do you respond to events on a derived stream?"
      ]
    },
    {
      "cell_type": "code",
      "execution_count": 10,
      "metadata": {
        "id": "Wn58M7nwbvCv"
      },
      "outputs": [],
      "source": [
        "from json import loads as decode\n",
        "\n",
        "def process(event):\n",
        "    new_event = {\n",
        "        'subject': {'id': 'EMAIL_SYSTEM'}, \n",
        "        'verb': 'EMAIL', \n",
        "        'object': {'id': event['object']['id'], 'type': 'CLIENT'}, \n",
        "        'context': {\n",
        "            'at': time(),\n",
        "            'caused_by': event\n",
        "        }\n",
        "    }\n",
        "    \n",
        "    open('derived', 'a').write(encode(new_event) + \"\\n\")\n",
        "    \n",
        "    \n",
        "    \n",
        "processed_timestamp = 0 # time()\n",
        "for raw_event in open('log'):\n",
        "    event = decode(raw_event)\n",
        "    \n",
        "    if event['context']['at'] > processed_timestamp:\n",
        "        process(event)\n",
        "        processed_timestamp = event['context']['at']\n",
        "    else:\n",
        "        # skip events we've processed\n",
        "        continue"
      ]
    },
    {
      "cell_type": "code",
      "execution_count": 11,
      "metadata": {
        "colab": {
          "base_uri": "https://localhost:8080/"
        },
        "id": "Nh_9JDddbvCv",
        "outputId": "ee268751-62bd-4fad-e103-616d8576bb1b"
      },
      "outputs": [
        {
          "output_type": "stream",
          "name": "stdout",
          "text": [
            "{'subject': {'id': 'EMAIL_SYSTEM'}, 'verb': 'EMAIL', 'object': {'id': 901, 'type': 'CLIENT'}, 'context': {'at': 1650549854.3334212, 'caused_by': {'subject': {'id': 'UK'}, 'verb': 'SUBMIT_TAX', 'object': {'id': 901, 'body': 'SCHEMALESS-SERIALIZED-DATA'}, 'context': {'at': 1650549837.1697195}}}}\n"
          ]
        }
      ],
      "source": [
        "processed_timestamp = 0 # time()\n",
        "for raw_event in open('derived'):\n",
        "    event = decode(raw_event)\n",
        "    \n",
        "    if event['context']['at'] > processed_timestamp:\n",
        "        print(event)\n",
        "        processed_timestamp = event['context']['at']"
      ]
    },
    {
      "cell_type": "markdown",
      "metadata": {
        "id": "TgKa1xLRbvCw"
      },
      "source": [
        "## How do I detect anomolies in an event stream?"
      ]
    },
    {
      "cell_type": "code",
      "execution_count": 12,
      "metadata": {
        "colab": {
          "base_uri": "https://localhost:8080/"
        },
        "id": "1edcc9XxbvCw",
        "outputId": "ccdb2c25-8ace-46dc-b876-b3fae92fad85"
      },
      "outputs": [
        {
          "output_type": "stream",
          "name": "stdout",
          "text": [
            "EVENT: UNEXPECTED DATA\n"
          ]
        }
      ],
      "source": [
        "avg_body_length = 10 \n",
        "\n",
        "for raw_event in open('log'):\n",
        "    event = decode(raw_event)\n",
        "    \n",
        "    if len(event['object']['body']) > avg_body_length:\n",
        "        print(\"EVENT: UNEXPECTED DATA\") # add to a different event log"
      ]
    },
    {
      "cell_type": "markdown",
      "metadata": {
        "id": "KcKjhNskbvCw"
      },
      "source": [
        "* (unstructured) text anomolies\n",
        "    * whitespace frequency\n",
        "    * length\n",
        "    * word/symbol frequnecy \n",
        "    * ...\n",
        "    \n",
        "* structure:\n",
        "    * check some internal measure for variation"
      ]
    },
    {
      "cell_type": "code",
      "execution_count": 13,
      "metadata": {
        "colab": {
          "base_uri": "https://localhost:8080/"
        },
        "id": "0cYBTH4zbvCx",
        "outputId": "a4209c3f-b572-408d-ac10-e6b62a765ff6"
      },
      "outputs": [
        {
          "output_type": "stream",
          "name": "stdout",
          "text": [
            "EVENT: UNEXPECTED DATA\n"
          ]
        }
      ],
      "source": [
        "avg_measure = 10\n",
        "avg_std = 5\n",
        "\n",
        "for raw_event in open('log'):\n",
        "    event = decode(raw_event)\n",
        "    \n",
        "    is_anom = len(event['object']['body']) > (avg_measure + avg_std * 2)\n",
        "    \n",
        "    if is_anom:\n",
        "        print(\"EVENT: UNEXPECTED DATA\") # add to a different event log"
      ]
    },
    {
      "cell_type": "markdown",
      "metadata": {
        "id": "WZ5JVSO_bvCx"
      },
      "source": [
        "# Part 3: Tools"
      ]
    },
    {
      "cell_type": "markdown",
      "metadata": {
        "id": "p_QaIlK7bvCx"
      },
      "source": [
        "## What is the leading tool for recording event streams?"
      ]
    },
    {
      "cell_type": "markdown",
      "metadata": {
        "id": "gPf1e_MQbvCx"
      },
      "source": [
        "Kafka"
      ]
    },
    {
      "cell_type": "markdown",
      "metadata": {
        "id": "L0iYU5P4bvCy"
      },
      "source": [
        "## What tools are there for processing event streams?"
      ]
    },
    {
      "cell_type": "markdown",
      "metadata": {
        "id": "VydltK8AbvCy"
      },
      "source": [
        "* confluent (by the kafka people)\n",
        "* spark\n",
        "* kinesis"
      ]
    },
    {
      "cell_type": "markdown",
      "metadata": {
        "id": "7wFX08GabvCy"
      },
      "source": [
        "## Why are event log systems useful?\n",
        "\n",
        "* ready for analysis\n",
        "* *forces* you to record history of:\n",
        "    * who caused data injest\n",
        "    * where did come from\n",
        "    * when\n",
        "    * context \n",
        "* this makes your life so much easier, even if you don't need this right now!\n",
        "* esp. for debugging as *every record of data* has a subject!\n",
        "    * eg., the email system records itself as what caused an INSERT"
      ]
    },
    {
      "cell_type": "markdown",
      "metadata": {
        "id": "yk-FKxKvbvCy"
      },
      "source": [
        "# Part 4: Use Case: Cart Abandonment"
      ]
    },
    {
      "cell_type": "markdown",
      "metadata": {
        "id": "oIPOtpElbvCz"
      },
      "source": [
        "### Customer Adds Items & Orders"
      ]
    },
    {
      "cell_type": "markdown",
      "metadata": {
        "id": "3JXoBC-UbvCz"
      },
      "source": [
        "```\n",
        "\n",
        "{\"subject\": {\"id\": 1, \"type\": \"CUSTOMER\"}, \"verb\": {\"type\": \"STARTED_BROWSING\"}, \"object\": {\"type\": \"NONE\"}, \"context\": {\"at\": 1598616196536}, \"event\": {\"inserted_at\": 1598616196567}}\n",
        "\n",
        "{\"subject\": {\"id\": 1, \"type\": \"CUSTOMER\"}, \"verb\": {\"type\": \"ADDED_ITEM_TO_BASKET\"}, \"object\": {\"type\": \"ITEM\", \"item\": {\"id\": 1, \"name\": \"Orange\", \"price\": 0.5, \"count\": 1}}, \"context\": {\"at\": 1598616199042}, \"event\": {\"inserted_at\": 1598616199056}}\n",
        "\n",
        "{\"subject\": {\"id\": 1, \"type\": \"CUSTOMER\"}, \"verb\": {\"type\": \"ADDED_ITEM_TO_BASKET\"}, \"object\": {\"type\": \"ITEM\", \"item\": {\"id\": 2, \"name\": \"Banana\", \"price\": 1.22, \"count\": 1}}, \"context\": {\"at\": 1598616199769}, \"event\": {\"inserted_at\": 1598616199787}}\n",
        "\n",
        "{\"subject\": {\"id\": 1, \"type\": \"CUSTOMER\"}, \"verb\": {\"type\": \"ADDED_ITEM_TO_BASKET\"}, \"object\": {\"type\": \"ITEM\", \"item\": {\"id\": 3, \"name\": \"Lemon\", \"price\": 5, \"count\": 1}}, \"context\": {\"at\": 1598616200827}, \"event\": {\"inserted_at\": 1598616200844}}\n",
        "\n",
        "{\"subject\": {\"id\": 1, \"type\": \"CUSTOMER\"}, \"verb\": {\"type\": \"ADDED_ITEM_TO_BASKET\"}, \"object\": {\"type\": \"ITEM\", \"item\": {\"id\": 3, \"name\": \"Lemon\", \"price\": 5, \"count\": 2}}, \"context\": {\"at\": 1598616201410}, \"event\": {\"inserted_at\": 1598616201421}}\n",
        "\n",
        "{\"subject\": {\"id\": 1, \"type\": \"CUSTOMER\"}, \"verb\": {\"type\": \"CHANGED_ITEM_COUNT_IN_BASKET\"}, \"object\": {\"type\": \"ITEM\", \"item\": {\"id\": 1, \"name\": \"Orange\", \"price\": 0.5, \"count\": 2}}, \"context\": {\"at\": 1598616204107, \"by\": 1}, \"event\": {\"inserted_at\": 1598616204132}}\n",
        "\n",
        "{\"subject\": {\"id\": 1, \"type\": \"CUSTOMER\"}, \"verb\": {\"type\": \"ORDERED\"}, \"object\": {\"type\": \"BASKET\", \"basket\": [{\"id\": 1, \"name\": \"Orange\", \"price\": 0.5, \"count\": 2}, {\"id\": 2, \"name\": \"Banana\", \"price\": 1.22, \"count\": 1}, {\"id\": 3, \"name\": \"Lemon\", \"price\": 5, \"count\": 2}]}, \"context\": {\"at\": 1598616206681}, \"event\": {\"inserted_at\": 1598616206694}}\n",
        "\n",
        "{\"subject\": {\"id\": 1, \"type\": \"INTERNAL_ORDER_EVENT\"}, \"verb\": {\"type\": \"ORDER_COMPLETED\"}, \"object\": {\"type\": \"NONE\"}, \"context\": {\"at\": 1598616206696}, \"event\": {\"inserted_at\": 1598616206696}}\n",
        "\n",
        "```"
      ]
    },
    {
      "cell_type": "markdown",
      "metadata": {
        "id": "zC8nDBw-bvCz"
      },
      "source": [
        "    imperfect: customer adds items then abandons basket"
      ]
    },
    {
      "cell_type": "markdown",
      "metadata": {
        "id": "AMbwAUsXbvC0"
      },
      "source": [
        "A log processor watches the event stream to see when a customer first started browsing, and when their last interaction was.\n",
        "\n",
        "If the event processor finds a last-interaction *more than 30min* from when it's looking, it generates an \"ABANDONED_BASKET\" event. "
      ]
    },
    {
      "cell_type": "markdown",
      "metadata": {
        "id": "cL5GYvVjbvC0"
      },
      "source": [
        "```\n",
        "{\"subject\": {\"id\": 15, \"type\": \"CUSTOMER\"}, \"verb\": {\"type\": \"STARTED_BROWSING\"}, \"object\": {\"type\": \"NONE\"}, \"context\": {\"at\": 1598616196536}, \"event\": {\"inserted_at\": 1598616196567}}\n",
        "{\"subject\": {\"id\": 15, \"type\": \"CUSTOMER\"}, \"verb\": {\"type\": \"ADDED_ITEM_TO_BASKET\"}, \"object\": {\"type\": \"ITEM\", \"item\": {\"id\": 1, \"name\": \"Orange\", \"price\": 0.5, \"count\": 1}}, \"context\": {\"at\": 1598616199042}, \"event\": {\"inserted_at\": 1598616199056}}\n",
        "{\"subject\": {\"id\": 15, \"type\": \"CUSTOMER\"}, \"verb\": {\"type\": \"ADDED_ITEM_TO_BASKET\"}, \"object\": {\"type\": \"ITEM\", \"item\": {\"id\": 2, \"name\": \"Banana\", \"price\": 1.22, \"count\": 1}}, \"context\": {\"at\": 1598616199769}, \"event\": {\"inserted_at\": 1598616199787}}\n",
        "{\"subject\": {\"id\": 15, \"type\": \"CUSTOMER\"}, \"verb\": {\"type\": \"ADDED_ITEM_TO_BASKET\"}, \"object\": {\"type\": \"ITEM\", \"item\": {\"id\": 3, \"name\": \"Lemon\", \"price\": 5, \"count\": 1}}, \"context\": {\"at\": 1598616200827}, \"event\": {\"inserted_at\": 1598616200844}}\n",
        "{\"subject\": {\"id\": 15, \"type\": \"CUSTOMER\"}, \"verb\": {\"type\": \"ADDED_ITEM_TO_BASKET\"}, \"object\": {\"type\": \"ITEM\", \"item\": {\"id\": 3, \"name\": \"Lemon\", \"price\": 5, \"count\": 2}}, \"context\": {\"at\": 1598616201410}, \"event\": {\"inserted_at\": 1598616201421}}\n",
        "{\"subject\": {\"id\": 15, \"type\": \"CUSTOMER\"}, \"verb\": {\"type\": \"CHANGED_ITEM_COUNT_IN_BASKET\"}, \"object\": {\"type\": \"ITEM\", \"item\": {\"id\": 1, \"name\": \"Orange\", \"price\": 0.5, \"count\": 2}}, \"context\": {\"at\": 1598616204107, \"by\": 1}, \"event\": {\"inserted_at\": 1598616204132}}\n",
        "```"
      ]
    },
    {
      "cell_type": "markdown",
      "metadata": {
        "id": "qqlv69oYbvC1"
      },
      "source": [
        "In a derived event stream (ie., another log):"
      ]
    },
    {
      "cell_type": "markdown",
      "metadata": {
        "id": "xeJFizkGbvC1"
      },
      "source": [
        "```\n",
        "{\"subject\": {\"id\": 15, \"type\": \"INTERNAL_ABDANDON_SYSTEM\"}, \"verb\": {\"type\": \"ABANDONED_BASKET\"}, \"object\": {\"type\": \"NONE\"}, \"context\": {\"at\": 1598616204107}, \"event\": {\"inserted_at\": 1598622166810}}\n",
        "```"
      ]
    },
    {
      "cell_type": "markdown",
      "metadata": {
        "id": "SHwK14YsbvC2"
      },
      "source": [
        "A second system monitors for abandoment-events, and triggers emails to remind customers they have products in their basket (ie., to increase sales)."
      ]
    }
  ],
  "metadata": {
    "celltoolbar": "Slideshow",
    "kernelspec": {
      "display_name": "Python 3 (ipykernel)",
      "language": "python",
      "name": "python3"
    },
    "language_info": {
      "codemirror_mode": {
        "name": "ipython",
        "version": 3
      },
      "file_extension": ".py",
      "mimetype": "text/x-python",
      "name": "python",
      "nbconvert_exporter": "python",
      "pygments_lexer": "ipython3",
      "version": "3.9.7"
    },
    "colab": {
      "name": "LIVE_23_EventSystems.ipynb",
      "provenance": [],
      "include_colab_link": true
    }
  },
  "nbformat": 4,
  "nbformat_minor": 0
}