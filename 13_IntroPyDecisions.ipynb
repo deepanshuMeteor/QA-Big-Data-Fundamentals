{
  "cells": [
    {
      "cell_type": "markdown",
      "metadata": {
        "id": "view-in-github",
        "colab_type": "text"
      },
      "source": [
        "<a href=\"https://colab.research.google.com/github/deepanshuMeteor/QA-Big-Data-Fundamentals/blob/main/13_IntroPyDecisions.ipynb\" target=\"_parent\"><img src=\"https://colab.research.google.com/assets/colab-badge.svg\" alt=\"Open In Colab\"/></a>"
      ]
    },
    {
      "cell_type": "markdown",
      "metadata": {
        "id": "UzqQ_oMfKr-i"
      },
      "source": [
        "# Introduction to Python \n",
        "### Notes 1.1, Introduction to Decision-Making \n",
        "---\n",
        "\n",
        "## Objectives\n",
        "\n",
        "---"
      ]
    },
    {
      "cell_type": "markdown",
      "metadata": {
        "id": "JbrDENtFKr-q"
      },
      "source": [
        "## What sorts of decisions do I need to make in a program?\n",
        "\n",
        "* avoding and handling errors\n",
        "* validating, checking, responding to user input\n",
        "* implementing business rule"
      ]
    },
    {
      "cell_type": "markdown",
      "metadata": {
        "id": "r1VcThxfKr-r"
      },
      "source": [
        "## How do I avoid errors by testings collections for membership?"
      ]
    },
    {
      "cell_type": "markdown",
      "metadata": {
        "id": "jC-QhVjIKr-s"
      },
      "source": [
        "The `in` keyword tests a collection for containing an element.\n",
        "\n",
        "* `k in d` is there are key `k` in dictionary `d`?\n",
        "* `e in l` is there a element `e` in list `l`?\n",
        "\n",
        "\n",
        "If we have a dictionary, we're testing if a key is present; if we have a list, just if some element is present. "
      ]
    },
    {
      "cell_type": "code",
      "execution_count": null,
      "metadata": {
        "id": "JQErM7pMKr-u"
      },
      "outputs": [],
      "source": [
        "warning_messages = {\n",
        "    180: \"WARNING!\",\n",
        "    120: \"OK\",\n",
        "    60 : \"WARNING!\"\n",
        "}"
      ]
    },
    {
      "cell_type": "code",
      "execution_count": null,
      "metadata": {
        "id": "PNktC0QPKr-y",
        "outputId": "7672b1af-415b-4263-a58a-9d36532d4ca6"
      },
      "outputs": [
        {
          "name": "stdout",
          "output_type": "stream",
          "text": [
            "What's your BP?90\n"
          ]
        },
        {
          "ename": "KeyError",
          "evalue": "90.0",
          "output_type": "error",
          "traceback": [
            "\u001b[0;31m--------------------------------------------------------\u001b[0m",
            "\u001b[0;31mKeyError\u001b[0m               Traceback (most recent call last)",
            "\u001b[0;32m<ipython-input-5-8dca0a9cbaf4>\u001b[0m in \u001b[0;36m<module>\u001b[0;34m\u001b[0m\n\u001b[1;32m      1\u001b[0m \u001b[0muser_bp\u001b[0m \u001b[0;34m=\u001b[0m \u001b[0mfloat\u001b[0m\u001b[0;34m(\u001b[0m\u001b[0minput\u001b[0m\u001b[0;34m(\u001b[0m\u001b[0;34m\"What's your BP?\"\u001b[0m\u001b[0;34m)\u001b[0m\u001b[0;34m)\u001b[0m\u001b[0;34m\u001b[0m\u001b[0;34m\u001b[0m\u001b[0m\n\u001b[1;32m      2\u001b[0m \u001b[0;34m\u001b[0m\u001b[0m\n\u001b[0;32m----> 3\u001b[0;31m \u001b[0mprint\u001b[0m\u001b[0;34m(\u001b[0m\u001b[0mwarning_messages\u001b[0m\u001b[0;34m[\u001b[0m\u001b[0muser_bp\u001b[0m\u001b[0;34m]\u001b[0m\u001b[0;34m)\u001b[0m\u001b[0;34m\u001b[0m\u001b[0;34m\u001b[0m\u001b[0m\n\u001b[0m",
            "\u001b[0;31mKeyError\u001b[0m: 90.0"
          ]
        }
      ],
      "source": [
        "user_bp = float(input(\"What's your BP?\"))\n",
        "\n",
        "print(warning_messages[user_bp])"
      ]
    },
    {
      "cell_type": "code",
      "execution_count": null,
      "metadata": {
        "id": "WEI0hwVrKr-1",
        "outputId": "10b97744-d181-4694-c1a0-77d4e124abc7"
      },
      "outputs": [
        {
          "name": "stdout",
          "output_type": "stream",
          "text": [
            "What's your BP?60\n",
            "WARNING!\n"
          ]
        }
      ],
      "source": [
        "user_bp = float(input(\"What's your BP?\"))\n",
        "\n",
        "if user_bp in warning_messages:\n",
        "    print(warning_messages[user_bp])\n",
        "else:\n",
        "    print(\"we have no reference for this blood pressure!\")"
      ]
    },
    {
      "cell_type": "markdown",
      "metadata": {
        "id": "vgRL6YqDKr-3"
      },
      "source": [
        "## How do I make decisions in python?"
      ]
    },
    {
      "cell_type": "markdown",
      "metadata": {
        "id": "nQz3AebsKr-4"
      },
      "source": [
        "To use the keywords `if, elif, else` along with comparisons. "
      ]
    },
    {
      "cell_type": "code",
      "execution_count": null,
      "metadata": {
        "id": "Wl3yx72mKr-5",
        "outputId": "63f74534-356e-4ba2-bc86-1abc00f95842"
      },
      "outputs": [
        {
          "name": "stdout",
          "output_type": "stream",
          "text": [
            "What's your BP?191\n",
            "191.0\n",
            "WARNING: Too High!\n"
          ]
        }
      ],
      "source": [
        "user_bp = float(input(\"What's your BP?\"))\n",
        "\n",
        "if user_bp >= 180:\n",
        "    print(user_bp)\n",
        "    print(\"WARNING: Too High!\")\n",
        "elif user_bp <= 60:\n",
        "    print(\"WARNING: Too Low!\")\n",
        "else:\n",
        "    print(\"OK\")"
      ]
    },
    {
      "cell_type": "markdown",
      "metadata": {
        "id": "3fjuWeAoKr-6"
      },
      "source": [
        "By *indenting* code in python, we group it together. Above, *the first indented region* which has  a `True` test, is executed. No others are.\n",
        "\n",
        "If no tests are `True` then `else` is executed. "
      ]
    },
    {
      "cell_type": "markdown",
      "metadata": {
        "id": "yJLf4GBnKr-7"
      },
      "source": [
        "## How do I compare data values?"
      ]
    },
    {
      "cell_type": "code",
      "execution_count": null,
      "metadata": {
        "id": "ySAKFW83Kr-7"
      },
      "outputs": [],
      "source": [
        "michael_bp = 175\n",
        "alice_bp = 175\n",
        "eve_bp = 140"
      ]
    },
    {
      "cell_type": "markdown",
      "metadata": {
        "id": "M6i3HX0kKr-8"
      },
      "source": [
        "Equality"
      ]
    },
    {
      "cell_type": "code",
      "execution_count": null,
      "metadata": {
        "id": "Mdc2MNKVKr-9",
        "outputId": "72927be9-3f45-4e6a-d82a-84f992e2fdc4"
      },
      "outputs": [
        {
          "data": {
            "text/plain": [
              "True"
            ]
          },
          "execution_count": 56,
          "metadata": {},
          "output_type": "execute_result"
        }
      ],
      "source": [
        "michael_bp == alice_bp"
      ]
    },
    {
      "cell_type": "markdown",
      "metadata": {
        "id": "hY9UKIwjKr-9"
      },
      "source": [
        "Inequality"
      ]
    },
    {
      "cell_type": "code",
      "execution_count": null,
      "metadata": {
        "id": "5zi3CD3FKr--",
        "outputId": "c88fcd86-e0a7-4885-8e3d-b8d9faf8e36f"
      },
      "outputs": [
        {
          "data": {
            "text/plain": [
              "False"
            ]
          },
          "execution_count": 57,
          "metadata": {},
          "output_type": "execute_result"
        }
      ],
      "source": [
        "michael_bp != alice_bp"
      ]
    },
    {
      "cell_type": "code",
      "execution_count": null,
      "metadata": {
        "id": "HwMJ2-DdKr-_",
        "outputId": "65482ac9-067a-4d90-cb6a-f88b12df44a4"
      },
      "outputs": [
        {
          "data": {
            "text/plain": [
              "True"
            ]
          },
          "execution_count": 58,
          "metadata": {},
          "output_type": "execute_result"
        }
      ],
      "source": [
        "michael_bp != eve_bp"
      ]
    },
    {
      "cell_type": "markdown",
      "metadata": {
        "id": "rcODYwziKr-_"
      },
      "source": [
        "Greater than or equal to"
      ]
    },
    {
      "cell_type": "code",
      "execution_count": null,
      "metadata": {
        "id": "TWda32T3Kr-_",
        "outputId": "4aafe171-9a54-4ede-c6dd-79af6f39d214"
      },
      "outputs": [
        {
          "data": {
            "text/plain": [
              "True"
            ]
          },
          "execution_count": 59,
          "metadata": {},
          "output_type": "execute_result"
        }
      ],
      "source": [
        "michael_bp >= eve_bp"
      ]
    },
    {
      "cell_type": "markdown",
      "metadata": {
        "id": "cR4N0J4EKr_A"
      },
      "source": [
        "## How do I test strings?"
      ]
    },
    {
      "cell_type": "code",
      "execution_count": null,
      "metadata": {
        "id": "L3fjUDLAKr_A"
      },
      "outputs": [],
      "source": [
        "message = \"WARNING: Too High!\""
      ]
    },
    {
      "cell_type": "code",
      "execution_count": null,
      "metadata": {
        "id": "-QOyYhOHKr_B",
        "outputId": "c5860938-a5b4-4db5-b4ba-e99141ee5a41"
      },
      "outputs": [
        {
          "data": {
            "text/plain": [
              "True"
            ]
          },
          "execution_count": 61,
          "metadata": {},
          "output_type": "execute_result"
        }
      ],
      "source": [
        "message.startswith(\"WARNING\")"
      ]
    },
    {
      "cell_type": "code",
      "execution_count": null,
      "metadata": {
        "id": "cwUiiq-aKr_D",
        "outputId": "87342e33-38d7-4922-d9a0-01e5a0f9c251"
      },
      "outputs": [
        {
          "data": {
            "text/plain": [
              "False"
            ]
          },
          "execution_count": 62,
          "metadata": {},
          "output_type": "execute_result"
        }
      ],
      "source": [
        "message.endswith(\"Low!\")"
      ]
    },
    {
      "cell_type": "code",
      "execution_count": null,
      "metadata": {
        "id": "r6gqx9cvKr_D",
        "outputId": "480572c7-7c51-44f7-f611-5fc28501aa03"
      },
      "outputs": [
        {
          "data": {
            "text/plain": [
              "True"
            ]
          },
          "execution_count": 63,
          "metadata": {},
          "output_type": "execute_result"
        }
      ],
      "source": [
        "\"WARNING\" in message"
      ]
    },
    {
      "cell_type": "markdown",
      "metadata": {
        "id": "wM26qf2KKr_E"
      },
      "source": [
        "## How do I logically combine comparisons?"
      ]
    },
    {
      "cell_type": "markdown",
      "metadata": {
        "id": "H3dRHVfFKr_E"
      },
      "source": [
        "#### `and`\n",
        "\n",
        "Are *both* conditions true?"
      ]
    },
    {
      "cell_type": "code",
      "execution_count": null,
      "metadata": {
        "scrolled": true,
        "id": "CxyU4uKpKr_E",
        "outputId": "d9b14bc5-6e30-4970-a62d-7578e7d16246"
      },
      "outputs": [
        {
          "data": {
            "text/plain": [
              "True"
            ]
          },
          "execution_count": 64,
          "metadata": {},
          "output_type": "execute_result"
        }
      ],
      "source": [
        "(\"WARNING\" in message) and (michael_bp >= eve_bp)"
      ]
    },
    {
      "cell_type": "code",
      "execution_count": null,
      "metadata": {
        "id": "0CiI4ZMgKr_F"
      },
      "outputs": [],
      "source": [
        "safe_max = 150\n",
        "safe_min = 80"
      ]
    },
    {
      "cell_type": "markdown",
      "metadata": {
        "id": "6P9SBGQrKr_F"
      },
      "source": [
        "#### `or`\n",
        "\n",
        "Is *either* condition `True` ?"
      ]
    },
    {
      "cell_type": "code",
      "execution_count": null,
      "metadata": {
        "id": "iR2okMuoKr_G",
        "outputId": "d22dd1ea-35e0-4293-ad33-8de25cac3c81"
      },
      "outputs": [
        {
          "data": {
            "text/plain": [
              "False"
            ]
          },
          "execution_count": 68,
          "metadata": {},
          "output_type": "execute_result"
        }
      ],
      "source": [
        "michael_bp < safe_max"
      ]
    },
    {
      "cell_type": "code",
      "execution_count": null,
      "metadata": {
        "scrolled": true,
        "id": "OEkukBMpKr_G",
        "outputId": "29e40908-8a8f-4dd6-8b88-293a658327dd"
      },
      "outputs": [
        {
          "data": {
            "text/plain": [
              "True"
            ]
          },
          "execution_count": 67,
          "metadata": {},
          "output_type": "execute_result"
        }
      ],
      "source": [
        "eve_bp < safe_max"
      ]
    },
    {
      "cell_type": "code",
      "execution_count": null,
      "metadata": {
        "id": "dlfG84KqKr_G",
        "outputId": "bafe3e72-322f-4672-f490-6ab96a8c1d5c"
      },
      "outputs": [
        {
          "data": {
            "text/plain": [
              "True"
            ]
          },
          "execution_count": 69,
          "metadata": {},
          "output_type": "execute_result"
        }
      ],
      "source": [
        "(eve_bp < safe_max) or (michael_bp < safe_max)"
      ]
    },
    {
      "cell_type": "markdown",
      "metadata": {
        "id": "6G7RgSbZKr_H"
      },
      "source": [
        "#### `not`\n",
        "\n",
        "Isn't the condition `True`?"
      ]
    },
    {
      "cell_type": "code",
      "execution_count": null,
      "metadata": {
        "id": "4hc-VMTPKr_H",
        "outputId": "3bcca85c-e9ed-4c9a-ae86-63cbb7b7f735"
      },
      "outputs": [
        {
          "data": {
            "text/plain": [
              "False"
            ]
          },
          "execution_count": 70,
          "metadata": {},
          "output_type": "execute_result"
        }
      ],
      "source": [
        "not (\"WARNING\" in message)"
      ]
    },
    {
      "cell_type": "markdown",
      "metadata": {
        "id": "ERSgdy5YKr_H"
      },
      "source": [
        "... sometimes python let's you place `not` in the middle of a condition because it reads better.."
      ]
    },
    {
      "cell_type": "code",
      "execution_count": null,
      "metadata": {
        "id": "UGtPqWCsKr_I",
        "outputId": "e7d2de7a-9fad-4855-87d9-09783c148873"
      },
      "outputs": [
        {
          "data": {
            "text/plain": [
              "False"
            ]
          },
          "execution_count": 71,
          "metadata": {},
          "output_type": "execute_result"
        }
      ],
      "source": [
        "\"WARNING\" not in message"
      ]
    },
    {
      "cell_type": "markdown",
      "metadata": {
        "id": "FFJ8HfDnKr_T"
      },
      "source": [
        "## How do I use complex conditions to make decisions?"
      ]
    },
    {
      "cell_type": "code",
      "execution_count": null,
      "metadata": {
        "id": "JYwSHbueKr_T",
        "outputId": "cec0ddc5-345d-4c02-9fa6-75e66e944135"
      },
      "outputs": [
        {
          "name": "stdout",
          "output_type": "stream",
          "text": [
            "GO TO HOSPITAL\n"
          ]
        }
      ],
      "source": [
        "if (\"WARNING\" in message) and (michael_bp > safe_max):\n",
        "    print(\"GO TO HOSPITAL\")\n",
        "else:\n",
        "    print(\"STAY AT HOME\")"
      ]
    },
    {
      "cell_type": "markdown",
      "metadata": {
        "id": "JXX_U6TKKr_U"
      },
      "source": [
        "## Exercise (20min)"
      ]
    },
    {
      "cell_type": "markdown",
      "metadata": {
        "id": "vuTzcFP4Kr_V"
      },
      "source": [
        "(review notes)\n",
        "\n",
        "\n",
        "Your goal in this exercise is to simualte tracking health data for a user, and provide them with a custom health warning message if there are any issues with their health data. \n",
        "\n",
        "#### Part 1\n",
        "Ask the user for a single HR and BP reading. \n",
        "\n",
        "Report a warning based on where *both* of these values fall. \n",
        "\n",
        "* bad signs\n",
        "    * HR > 200 \n",
        "    * BP > 200 \n",
        "    * HR > 150, BP > 170 \n",
        "    * come up with your own conditions for the low warnings range\n",
        "\n",
        "\n",
        "#### Part 2\n",
        "Ask the user how they are feeling. Offer the user some advice on their mental health. \n",
        "\n",
        "* bad signs\n",
        "    * does the response contain \"sad\"\n",
        "    * does it end with \"!?\"\n",
        "* good signs\n",
        "    * does it contain \"happy\"\n",
        "    * does it end with \"!\""
      ]
    },
    {
      "cell_type": "markdown",
      "metadata": {
        "id": "wJfgbTEdKr_X"
      },
      "source": [
        "## Solution"
      ]
    },
    {
      "cell_type": "code",
      "execution_count": null,
      "metadata": {
        "id": "6jFJC4TvKr_Y",
        "outputId": "f86ce0c7-7b3e-4eae-aac4-86b9339fb4e3"
      },
      "outputs": [
        {
          "name": "stdout",
          "output_type": "stream",
          "text": [
            "BP?0459\n",
            "HR?4059\n",
            "WARNING\n"
          ]
        }
      ],
      "source": [
        "bp = float(input(\"BP?\"))\n",
        "hr = float(input(\"HR?\"))\n",
        "\n",
        "if (bp > 200) or (hr > 200):\n",
        "    print(\"WARNING\")\n",
        "elif (bp > 150) and (hr > 170):\n",
        "    print(\"WARNING\")\n",
        "elif (bp < 100) and (hr < 40):\n",
        "    print(\"WARNING\")\n",
        "else:\n",
        "    print(\"OK!\")"
      ]
    },
    {
      "cell_type": "code",
      "execution_count": null,
      "metadata": {
        "id": "Lq4pIpcYKr_Z",
        "outputId": "5440be2a-da04-4fc8-94e1-3c92dc7fed0b"
      },
      "outputs": [
        {
          "name": "stdout",
          "output_type": "stream",
          "text": [
            "How do you feel? i'm sad\n"
          ]
        }
      ],
      "source": [
        "feeling = input(\"How do you feel? \")"
      ]
    },
    {
      "cell_type": "code",
      "execution_count": null,
      "metadata": {
        "id": "r4XTznHTKr_Z",
        "outputId": "519d9ebd-4a0b-4123-c92e-0ec51530a5af"
      },
      "outputs": [
        {
          "name": "stdout",
          "output_type": "stream",
          "text": [
            "try some exercise!\n"
          ]
        }
      ],
      "source": [
        "if (\"sad\" in feeling) or (feeling.endswith(\"!?\")):\n",
        "    print(\"try some exercise!\")\n",
        "elif (\"happy\" in feeling) or (feeling.endswith(\"!\")):\n",
        "    print(\"try relaxing\")\n",
        "else:\n",
        "    print(\"not possible to offer advice\")"
      ]
    },
    {
      "cell_type": "code",
      "execution_count": null,
      "metadata": {
        "id": "ZJi7Ok2cKr_b"
      },
      "outputs": [],
      "source": [
        ""
      ]
    }
  ],
  "metadata": {
    "kernelspec": {
      "display_name": "Python 3 (ipykernel)",
      "language": "python",
      "name": "python3"
    },
    "language_info": {
      "codemirror_mode": {
        "name": "ipython",
        "version": 3
      },
      "file_extension": ".py",
      "mimetype": "text/x-python",
      "name": "python",
      "nbconvert_exporter": "python",
      "pygments_lexer": "ipython3",
      "version": "3.9.7"
    },
    "colab": {
      "name": "13_IntroPyDecisions.ipynb",
      "provenance": [],
      "include_colab_link": true
    }
  },
  "nbformat": 4,
  "nbformat_minor": 0
}