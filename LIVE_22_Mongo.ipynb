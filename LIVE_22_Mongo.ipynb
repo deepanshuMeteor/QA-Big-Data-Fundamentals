{
  "cells": [
    {
      "cell_type": "markdown",
      "metadata": {
        "id": "view-in-github",
        "colab_type": "text"
      },
      "source": [
        "<a href=\"https://colab.research.google.com/github/deepanshuMeteor/QA-Big-Data-Fundamentals/blob/main/LIVE_22_Mongo.ipynb\" target=\"_parent\"><img src=\"https://colab.research.google.com/assets/colab-badge.svg\" alt=\"Open In Colab\"/></a>"
      ]
    },
    {
      "cell_type": "markdown",
      "metadata": {
        "id": "ZirdDa_OolGW"
      },
      "source": [
        "# Fundamentals of Big Data\n",
        "## Notes 1.1, Document Databases with MongoDB\n",
        "\n",
        "---"
      ]
    },
    {
      "cell_type": "markdown",
      "metadata": {
        "id": "dIoa9LnVolGZ"
      },
      "source": [
        "## How do I obtain an example mongo db on the cloud?"
      ]
    },
    {
      "cell_type": "markdown",
      "metadata": {
        "id": "XjDCuH1AolGZ"
      },
      "source": [
        "* go to mongodb.com\n",
        "* TRY FREE\n",
        "    * SIGN UP (with any email)\n",
        "    * SKIP any \"Skip\" pages\n",
        "    * CREATE **FREE** CLUSTER\n",
        "    * GREEN **\"CREATE CLUSTER\"** BUTTON in BOTTOM RIGHT\n",
        "\n",
        "* Clusters Screen\n",
        "    * Under the Cluster0\n",
        "    * Press CONNECT\n",
        "    * Press \"Add Your Current IP Address\"\n",
        "        * Pres \"Add IP Address\"\n",
        "    * Create a User\n",
        "        * eg., admin/1234\n",
        "    * Press \"Create MongoDB User\"\n",
        "    * Press \"Choose a connection method\"\n",
        "    * Press \"Connect to Your Application\"\n",
        "        * Choose \"Python\" in drop down, and version \"3.6+\"\n",
        "        * Choose \"full driver example\"\n",
        "            * Press \"Copy\" \n",
        "            * Create a new notebook and paste into a cell \n",
        "            * change `<password>` to `1234`\n",
        "\n",
        "\n",
        "### Part 2:\n",
        "* Run `!pip install pymongo dnspython` until it reads `Requirement already satisfied`\n",
        "* Add `import pymongo`\n",
        "* Change `<password>` in the connection string to the password you set for the admin user"
      ]
    },
    {
      "cell_type": "markdown",
      "metadata": {
        "id": "tx4R97omolGa"
      },
      "source": [
        "## How do I install MongoDB python libraries?"
      ]
    },
    {
      "cell_type": "code",
      "execution_count": null,
      "metadata": {
        "id": "qCpoVRUColGc",
        "outputId": "e8f0b27d-f4e4-4eeb-9f23-7ba33a9ba8a5"
      },
      "outputs": [
        {
          "name": "stdout",
          "output_type": "stream",
          "text": [
            "Requirement already satisfied: pymongo in /opt/anaconda3/lib/python3.8/site-packages (3.11.1)\n",
            "Requirement already satisfied: dnspython in /opt/anaconda3/lib/python3.8/site-packages (2.0.0)\n"
          ]
        }
      ],
      "source": [
        "!pip install pymongo dnspython"
      ]
    },
    {
      "cell_type": "markdown",
      "metadata": {
        "id": "S6hFHtmuolGe"
      },
      "source": [
        "## How do I import mongo?"
      ]
    },
    {
      "cell_type": "code",
      "execution_count": null,
      "metadata": {
        "id": "X7IkOMAsolGf"
      },
      "outputs": [],
      "source": [
        "import pymongo"
      ]
    },
    {
      "cell_type": "markdown",
      "metadata": {
        "id": "XGEZEp--olGf"
      },
      "source": [
        "## How do I connect to a running mongo instance?"
      ]
    },
    {
      "cell_type": "code",
      "execution_count": null,
      "metadata": {
        "id": "-3CSiLVcolGg"
      },
      "outputs": [],
      "source": [
        "client = pymongo.MongoClient(\"127.0.0.1\")"
      ]
    },
    {
      "cell_type": "markdown",
      "metadata": {
        "id": "5ePSZDgLolGh"
      },
      "source": [
        "## How do I select a database?"
      ]
    },
    {
      "cell_type": "markdown",
      "metadata": {
        "id": "-ZpVbc_yolGi"
      },
      "source": [
        "Select the `test` database from the connection:"
      ]
    },
    {
      "cell_type": "code",
      "execution_count": null,
      "metadata": {
        "id": "l9EQhjwAolGj"
      },
      "outputs": [],
      "source": [
        "db = client.test"
      ]
    },
    {
      "cell_type": "code",
      "execution_count": null,
      "metadata": {
        "id": "XyfMwoQColGk",
        "outputId": "1aa57ac5-e60a-4956-8fd4-2f72da898e3b"
      },
      "outputs": [
        {
          "data": {
            "text/plain": [
              "Database(MongoClient(host=['127.0.0.1:27017'], document_class=dict, tz_aware=False, connect=True), 'test')"
            ]
          },
          "execution_count": 40,
          "metadata": {},
          "output_type": "execute_result"
        }
      ],
      "source": [
        "db"
      ]
    },
    {
      "cell_type": "markdown",
      "metadata": {
        "id": "oJpLLPNgolGk"
      },
      "source": [
        "## How can I use mongo locally?"
      ]
    },
    {
      "cell_type": "markdown",
      "metadata": {
        "id": "uNhbA1LuolGl"
      },
      "source": [
        "Mongo provides a querying shell:"
      ]
    },
    {
      "cell_type": "markdown",
      "metadata": {
        "id": "BN98T24FolGl"
      },
      "source": [
        "```bash \n",
        "\n",
        "(base) michael@192 ~ % mongo\n",
        "MongoDB shell version v4.4.1\n",
        "connecting to: mongodb://127.0.0.1:27017\n",
        "Implicit session: session { \"id\" : UUID(\"903f64e2-ed3d-417f-94ff-08859615b6a8\") }\n",
        "MongoDB server version: 4.4.1\n",
        "Welcome to the MongoDB shell.\n",
        "```\n",
        "\n",
        "    "
      ]
    },
    {
      "cell_type": "markdown",
      "metadata": {
        "id": "fniCTZIpolGl"
      },
      "source": [
        "At which, for example, you can create a user:"
      ]
    },
    {
      "cell_type": "markdown",
      "metadata": {
        "id": "h5ZN0Cd9olGm"
      },
      "source": [
        "```bash\n",
        "> db.createUser( { \"user\": \"admin\", \"pwd\": \"1234\", \"customData\": { \"employeeId\": 12345 },\n",
        "...                  \"roles\": [ { role: \"clusterAdmin\", db: \"admin\" }, \"readWrite\"] },\n",
        "...                { \"w\": \"majority\" , \"wtimeout\": 5000 } )\n",
        "\n",
        "Successfully added user: {\n",
        "\t\"user\" : \"admin\",\n",
        "\t\"customData\" : {\n",
        "\t\t\"employeeId\" : 12345\n",
        "\t},\n",
        "\t\"roles\" : [\n",
        "\t\t{\n",
        "\t\t\t\"role\" : \"clusterAdmin\",\n",
        "\t\t\t\"db\" : \"admin\"\n",
        "\t\t},\n",
        "\t\t\"readWrite\"\n",
        "\t]\n",
        "}\n",
        "> \n",
        "\n",
        "```"
      ]
    },
    {
      "cell_type": "markdown",
      "metadata": {
        "id": "E-0x9EOfolGm"
      },
      "source": [
        "```bash\n",
        "\n",
        "> show databases\n",
        "admin   0.000GB\n",
        "config  0.000GB\n",
        "local   0.000GB\n",
        "test    0.000GB\n",
        "> use test\n",
        "switched to db test\n",
        "> db.people.find()\n",
        "{ \"_id\" : ObjectId(\"5fbcff4626d654e250c0d8d8\"), \"name\" : \"Sherlock\", \"age\" : 18, \"fav_hat\" : \"deer stalker\", \"location\" : \"Baker Street\", \"history\" : [ { \"location\" : \"Manchester\", \"postcode\" : \"MA1 1AP\" }, { \"location\" : \"Paris\", \"postcode\" : \"Notre\" }, { \"location\" : \"New York\", \"postcode\" : \"90210\" } ] }\n",
        "{ \"_id\" : ObjectId(\"5fbd03e726d654e250c0d8d9\"), \"name\" : \"Michael\", \"fav_color\" : \"purple\", \"age\" : 18, \"location\" : \"Old Street\", \"history\" : [ { \"location\" : \"Leeds\", \"postcode\" : \"LS1 1LU\" }, { \"location\" : \"Paris\", \"postcode\" : \"Notre\" }, { \"location\" : \"New York\", \"postcode\" : \"90210\" } ] }\n",
        "> \n",
        "\n",
        "\n",
        "```"
      ]
    },
    {
      "cell_type": "markdown",
      "metadata": {
        "id": "dPh4mDxKolGn"
      },
      "source": [
        "## How do I choose a `collection` (aka. table)?"
      ]
    },
    {
      "cell_type": "markdown",
      "metadata": {
        "id": "MgvJ7vbrolGn"
      },
      "source": [
        "`db.COLLECTION_NAME` if this doesn't exist, mongo will create:"
      ]
    },
    {
      "cell_type": "code",
      "execution_count": null,
      "metadata": {
        "id": "8Adnb113olGo",
        "outputId": "d3696e9f-40e6-40cf-b310-3e95fbf549ce"
      },
      "outputs": [
        {
          "data": {
            "text/plain": [
              "Collection(Database(MongoClient(host=['127.0.0.1:27017'], document_class=dict, tz_aware=False, connect=True), 'test'), 'people')"
            ]
          },
          "execution_count": 42,
          "metadata": {},
          "output_type": "execute_result"
        }
      ],
      "source": [
        "db.people"
      ]
    },
    {
      "cell_type": "markdown",
      "metadata": {
        "id": "2nTH0NTGolGo"
      },
      "source": [
        "no need to do \"create table\" (esp. because no explicit schema). "
      ]
    },
    {
      "cell_type": "markdown",
      "metadata": {
        "id": "mGZfEd3IolGp"
      },
      "source": [
        "## What are documents?"
      ]
    },
    {
      "cell_type": "code",
      "execution_count": null,
      "metadata": {
        "id": "cnO41fpAolGp"
      },
      "outputs": [],
      "source": [
        "person_document1 = {\n",
        "    'name': 'Michael',\n",
        "    'fav_color': 'purple',\n",
        "    'age': 18,\n",
        "    'location': 'Old Street',\n",
        "    'history': [\n",
        "        {'location': 'Leeds', 'postcode': 'LS1 1LU'},\n",
        "        {'location': 'Paris', 'postcode': 'Notre'},\n",
        "        {'location': 'New York', 'postcode': '90210'},\n",
        "    ],\n",
        "}"
      ]
    },
    {
      "cell_type": "code",
      "execution_count": null,
      "metadata": {
        "id": "C2exs5zzolGp"
      },
      "outputs": [],
      "source": [
        "person_document2 = {\n",
        "    'name': 'Sherlock',\n",
        "    'age': 18,\n",
        "    'fav_hat': 'deer stalker',\n",
        "    'location': 'Baker Street',\n",
        "    'history': [\n",
        "        {'location': 'Manchester', 'postcode': 'MA1 1AP'},\n",
        "        {'location': 'Paris', 'postcode': 'Notre'},\n",
        "        {'location': 'New York', 'postcode': '90210'},\n",
        "    ]\n",
        "}"
      ]
    },
    {
      "cell_type": "markdown",
      "metadata": {
        "id": "mmd5nRKJolGs"
      },
      "source": [
        "## How do I insert documents?"
      ]
    },
    {
      "cell_type": "code",
      "execution_count": null,
      "metadata": {
        "id": "3VAr_QmVolGt",
        "outputId": "abaedda9-d9af-4d21-9f9e-28dc165cad83"
      },
      "outputs": [
        {
          "data": {
            "text/plain": [
              "<pymongo.results.InsertOneResult at 0x7f98405a3e00>"
            ]
          },
          "execution_count": 37,
          "metadata": {},
          "output_type": "execute_result"
        }
      ],
      "source": [
        "db.people.insert_one(person_document1)"
      ]
    },
    {
      "cell_type": "markdown",
      "metadata": {
        "id": "1Z-6j3apolGv"
      },
      "source": [
        "## How do I select (\"find\") documents?"
      ]
    },
    {
      "cell_type": "markdown",
      "metadata": {
        "id": "IxpyEXQ-olGv"
      },
      "source": [
        "Mongo operations in python, do not run the query:"
      ]
    },
    {
      "cell_type": "code",
      "execution_count": null,
      "metadata": {
        "id": "xOK09sEuolGw",
        "outputId": "1527bb14-62e1-4ad9-a6d1-6f0119e57fb9"
      },
      "outputs": [
        {
          "data": {
            "text/plain": [
              "<pymongo.cursor.Cursor at 0x7f98600cdd30>"
            ]
          },
          "execution_count": 46,
          "metadata": {},
          "output_type": "execute_result"
        }
      ],
      "source": [
        "db.people.find()"
      ]
    },
    {
      "cell_type": "markdown",
      "metadata": {
        "id": "y-dSQ7udolGx"
      },
      "source": [
        "...this does not compute the result set. It just sets up the query.\n",
        "\n",
        "You can compute using `list()` (ie., convert it to a list):"
      ]
    },
    {
      "cell_type": "code",
      "execution_count": null,
      "metadata": {
        "id": "svhLGFL6olGx",
        "outputId": "402759d5-45e1-4263-c039-5392083422d9"
      },
      "outputs": [
        {
          "data": {
            "text/plain": [
              "[{'_id': ObjectId('5fbcff4626d654e250c0d8d8'),\n",
              "  'name': 'Sherlock',\n",
              "  'age': 18,\n",
              "  'fav_hat': 'deer stalker',\n",
              "  'location': 'Baker Street',\n",
              "  'history': [{'location': 'Manchester', 'postcode': 'MA1 1AP'},\n",
              "   {'location': 'Paris', 'postcode': 'Notre'},\n",
              "   {'location': 'New York', 'postcode': '90210'}]},\n",
              " {'_id': ObjectId('5fbd03e726d654e250c0d8d9'),\n",
              "  'name': 'Michael',\n",
              "  'fav_color': 'purple',\n",
              "  'age': 18,\n",
              "  'location': 'Old Street',\n",
              "  'history': [{'location': 'Leeds', 'postcode': 'LS1 1LU'},\n",
              "   {'location': 'Paris', 'postcode': 'Notre'},\n",
              "   {'location': 'New York', 'postcode': '90210'}]}]"
            ]
          },
          "execution_count": 45,
          "metadata": {},
          "output_type": "execute_result"
        }
      ],
      "source": [
        "list(db.people.find())"
      ]
    },
    {
      "cell_type": "markdown",
      "metadata": {
        "id": "ncAC9PQgolGy"
      },
      "source": [
        "The data is \"load on demand\" (ie., its an iterator) which computes the results on-demand:"
      ]
    },
    {
      "cell_type": "code",
      "execution_count": null,
      "metadata": {
        "id": "Te0X2M5folGy",
        "outputId": "f0e6f256-2e26-4a0f-a6fb-73fd51d12ed8"
      },
      "outputs": [
        {
          "name": "stdout",
          "output_type": "stream",
          "text": [
            "Sherlock\n",
            "Michael\n"
          ]
        }
      ],
      "source": [
        "for doc in db.people.find():\n",
        "    print(doc['name'])"
      ]
    },
    {
      "cell_type": "markdown",
      "metadata": {
        "id": "O59yzhZIolGy"
      },
      "source": [
        "Above, each name is produced \"on-demand\", the whole result set isn't in memory. "
      ]
    },
    {
      "cell_type": "markdown",
      "metadata": {
        "id": "N8E9G2MOolGz"
      },
      "source": [
        "## Exercise (20 minutes)\n",
        "\n",
        "* Review this file, and addition Mongo Notes\n",
        "* Create a collection of documents for yourself\n",
        "    * eg., create a collection of film reviews\n",
        "* Query this collection using `.find()`\n",
        "    * eg., obtain all reviews, reviews matching a condition, etc.\n",
        "* Review the mongo documentation\n",
        "    * eg.,  https://docs.mongodb.com/manual/reference/method/db.collection.find/"
      ]
    },
    {
      "cell_type": "markdown",
      "metadata": {
        "id": "ttUuanIfolGz"
      },
      "source": [
        "## What is a use case of a mixed schema document database?"
      ]
    },
    {
      "cell_type": "markdown",
      "metadata": {
        "id": "WYjBTyHlolG0"
      },
      "source": [
        "Almost all applications, almost all developers require & should use schema. \n",
        "\n",
        "eg., advertising, dating website,.... \n",
        "\n",
        "Consider a website which tracks users, and conditionally fills-in demograph & profile information if it can be obtained/inferred. \n",
        "\n",
        "\n",
        "```\n",
        "user1 = {\n",
        "  age:\n",
        "  location:\n",
        "  gender:\n",
        "  purchases:\n",
        "  visithistory:\n",
        "  events: \n",
        "  //...1000s \n",
        "}\n",
        "\n",
        "user2 = {\n",
        " age:\n",
        " location:\n",
        " lastvisit:\n",
        "}\n",
        "\n",
        "\n",
        "user3 = {\n",
        " newfield:\n",
        "}\n",
        "\n",
        "```"
      ]
    },
    {
      "cell_type": "code",
      "execution_count": null,
      "metadata": {
        "id": "cZiYCoPfolG0"
      },
      "outputs": [],
      "source": [
        "def predict_likewine():\n",
        "    pass\n",
        "\n",
        "def predict_likefilm():\n",
        "    pass"
      ]
    }
  ],
  "metadata": {
    "kernelspec": {
      "display_name": "Python 3 (ipykernel)",
      "language": "python",
      "name": "python3"
    },
    "language_info": {
      "codemirror_mode": {
        "name": "ipython",
        "version": 3
      },
      "file_extension": ".py",
      "mimetype": "text/x-python",
      "name": "python",
      "nbconvert_exporter": "python",
      "pygments_lexer": "ipython3",
      "version": "3.9.7"
    },
    "colab": {
      "name": "LIVE_22_Mongo.ipynb",
      "provenance": [],
      "include_colab_link": true
    }
  },
  "nbformat": 4,
  "nbformat_minor": 0
}