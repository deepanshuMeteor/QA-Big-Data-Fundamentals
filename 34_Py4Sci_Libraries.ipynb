{
  "cells": [
    {
      "cell_type": "markdown",
      "metadata": {
        "id": "view-in-github",
        "colab_type": "text"
      },
      "source": [
        "<a href=\"https://colab.research.google.com/github/deepanshuMeteor/QA-Big-Data-Fundamentals/blob/main/34_Py4Sci_Libraries.ipynb\" target=\"_parent\"><img src=\"https://colab.research.google.com/assets/colab-badge.svg\" alt=\"Open In Colab\"/></a>"
      ]
    },
    {
      "cell_type": "markdown",
      "metadata": {
        "id": "bksFfXQg4mD7"
      },
      "source": [
        "# Introduction to Libraries in Python"
      ]
    },
    {
      "cell_type": "markdown",
      "metadata": {
        "id": "m6y3jPdT4mEG"
      },
      "source": [
        "## What is a library?"
      ]
    },
    {
      "cell_type": "markdown",
      "metadata": {
        "id": "6YyZLFW_4mEH"
      },
      "source": [
        "Below we open and display the \"prg.py\" file... \n",
        "\n",
        "(NB. the only reason to do this is to include the file contents here, so we can see it!)."
      ]
    },
    {
      "cell_type": "code",
      "execution_count": 1,
      "metadata": {
        "colab": {
          "base_uri": "https://localhost:8080/"
        },
        "id": "nZfqDuZn4mEK",
        "outputId": "c330656a-920a-4580-e134-26fddfc3070d"
      },
      "outputs": [
        {
          "output_type": "stream",
          "name": "stdout",
          "text": [
            "name = \"Michael\"\n",
            "\n",
            "2 ** 3\n",
            "\n",
            "print(2 ** 3)\n"
          ]
        }
      ],
      "source": [
        "print(open(\"prg.py\").read())"
      ]
    },
    {
      "cell_type": "markdown",
      "metadata": {
        "id": "jjp9Jo6O4mEQ"
      },
      "source": [
        "If you say `import filename` (without `.py`), python will run the file:"
      ]
    },
    {
      "cell_type": "code",
      "execution_count": 2,
      "metadata": {
        "colab": {
          "base_uri": "https://localhost:8080/"
        },
        "id": "2_owkAoG4mEQ",
        "outputId": "61468ed4-31f5-404e-9765-eb6062e1abc5"
      },
      "outputs": [
        {
          "output_type": "stream",
          "name": "stdout",
          "text": [
            "8\n"
          ]
        }
      ],
      "source": [
        "import prg"
      ]
    },
    {
      "cell_type": "markdown",
      "metadata": {
        "id": "-6b62tzR4mES"
      },
      "source": [
        "Anything defined inside the file is available as `prg.`. "
      ]
    },
    {
      "cell_type": "code",
      "execution_count": 3,
      "metadata": {
        "scrolled": true,
        "colab": {
          "base_uri": "https://localhost:8080/",
          "height": 35
        },
        "id": "lggC4_QY4mET",
        "outputId": "d3dbe05f-869e-4db6-88c6-a36e19d6a59e"
      },
      "outputs": [
        {
          "output_type": "execute_result",
          "data": {
            "text/plain": [
              "'Michael'"
            ],
            "application/vnd.google.colaboratory.intrinsic+json": {
              "type": "string"
            }
          },
          "metadata": {},
          "execution_count": 3
        }
      ],
      "source": [
        "prg.name"
      ]
    },
    {
      "cell_type": "markdown",
      "metadata": {
        "id": "yk1CRsuI4mEU"
      },
      "source": [
        "## What's the workflow for working with python modules and notebooks?"
      ]
    },
    {
      "cell_type": "markdown",
      "metadata": {
        "id": "w2Up-w6b4mEV"
      },
      "source": [
        "A `.py` file is called a *module* and may only contain python code.\n",
        "\n",
        "You can `import` modules. \n",
        "\n",
        "As a data analyst (, scientist, etc.) you will often first prototype (write) a solution in a notebook, and then transfer the key repeated, **shareable** elements to a module. "
      ]
    },
    {
      "cell_type": "code",
      "execution_count": null,
      "metadata": {
        "id": "4qBpEdNk4mEX"
      },
      "outputs": [],
      "source": [
        "a, b, x = 1, 2, 3\n",
        "\n",
        "result = a * x + b"
      ]
    },
    {
      "cell_type": "code",
      "execution_count": null,
      "metadata": {
        "id": "Ds9OANsl4mEY",
        "outputId": "d5d2eb88-d46f-48e8-fa2c-aeab69d30f01"
      },
      "outputs": [
        {
          "data": {
            "text/plain": [
              "5"
            ]
          },
          "execution_count": 5,
          "metadata": {},
          "output_type": "execute_result"
        }
      ],
      "source": [
        "import shared\n",
        "\n",
        "shared.result"
      ]
    },
    {
      "cell_type": "markdown",
      "metadata": {
        "id": "hqxVQGs14mEZ"
      },
      "source": [
        "## How do you define reusable functions?"
      ]
    },
    {
      "cell_type": "markdown",
      "metadata": {
        "id": "_0kybodQ4mEa"
      },
      "source": [
        "The `def` keyword defines a term `f` below, which is a function of one argument `x`. \n",
        "\n",
        "The function, when executed using `f()`, executes the block of indented code line-by-line. \n",
        "\n",
        "The line marked `return` is the value produced when the function is executed; ie., it is the *value* of that function. "
      ]
    },
    {
      "cell_type": "code",
      "execution_count": null,
      "metadata": {
        "id": "piBJc1WD4mEb",
        "outputId": "f7b503fc-2c17-4023-f93a-00967e99cbf3"
      },
      "outputs": [
        {
          "data": {
            "text/plain": [
              "5"
            ]
          },
          "execution_count": 6,
          "metadata": {},
          "output_type": "execute_result"
        }
      ],
      "source": [
        "def f(x):\n",
        "    a, b = 1, 2\n",
        "    \n",
        "    return a * x + b\n",
        "\n",
        "f(3)"
      ]
    },
    {
      "cell_type": "code",
      "execution_count": null,
      "metadata": {
        "id": "IIm0Goc34mEc",
        "outputId": "41649c8e-3f68-4721-ffce-5401c32ea060"
      },
      "outputs": [
        {
          "data": {
            "text/plain": [
              "9"
            ]
          },
          "execution_count": 7,
          "metadata": {},
          "output_type": "execute_result"
        }
      ],
      "source": [
        "f(7)"
      ]
    },
    {
      "cell_type": "markdown",
      "metadata": {
        "id": "3DrCqrMf4mEd"
      },
      "source": [
        "For any purely mathematical function, there will only be one-line, `return ...`."
      ]
    },
    {
      "cell_type": "markdown",
      "metadata": {
        "id": "II1lj4404mEd"
      },
      "source": [
        "$g(x)      =      x^2$\n",
        "\n",
        "`def g(x) return x ** 2`"
      ]
    },
    {
      "cell_type": "code",
      "execution_count": null,
      "metadata": {
        "id": "iWnG8bBC4mEe",
        "outputId": "861fc2e6-6cec-4968-fe43-b997239d9041"
      },
      "outputs": [
        {
          "data": {
            "text/plain": [
              "100"
            ]
          },
          "execution_count": 8,
          "metadata": {},
          "output_type": "execute_result"
        }
      ],
      "source": [
        "def g(x):\n",
        "    return x ** 2\n",
        "\n",
        "g(10)"
      ]
    },
    {
      "cell_type": "code",
      "execution_count": null,
      "metadata": {
        "id": "5w5UMpbt4mEe",
        "outputId": "70d95a56-9aad-4686-8498-286f235db4df"
      },
      "outputs": [
        {
          "name": "stdout",
          "output_type": "stream",
          "text": [
            "10\n"
          ]
        }
      ],
      "source": [
        "def g(x):\n",
        "    print(x)      # <- sending x to the screen  (THIS ISNT SAVED!)\n",
        "    \n",
        "    return x ** 2 # <- the result               (save to memory)\n",
        "\n",
        "result = g(10) # the return value is saved into the \"result\" variable"
      ]
    },
    {
      "cell_type": "code",
      "execution_count": null,
      "metadata": {
        "id": "KJ2TO6qk4mEf",
        "outputId": "3015e1ba-9fc6-41d9-a182-85509f427f7d"
      },
      "outputs": [
        {
          "name": "stdout",
          "output_type": "stream",
          "text": [
            "100\n"
          ]
        }
      ],
      "source": [
        "print(result) "
      ]
    },
    {
      "cell_type": "markdown",
      "metadata": {
        "id": "fHh8i5aO4mEg"
      },
      "source": [
        "## How do I share  a function?"
      ]
    },
    {
      "cell_type": "markdown",
      "metadata": {
        "id": "2EaN0d9I4mEh"
      },
      "source": [
        "* define the function\n",
        "* put it in a `.py` file\n",
        "* `import` the file in the notebooks you need"
      ]
    },
    {
      "cell_type": "code",
      "execution_count": null,
      "metadata": {
        "id": "BhguHhq94mEi",
        "outputId": "aa9df693-bfc9-4ba2-b82d-2441de085466"
      },
      "outputs": [
        {
          "data": {
            "text/plain": [
              "'C'"
            ]
          },
          "execution_count": 11,
          "metadata": {},
          "output_type": "execute_result"
        }
      ],
      "source": [
        "def classify_voter(x_age_yr, x_education_yr):\n",
        "    if x_age_yr >= 45:\n",
        "        return \"C\"\n",
        "    elif x_education_yr <= 1:\n",
        "        return \"C\"\n",
        "    else:\n",
        "        return \"L\"\n",
        "    \n",
        "classify_voter(44, 0)"
      ]
    },
    {
      "cell_type": "markdown",
      "metadata": {
        "id": "sBMqrsLs4mEi"
      },
      "source": [
        "Import (ie., run) the `shared.py` and use `s` as the prefix to refer to all of its names (ie., functions, variables, etc.)."
      ]
    },
    {
      "cell_type": "code",
      "execution_count": null,
      "metadata": {
        "id": "DBvLSnEG4mEj"
      },
      "outputs": [],
      "source": [
        "import shared as s"
      ]
    },
    {
      "cell_type": "code",
      "execution_count": null,
      "metadata": {
        "id": "jfWFrWl94mEj",
        "outputId": "2bfbc911-8c59-429a-ae64-df2709d26844"
      },
      "outputs": [
        {
          "data": {
            "text/plain": [
              "'C'"
            ]
          },
          "execution_count": 13,
          "metadata": {},
          "output_type": "execute_result"
        }
      ],
      "source": [
        "s.classify_voter(44, 0)"
      ]
    },
    {
      "cell_type": "code",
      "execution_count": null,
      "metadata": {
        "id": "CjtzMMsq4mEj",
        "outputId": "dc36bab7-d1f6-4e53-b31b-b0691b29c989"
      },
      "outputs": [
        {
          "data": {
            "text/plain": [
              "5"
            ]
          },
          "execution_count": 14,
          "metadata": {},
          "output_type": "execute_result"
        }
      ],
      "source": [
        "s.result"
      ]
    },
    {
      "cell_type": "markdown",
      "metadata": {
        "id": "MFlJwXjc4mEk"
      },
      "source": [
        "## What are the key data science libaries?"
      ]
    },
    {
      "cell_type": "markdown",
      "metadata": {
        "id": "twsTN8Dl4mEk"
      },
      "source": [
        "Anaconda includes `python` and all of the following libraries. "
      ]
    },
    {
      "cell_type": "markdown",
      "metadata": {
        "id": "jJnd5cuv4mEk"
      },
      "source": [
        "NumPy, Numerical Python: provides fast numerical arrays. "
      ]
    },
    {
      "cell_type": "code",
      "execution_count": null,
      "metadata": {
        "id": "J6IaK1zJ4mEk"
      },
      "outputs": [],
      "source": [
        "import numpy as np"
      ]
    },
    {
      "cell_type": "markdown",
      "metadata": {
        "id": "Jh9ZzdQw4mEl"
      },
      "source": [
        "Pandas: fast tables, based on numpy."
      ]
    },
    {
      "cell_type": "code",
      "execution_count": null,
      "metadata": {
        "id": "WXayzjyW4mEl"
      },
      "outputs": [],
      "source": [
        "import pandas as pd"
      ]
    },
    {
      "cell_type": "markdown",
      "metadata": {
        "id": "cefwOsI44mEl"
      },
      "source": [
        "Seaborn: Simple visualization library."
      ]
    },
    {
      "cell_type": "code",
      "execution_count": null,
      "metadata": {
        "id": "-uuwDd8I4mEl"
      },
      "outputs": [],
      "source": [
        "import seaborn as sns"
      ]
    },
    {
      "cell_type": "markdown",
      "metadata": {
        "id": "D7K_pbis4mEm"
      },
      "source": [
        "Matplotlib: more customizable visulization library (seaborn uses this). "
      ]
    },
    {
      "cell_type": "code",
      "execution_count": null,
      "metadata": {
        "id": "cRe1SJzT4mEm"
      },
      "outputs": [],
      "source": [
        "import matplotlib.pyplot as plt"
      ]
    },
    {
      "cell_type": "markdown",
      "metadata": {
        "id": "Zey5JDNx4mEm"
      },
      "source": [
        "Sci-Kit Learn: simple machine learning library. "
      ]
    },
    {
      "cell_type": "code",
      "execution_count": null,
      "metadata": {
        "id": "3gZ94iNK4mEn"
      },
      "outputs": [],
      "source": [
        "import sklearn as sk"
      ]
    },
    {
      "cell_type": "markdown",
      "metadata": {
        "id": "XZs7VZHy4mEn"
      },
      "source": [
        "Tensorflow: a library for running mathematical functions and tracking a gradient as you do so. This is mostly used for neural networks. \n",
        "\n",
        "(Aside: ie., it keeps track of how the loss changes, for almost any (complex) mathematical function). "
      ]
    },
    {
      "cell_type": "code",
      "execution_count": null,
      "metadata": {
        "id": "ubIf9Dx74mEn"
      },
      "outputs": [],
      "source": [
        "import tensorflow as tf"
      ]
    },
    {
      "cell_type": "markdown",
      "metadata": {
        "id": "gH3XQTna4mEn"
      },
      "source": [
        "NetworkX: (Social) Network Analysis"
      ]
    },
    {
      "cell_type": "code",
      "execution_count": null,
      "metadata": {
        "id": "Y783Pa2L4mEo"
      },
      "outputs": [],
      "source": [
        "import networkx as nx"
      ]
    },
    {
      "cell_type": "markdown",
      "metadata": {
        "id": "nKVTPjBb4mEo"
      },
      "source": [
        "## How do I install a python package? \n",
        "\n",
        "* package = unified libraries"
      ]
    },
    {
      "cell_type": "code",
      "execution_count": null,
      "metadata": {
        "id": "MSnCGlhO4mEo",
        "outputId": "639ea18b-836b-4c42-cc0d-c4b1f53ad015"
      },
      "outputs": [
        {
          "name": "stdout",
          "output_type": "stream",
          "text": [
            "Requirement already satisfied: networkx in /opt/anaconda3/lib/python3.8/site-packages (2.4)\r\n",
            "Requirement already satisfied: decorator>=4.3.0 in /opt/anaconda3/lib/python3.8/site-packages (from networkx) (4.4.2)\r\n"
          ]
        }
      ],
      "source": [
        "!pip install networkx"
      ]
    },
    {
      "cell_type": "markdown",
      "metadata": {
        "id": "DRsu5d4O4mEo"
      },
      "source": [
        "## Why do you need to use libraries?"
      ]
    },
    {
      "cell_type": "markdown",
      "metadata": {
        "id": "Y23f--5u4mEp"
      },
      "source": [
        "eg., NumPy provies \"fast arrays\"... why not just use lists?\n",
        "\n",
        "Python is **very** slow. So any syntax (keywords, data structures, etc.) are **slow**. \n",
        "\n",
        "How can NumPy be faster? Isn't numpy written in python? **NO!!**\n",
        "\n",
        "Almost all the code data scientists (, analysts) are using is not written in python. "
      ]
    },
    {
      "cell_type": "code",
      "execution_count": null,
      "metadata": {
        "id": "Grqnhiq14mEq",
        "outputId": "2501c8d9-602c-475f-86d6-5d3972be6929"
      },
      "outputs": [
        {
          "data": {
            "text/plain": [
              "array([-6.70818376,  0.1262422 , -1.45490117,  3.32989769, 12.57914692,\n",
              "        2.23088554, -0.47424464,  1.33968125,  0.21156761,  3.46445087])"
            ]
          },
          "execution_count": 30,
          "metadata": {},
          "output_type": "execute_result"
        }
      ],
      "source": [
        "np.random.normal(0, 5, 10)"
      ]
    },
    {
      "cell_type": "code",
      "execution_count": null,
      "metadata": {
        "scrolled": true,
        "id": "5wy1siaY4mEq",
        "outputId": "db67fe36-2298-4046-bde8-2cacb3ba50e5"
      },
      "outputs": [
        {
          "data": {
            "text/plain": [
              "-0.7182280008652338"
            ]
          },
          "execution_count": 31,
          "metadata": {},
          "output_type": "execute_result"
        }
      ],
      "source": [
        "x = np.random.normal(0, 5, 10)\n",
        "x.mean()"
      ]
    },
    {
      "cell_type": "markdown",
      "metadata": {
        "id": "EHlSHpHr4mEr"
      },
      "source": [
        "The `normal` function, and the `mean` function are written in either `FORTRAN` or `C` -- different languages which are much (, much) faster. \n",
        "\n",
        "You use a python name, eg., `x.mean`, but actually (compiled) `FORTRAN` code is being run. "
      ]
    },
    {
      "cell_type": "code",
      "execution_count": null,
      "metadata": {
        "id": "6Z6rKK5P4mEr",
        "outputId": "a20e9354-8a53-4777-bfcf-28999c0e6d4c"
      },
      "outputs": [
        {
          "name": "stdout",
          "output_type": "stream",
          "text": [
            "242 µs ± 2.42 µs per loop (mean ± std. dev. of 7 runs, 1000 loops each)\n"
          ]
        }
      ],
      "source": [
        "%%timeit\n",
        "\n",
        "x = np.random.normal(0, 5, 10_000) # <- happening elsewhere\n",
        "x.mean()# not python! "
      ]
    },
    {
      "cell_type": "code",
      "execution_count": null,
      "metadata": {
        "id": "YgQLDgv84mEs",
        "outputId": "0f308fd7-b3a5-44bf-c469-e31837aa7de9"
      },
      "outputs": [
        {
          "name": "stdout",
          "output_type": "stream",
          "text": [
            "7.64 ms ± 62.3 µs per loop (mean ± std. dev. of 7 runs, 100 loops each)\n"
          ]
        }
      ],
      "source": [
        "%%timeit \n",
        "\n",
        "import random # written in python\n",
        "import statistics # written in python\n",
        "\n",
        "# list <- python data structure\n",
        "x = []\n",
        "\n",
        "# for keyword <- python loop\n",
        "for i in range(10_000):\n",
        "    # .append\n",
        "    x.append( 5*random.random() ) # using python code\n",
        "    \n",
        "statistics.mean(x) # using python code"
      ]
    },
    {
      "cell_type": "markdown",
      "metadata": {
        "id": "eYyYoXbP4mEs"
      },
      "source": [
        "Python is >30x slower"
      ]
    },
    {
      "cell_type": "code",
      "execution_count": null,
      "metadata": {
        "id": "rwrzJ1jt4mEt",
        "outputId": "162fdd8e-0a65-42e6-9ba4-97d8bfa8dec5"
      },
      "outputs": [
        {
          "data": {
            "text/plain": [
              "31.570247933884296"
            ]
          },
          "execution_count": 38,
          "metadata": {},
          "output_type": "execute_result"
        }
      ],
      "source": [
        "7.64 / 0.242"
      ]
    },
    {
      "cell_type": "markdown",
      "metadata": {
        "id": "VQ2yL_ff4mEu"
      },
      "source": [
        "However, note that the numpy code is liekly to be the fastest you can possibly write (ie., its unlikely you will write faster in any other language). "
      ]
    },
    {
      "cell_type": "markdown",
      "metadata": {
        "id": "X7FSqSze4mEv"
      },
      "source": [
        "## How do the libraries work together?\n",
        "\n",
        "* NumPy \n",
        "    * arrays\n",
        "* Pandas\n",
        "    * tables (, data files, ...)\n",
        "* Seaborn\n",
        "    * visualization\n",
        "* Sklearn\n",
        "    * machine learning"
      ]
    },
    {
      "cell_type": "markdown",
      "metadata": {
        "id": "5Wyv6X444mEv"
      },
      "source": [
        "### 1. We use Pandas to Load a Dataset into a Table"
      ]
    },
    {
      "cell_type": "markdown",
      "metadata": {
        "id": "Qe83HeUO4mEw"
      },
      "source": [
        "`read_csv` loads a csv file into a *DataFrame* (aka. a table). "
      ]
    },
    {
      "cell_type": "code",
      "execution_count": null,
      "metadata": {
        "id": "2gFgz6r04mEw",
        "outputId": "d4a263fa-7d40-455d-85f3-c2944df8ec73"
      },
      "outputs": [
        {
          "data": {
            "text/plain": [
              "7500"
            ]
          },
          "execution_count": 96,
          "metadata": {},
          "output_type": "execute_result"
        }
      ],
      "source": [
        "loan = pd.read_csv('datasets/loan_train.csv')\n",
        "\n",
        "len(loan)"
      ]
    },
    {
      "cell_type": "markdown",
      "metadata": {
        "id": "11mXXXQ24mEw"
      },
      "source": [
        "### 2. Use Pandas to Explore & Prepare Data\n",
        "\n",
        "* Look at samples\n",
        "* Removing missing data"
      ]
    },
    {
      "cell_type": "code",
      "execution_count": null,
      "metadata": {
        "id": "joHaReVd4mEw",
        "outputId": "ea292c8a-37fc-49ae-cfcd-a478c2830abb"
      },
      "outputs": [
        {
          "data": {
            "text/html": [
              "<div>\n",
              "<style scoped>\n",
              "    .dataframe tbody tr th:only-of-type {\n",
              "        vertical-align: middle;\n",
              "    }\n",
              "\n",
              "    .dataframe tbody tr th {\n",
              "        vertical-align: top;\n",
              "    }\n",
              "\n",
              "    .dataframe thead th {\n",
              "        text-align: right;\n",
              "    }\n",
              "</style>\n",
              "<table border=\"1\" class=\"dataframe\">\n",
              "  <thead>\n",
              "    <tr style=\"text-align: right;\">\n",
              "      <th></th>\n",
              "      <th>Id</th>\n",
              "      <th>Home Ownership</th>\n",
              "      <th>Annual Income</th>\n",
              "      <th>Years in current job</th>\n",
              "      <th>Tax Liens</th>\n",
              "      <th>Number of Open Accounts</th>\n",
              "      <th>Years of Credit History</th>\n",
              "      <th>Maximum Open Credit</th>\n",
              "      <th>Number of Credit Problems</th>\n",
              "      <th>Months since last delinquent</th>\n",
              "      <th>Bankruptcies</th>\n",
              "      <th>Purpose</th>\n",
              "      <th>Term</th>\n",
              "      <th>Current Loan Amount</th>\n",
              "      <th>Current Credit Balance</th>\n",
              "      <th>Monthly Debt</th>\n",
              "      <th>Credit Score</th>\n",
              "      <th>Credit Default</th>\n",
              "    </tr>\n",
              "  </thead>\n",
              "  <tbody>\n",
              "    <tr>\n",
              "      <th>6812</th>\n",
              "      <td>6812</td>\n",
              "      <td>Rent</td>\n",
              "      <td>601312.0</td>\n",
              "      <td>2 years</td>\n",
              "      <td>0.0</td>\n",
              "      <td>10.0</td>\n",
              "      <td>11.4</td>\n",
              "      <td>202444.0</td>\n",
              "      <td>0.0</td>\n",
              "      <td>58.0</td>\n",
              "      <td>0.0</td>\n",
              "      <td>debt consolidation</td>\n",
              "      <td>Short Term</td>\n",
              "      <td>193644.0</td>\n",
              "      <td>139175.0</td>\n",
              "      <td>12277.0</td>\n",
              "      <td>738.0</td>\n",
              "      <td>1</td>\n",
              "    </tr>\n",
              "    <tr>\n",
              "      <th>480</th>\n",
              "      <td>480</td>\n",
              "      <td>Rent</td>\n",
              "      <td>1355745.0</td>\n",
              "      <td>2 years</td>\n",
              "      <td>0.0</td>\n",
              "      <td>9.0</td>\n",
              "      <td>19.8</td>\n",
              "      <td>322718.0</td>\n",
              "      <td>2.0</td>\n",
              "      <td>75.0</td>\n",
              "      <td>2.0</td>\n",
              "      <td>debt consolidation</td>\n",
              "      <td>Short Term</td>\n",
              "      <td>221100.0</td>\n",
              "      <td>226309.0</td>\n",
              "      <td>26211.0</td>\n",
              "      <td>743.0</td>\n",
              "      <td>0</td>\n",
              "    </tr>\n",
              "  </tbody>\n",
              "</table>\n",
              "</div>"
            ],
            "text/plain": [
              "        Id Home Ownership  Annual Income Years in current job  Tax Liens  \\\n",
              "6812  6812           Rent       601312.0              2 years        0.0   \n",
              "480    480           Rent      1355745.0              2 years        0.0   \n",
              "\n",
              "      Number of Open Accounts  Years of Credit History  Maximum Open Credit  \\\n",
              "6812                     10.0                     11.4             202444.0   \n",
              "480                       9.0                     19.8             322718.0   \n",
              "\n",
              "      Number of Credit Problems  Months since last delinquent  Bankruptcies  \\\n",
              "6812                        0.0                          58.0           0.0   \n",
              "480                         2.0                          75.0           2.0   \n",
              "\n",
              "                 Purpose        Term  Current Loan Amount  \\\n",
              "6812  debt consolidation  Short Term             193644.0   \n",
              "480   debt consolidation  Short Term             221100.0   \n",
              "\n",
              "      Current Credit Balance  Monthly Debt  Credit Score  Credit Default  \n",
              "6812                139175.0       12277.0         738.0               1  \n",
              "480                 226309.0       26211.0         743.0               0  "
            ]
          },
          "execution_count": 97,
          "metadata": {},
          "output_type": "execute_result"
        }
      ],
      "source": [
        "loan = loan.dropna()\n",
        "loan.sample(2)"
      ]
    },
    {
      "cell_type": "markdown",
      "metadata": {
        "id": "0ErftH9B4mEx"
      },
      "source": [
        "### 3. Choose Learning Columns & Extract as Fast NumPy arrays from Table"
      ]
    },
    {
      "cell_type": "code",
      "execution_count": null,
      "metadata": {
        "id": "-lbUG7W44mEx"
      },
      "outputs": [],
      "source": [
        "data = loan[['Current Credit Balance', 'Annual Income']].to_numpy()\n",
        "\n",
        "x = data[:, 0:1]\n",
        "y = data[:, 1]"
      ]
    },
    {
      "cell_type": "code",
      "execution_count": null,
      "metadata": {
        "id": "0_mbpjry4mEx",
        "outputId": "5c8f84d2-9b03-4dcb-c7bd-4cec2732b988"
      },
      "outputs": [
        {
          "data": {
            "text/plain": [
              "array([[ 51623.],\n",
              "       [ 89015.],\n",
              "       [201989.],\n",
              "       ...,\n",
              "       [108889.],\n",
              "       [167428.],\n",
              "       [456399.]])"
            ]
          },
          "execution_count": 81,
          "metadata": {},
          "output_type": "execute_result"
        }
      ],
      "source": [
        "x"
      ]
    },
    {
      "cell_type": "markdown",
      "metadata": {
        "id": "pgJMB9Tl4mEx"
      },
      "source": [
        "### 4. Use Seaborn to Inspect"
      ]
    },
    {
      "cell_type": "code",
      "execution_count": null,
      "metadata": {
        "scrolled": false,
        "id": "UWNbk6p34mEy",
        "outputId": "d932f318-eaf4-457b-da5d-31c04c161f8c"
      },
      "outputs": [
        {
          "data": {
            "image/png": "[encoded data removed]",
            "text/plain": [
              "<Figure size 432x288 with 1 Axes>"
            ]
          },
          "metadata": {
            "needs_background": "light"
          },
          "output_type": "display_data"
        }
      ],
      "source": [
        "sns.scatterplot(x[:, 0], y);"
      ]
    },
    {
      "cell_type": "markdown",
      "metadata": {
        "id": "YZEUmBY14mEy"
      },
      "source": [
        "### 5. Use sklearn with NumPy arrays to learn (statistical) model"
      ]
    },
    {
      "cell_type": "markdown",
      "metadata": {
        "id": "B64CuNCl4mEy"
      },
      "source": [
        "#### Choose model (eg., LinearRegression)"
      ]
    },
    {
      "cell_type": "code",
      "execution_count": null,
      "metadata": {
        "id": "o3BZ6LOe4mEy"
      },
      "outputs": [],
      "source": [
        "from sklearn.linear_model import LinearRegression"
      ]
    },
    {
      "cell_type": "markdown",
      "metadata": {
        "id": "c3grLVx14mEz"
      },
      "source": [
        "#### Fit model on data (ie., \"Learn\")"
      ]
    },
    {
      "cell_type": "code",
      "execution_count": null,
      "metadata": {
        "id": "Wqb6Dm7e4mEz"
      },
      "outputs": [],
      "source": [
        "model = LinearRegression().fit(x, y)"
      ]
    },
    {
      "cell_type": "markdown",
      "metadata": {
        "id": "E9kI0f9-4mE0"
      },
      "source": [
        "#### Logical Inspection of Model"
      ]
    },
    {
      "cell_type": "markdown",
      "metadata": {
        "id": "JDDAyx7o4mE0"
      },
      "source": [
        "The parameters of the model are, for linear regression, given in `coef_` and `intercept_`..."
      ]
    },
    {
      "cell_type": "code",
      "execution_count": null,
      "metadata": {
        "id": "GE2HzcHg4mE0",
        "outputId": "a478236b-71ac-4f80-c382-a96280a49acd"
      },
      "outputs": [
        {
          "data": {
            "text/plain": [
              "array([1.05873795])"
            ]
          },
          "execution_count": 88,
          "metadata": {},
          "output_type": "execute_result"
        }
      ],
      "source": [
        "model.coef_"
      ]
    },
    {
      "cell_type": "code",
      "execution_count": null,
      "metadata": {
        "id": "PnF8k9Uq4mE0",
        "outputId": "df17cfc9-fc9a-432d-f94f-a90b79636eee"
      },
      "outputs": [
        {
          "data": {
            "text/plain": [
              "1181967.9283122767"
            ]
          },
          "execution_count": 89,
          "metadata": {},
          "output_type": "execute_result"
        }
      ],
      "source": [
        "model.intercept_"
      ]
    },
    {
      "cell_type": "markdown",
      "metadata": {
        "id": "Kx_eZLsD4mE1"
      },
      "source": [
        "$f(x) = 1.06x + 1181968 = ax + b$"
      ]
    },
    {
      "cell_type": "markdown",
      "metadata": {
        "id": "iv7sEjA04mE1"
      },
      "source": [
        "#### Visual Inspection of Model"
      ]
    },
    {
      "cell_type": "code",
      "execution_count": null,
      "metadata": {
        "id": "n0hrxA7b4mE1"
      },
      "outputs": [],
      "source": [
        "yhat = model.predict(x)"
      ]
    },
    {
      "cell_type": "code",
      "execution_count": null,
      "metadata": {
        "id": "t1rZcyWl4mE2",
        "outputId": "33ea17ea-8c53-493e-af0f-0054fd6b404a"
      },
      "outputs": [
        {
          "data": {
            "text/plain": [
              "<matplotlib.axes._subplots.AxesSubplot at 0x7fc299383640>"
            ]
          },
          "execution_count": 94,
          "metadata": {},
          "output_type": "execute_result"
        },
        {
          "data": {
            "image/png": "[encoded data removed]",
            "text/plain": [
              "<Figure size 432x288 with 1 Axes>"
            ]
          },
          "metadata": {
            "needs_background": "light"
          },
          "output_type": "display_data"
        }
      ],
      "source": [
        "sns.scatterplot(x[:, 0], y)\n",
        "sns.lineplot(x[:, 0], yhat, color=\"red\")"
      ]
    },
    {
      "cell_type": "markdown",
      "metadata": {
        "id": "W00goBIG4mE3"
      },
      "source": [
        "#### Evaluate Model"
      ]
    },
    {
      "cell_type": "code",
      "execution_count": null,
      "metadata": {
        "id": "KE0-vzGB4mE4",
        "outputId": "7038febe-9a50-4c0e-870d-7d2f32f82fd3"
      },
      "outputs": [
        {
          "data": {
            "text/plain": [
              "0.1215943777872095"
            ]
          },
          "execution_count": 95,
          "metadata": {},
          "output_type": "execute_result"
        }
      ],
      "source": [
        "model.score(x, y)"
      ]
    },
    {
      "cell_type": "markdown",
      "metadata": {
        "id": "ufqByJjK4mE5"
      },
      "source": [
        "## Exercise (25min)"
      ]
    },
    {
      "cell_type": "markdown",
      "metadata": {
        "id": "-8d3kIVV4mE6"
      },
      "source": [
        "You are hired by a cinema to make film recommendations to customers as they speak to your front desk staff.\n",
        "\n",
        "Your staff may observe: their age, budget, like_action, like_comedy. \n",
        "\n",
        "Note, $x : (age, budget, action, comedy) = (18, 10, +1, -1)$\n",
        "\n",
        "### Q1. Define a function\n",
        "\n",
        "* You design a classification function which recommends either \"Transformers\" or \"AnnieHall\". \n",
        "    * The function should be called `recommend()`. \n",
        "    * HINT: it will have four arguments (`age, budget...`). \n",
        "\n",
        "You use the following rules:\n",
        "\n",
        "* if the customer is a child, always recommend \"Transfomers\"\n",
        "    * ```\n",
        "        if age < 18: \n",
        "            return \"Transfomers\"\n",
        "    ```\n",
        "* if the budget is under 10, always recommend \"AnnieHall\"\n",
        "* otherwise if they like action recommend \"Transformers\"\n",
        "* otherwise recommend \"AnnieHall\"\n",
        "\n",
        "* Run your function to show that it works"
      ]
    },
    {
      "cell_type": "code",
      "execution_count": null,
      "metadata": {
        "id": "4KsEXpBC4mE6",
        "outputId": "fb0894b8-b5d4-4252-f2ae-5e4057b4cee3"
      },
      "outputs": [
        {
          "data": {
            "text/plain": [
              "'AH'"
            ]
          },
          "execution_count": 3,
          "metadata": {},
          "output_type": "execute_result"
        }
      ],
      "source": [
        "def recommend(age, budget, action, comedy):\n",
        "    if (age < 18) or (budget < 10):\n",
        "        return \"T\"\n",
        "    elif action == +1:\n",
        "        return \"T\"\n",
        "    else:\n",
        "        return \"AH\"\n",
        "    \n",
        "    \n",
        "recommend(18, 12, -1, +1)"
      ]
    },
    {
      "cell_type": "markdown",
      "metadata": {
        "id": "n99rNfgx4mE7"
      },
      "source": [
        "### Q2. Define a module\n",
        "\n",
        "* In the same directory as your present notebook, create `model.py`\n",
        "    * NOTE: you cannot create empty files with **jupyter notebook**\n",
        "    * (you may need to create this with a text editor...)\n",
        "    * cut & paste your function into `model.py`\n",
        "* Run `import model`\n",
        "* Run `model.recommend(18, 10, +1, -1)`\n",
        "    * report the film recommendation\n",
        "    \n",
        "* **NOTE** if you're having trouble with `import` (eg., if you need to import twice), you must `Kernal > Restart`"
      ]
    },
    {
      "cell_type": "code",
      "execution_count": null,
      "metadata": {
        "id": "1AQXmeho4mE7"
      },
      "outputs": [],
      "source": [
        "import model"
      ]
    },
    {
      "cell_type": "code",
      "execution_count": null,
      "metadata": {
        "id": "xC0Z-5uC4mE7",
        "outputId": "446e9ce4-2749-4a21-9460-bf5172fde3af"
      },
      "outputs": [
        {
          "data": {
            "text/plain": [
              "'T'"
            ]
          },
          "execution_count": 7,
          "metadata": {},
          "output_type": "execute_result"
        }
      ],
      "source": [
        "model.recommend(18, 10, +1, -1)"
      ]
    }
  ],
  "metadata": {
    "kernelspec": {
      "display_name": "Python 3 (ipykernel)",
      "language": "python",
      "name": "python3"
    },
    "language_info": {
      "codemirror_mode": {
        "name": "ipython",
        "version": 3
      },
      "file_extension": ".py",
      "mimetype": "text/x-python",
      "name": "python",
      "nbconvert_exporter": "python",
      "pygments_lexer": "ipython3",
      "version": "3.9.7"
    },
    "colab": {
      "name": "34_Py4Sci_Libraries.ipynb",
      "provenance": [],
      "include_colab_link": true
    }
  },
  "nbformat": 4,
  "nbformat_minor": 0
}