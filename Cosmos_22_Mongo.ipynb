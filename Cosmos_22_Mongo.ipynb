{
  "cells": [
    {
      "cell_type": "markdown",
      "metadata": {
        "id": "view-in-github",
        "colab_type": "text"
      },
      "source": [
        "<a href=\"https://colab.research.google.com/github/deepanshuMeteor/QA-Big-Data-Fundamentals/blob/main/Cosmos_22_Mongo.ipynb\" target=\"_parent\"><img src=\"https://colab.research.google.com/assets/colab-badge.svg\" alt=\"Open In Colab\"/></a>"
      ]
    },
    {
      "cell_type": "markdown",
      "metadata": {
        "id": "ZirdDa_OolGW"
      },
      "source": [
        "# Fundamentals of Big Data\n",
        "## Notes 1.1, Document Databases with MongoDB\n",
        "\n",
        "---"
      ]
    },
    {
      "cell_type": "markdown",
      "metadata": {
        "id": "dIoa9LnVolGZ"
      },
      "source": [
        "## How do I obtain an example mongo db on the cloud?"
      ]
    },
    {
      "cell_type": "markdown",
      "metadata": {
        "id": "XjDCuH1AolGZ"
      },
      "source": [
        "* go to mongodb.com\n",
        "* TRY FREE\n",
        "    * SIGN UP (with any email)\n",
        "    * SKIP any \"Skip\" pages\n",
        "    * CREATE **FREE** CLUSTER\n",
        "    * GREEN **\"CREATE CLUSTER\"** BUTTON in BOTTOM RIGHT\n",
        "\n",
        "* Clusters Screen\n",
        "    * Under the Cluster0\n",
        "    * Press CONNECT\n",
        "    * Press \"Add Your Current IP Address\"\n",
        "        * Pres \"Add IP Address\"\n",
        "    * Create a User\n",
        "        * eg., admin/1234\n",
        "    * Press \"Create MongoDB User\"\n",
        "    * Press \"Choose a connection method\"\n",
        "    * Press \"Connect to Your Application\"\n",
        "        * Choose \"Python\" in drop down, and version \"3.6+\"\n",
        "        * Choose \"full driver example\"\n",
        "            * Press \"Copy\" \n",
        "            * Create a new notebook and paste into a cell \n",
        "            * change `<password>` to `1234`\n",
        "\n",
        "\n",
        "### Part 2:\n",
        "* Run `!pip install pymongo dnspython` until it reads `Requirement already satisfied`\n",
        "* Add `import pymongo`\n",
        "* Change `<password>` in the connection string to the password you set for the admin user"
      ]
    },
    {
      "cell_type": "markdown",
      "metadata": {
        "id": "tx4R97omolGa"
      },
      "source": [
        "## How do I install MongoDB python libraries?"
      ]
    },
    {
      "cell_type": "code",
      "execution_count": 1,
      "metadata": {
        "colab": {
          "base_uri": "https://localhost:8080/"
        },
        "id": "qCpoVRUColGc",
        "outputId": "c7bf9555-1458-4a06-d7f5-7398bd72292e"
      },
      "outputs": [
        {
          "output_type": "stream",
          "name": "stdout",
          "text": [
            "Requirement already satisfied: pymongo in /usr/local/lib/python3.7/dist-packages (4.1.1)\n",
            "Collecting dnspython\n",
            "  Downloading dnspython-2.2.1-py3-none-any.whl (269 kB)\n",
            "\u001b[K     |████████████████████████████████| 269 kB 5.3 MB/s \n",
            "\u001b[?25hInstalling collected packages: dnspython\n",
            "Successfully installed dnspython-2.2.1\n"
          ]
        }
      ],
      "source": [
        "!pip install pymongo dnspython"
      ]
    },
    {
      "cell_type": "markdown",
      "metadata": {
        "id": "S6hFHtmuolGe"
      },
      "source": [
        "## How do I import mongo?"
      ]
    },
    {
      "cell_type": "code",
      "execution_count": 2,
      "metadata": {
        "id": "X7IkOMAsolGf"
      },
      "outputs": [],
      "source": [
        "import pymongo"
      ]
    },
    {
      "cell_type": "code",
      "source": [
        "uri = \"mongodb://cosme:hhuR7pRfMff9D1eInZuV258RRgtrtsFJpYtzkVei0vIVwq1lXKcSRAnTKDIzV0BzlcLPTATlD1MbE7zg62zMmQ==@cosme.mongo.cosmos.azure.com:10255/?ssl=true&retrywrites=false&replicaSet=globaldb&maxIdleTimeMS=120000&appName=@cosme@\"\n",
        "client = pymongo.MongoClient(uri)"
      ],
      "metadata": {
        "id": "AYIxl4ChqxAb"
      },
      "execution_count": 3,
      "outputs": []
    },
    {
      "cell_type": "markdown",
      "metadata": {
        "id": "XGEZEp--olGf"
      },
      "source": [
        "## How do I connect to a running mongo instance?"
      ]
    },
    {
      "cell_type": "markdown",
      "metadata": {
        "id": "5ePSZDgLolGh"
      },
      "source": [
        "## How do I select a database?"
      ]
    },
    {
      "cell_type": "markdown",
      "metadata": {
        "id": "-ZpVbc_yolGi"
      },
      "source": [
        "Select the `test` database from the connection:"
      ]
    },
    {
      "cell_type": "code",
      "execution_count": 4,
      "metadata": {
        "id": "l9EQhjwAolGj"
      },
      "outputs": [],
      "source": [
        "db = client.test"
      ]
    },
    {
      "cell_type": "code",
      "execution_count": 5,
      "metadata": {
        "colab": {
          "base_uri": "https://localhost:8080/"
        },
        "id": "XyfMwoQColGk",
        "outputId": "c2a067e8-9b45-4f9a-d33d-c2ef1ab7b3cf"
      },
      "outputs": [
        {
          "output_type": "execute_result",
          "data": {
            "text/plain": [
              "Database(MongoClient(host=['cosme.mongo.cosmos.azure.com:10255'], document_class=dict, tz_aware=False, connect=True, retrywrites=False, replicaset='globaldb', maxidletimems=120000, appname='@cosme@', tls=True), 'test')"
            ]
          },
          "metadata": {},
          "execution_count": 5
        }
      ],
      "source": [
        "db"
      ]
    },
    {
      "cell_type": "markdown",
      "metadata": {
        "id": "oJpLLPNgolGk"
      },
      "source": [
        "## How can I use mongo locally?"
      ]
    },
    {
      "cell_type": "markdown",
      "metadata": {
        "id": "uNhbA1LuolGl"
      },
      "source": [
        "Mongo provides a querying shell:"
      ]
    },
    {
      "cell_type": "markdown",
      "metadata": {
        "id": "BN98T24FolGl"
      },
      "source": [
        "```bash \n",
        "\n",
        "(base) michael@192 ~ % mongo\n",
        "MongoDB shell version v4.4.1\n",
        "connecting to: mongodb://127.0.0.1:27017\n",
        "Implicit session: session { \"id\" : UUID(\"903f64e2-ed3d-417f-94ff-08859615b6a8\") }\n",
        "MongoDB server version: 4.4.1\n",
        "Welcome to the MongoDB shell.\n",
        "```\n",
        "\n",
        "    "
      ]
    },
    {
      "cell_type": "markdown",
      "metadata": {
        "id": "fniCTZIpolGl"
      },
      "source": [
        "At which, for example, you can create a user:"
      ]
    },
    {
      "cell_type": "markdown",
      "metadata": {
        "id": "h5ZN0Cd9olGm"
      },
      "source": [
        "```bash\n",
        "> db.createUser( { \"user\": \"admin\", \"pwd\": \"1234\", \"customData\": { \"employeeId\": 12345 },\n",
        "...                  \"roles\": [ { role: \"clusterAdmin\", db: \"admin\" }, \"readWrite\"] },\n",
        "...                { \"w\": \"majority\" , \"wtimeout\": 5000 } )\n",
        "\n",
        "Successfully added user: {\n",
        "\t\"user\" : \"admin\",\n",
        "\t\"customData\" : {\n",
        "\t\t\"employeeId\" : 12345\n",
        "\t},\n",
        "\t\"roles\" : [\n",
        "\t\t{\n",
        "\t\t\t\"role\" : \"clusterAdmin\",\n",
        "\t\t\t\"db\" : \"admin\"\n",
        "\t\t},\n",
        "\t\t\"readWrite\"\n",
        "\t]\n",
        "}\n",
        "> \n",
        "\n",
        "```"
      ]
    },
    {
      "cell_type": "markdown",
      "metadata": {
        "id": "E-0x9EOfolGm"
      },
      "source": [
        "```bash\n",
        "\n",
        "> show databases\n",
        "admin   0.000GB\n",
        "config  0.000GB\n",
        "local   0.000GB\n",
        "test    0.000GB\n",
        "> use test\n",
        "switched to db test\n",
        "> db.people.find()\n",
        "{ \"_id\" : ObjectId(\"5fbcff4626d654e250c0d8d8\"), \"name\" : \"Sherlock\", \"age\" : 18, \"fav_hat\" : \"deer stalker\", \"location\" : \"Baker Street\", \"history\" : [ { \"location\" : \"Manchester\", \"postcode\" : \"MA1 1AP\" }, { \"location\" : \"Paris\", \"postcode\" : \"Notre\" }, { \"location\" : \"New York\", \"postcode\" : \"90210\" } ] }\n",
        "{ \"_id\" : ObjectId(\"5fbd03e726d654e250c0d8d9\"), \"name\" : \"Michael\", \"fav_color\" : \"purple\", \"age\" : 18, \"location\" : \"Old Street\", \"history\" : [ { \"location\" : \"Leeds\", \"postcode\" : \"LS1 1LU\" }, { \"location\" : \"Paris\", \"postcode\" : \"Notre\" }, { \"location\" : \"New York\", \"postcode\" : \"90210\" } ] }\n",
        "> \n",
        "\n",
        "\n",
        "```"
      ]
    },
    {
      "cell_type": "markdown",
      "metadata": {
        "id": "dPh4mDxKolGn"
      },
      "source": [
        "## How do I choose a `collection` (aka. table)?"
      ]
    },
    {
      "cell_type": "markdown",
      "metadata": {
        "id": "MgvJ7vbrolGn"
      },
      "source": [
        "`db.COLLECTION_NAME` if this doesn't exist, mongo will create:"
      ]
    },
    {
      "cell_type": "code",
      "execution_count": 6,
      "metadata": {
        "colab": {
          "base_uri": "https://localhost:8080/"
        },
        "id": "8Adnb113olGo",
        "outputId": "d2e715b2-e244-42a5-f1f0-5ec87d28ad23"
      },
      "outputs": [
        {
          "output_type": "execute_result",
          "data": {
            "text/plain": [
              "Collection(Database(MongoClient(host=['cosme.mongo.cosmos.azure.com:10255'], document_class=dict, tz_aware=False, connect=True, retrywrites=False, replicaset='globaldb', maxidletimems=120000, appname='@cosme@', tls=True), 'test'), 'people')"
            ]
          },
          "metadata": {},
          "execution_count": 6
        }
      ],
      "source": [
        "db.people"
      ]
    },
    {
      "cell_type": "markdown",
      "metadata": {
        "id": "2nTH0NTGolGo"
      },
      "source": [
        "no need to do \"create table\" (esp. because no explicit schema). "
      ]
    },
    {
      "cell_type": "markdown",
      "metadata": {
        "id": "mGZfEd3IolGp"
      },
      "source": [
        "## What are documents?"
      ]
    },
    {
      "cell_type": "code",
      "execution_count": 7,
      "metadata": {
        "id": "cnO41fpAolGp"
      },
      "outputs": [],
      "source": [
        "person_document1 = {\n",
        "    'name': 'Michael',\n",
        "    'fav_color': 'purple',\n",
        "    'age': 18,\n",
        "    'location': 'Old Street',\n",
        "    'history': [\n",
        "        {'location': 'Leeds', 'postcode': 'LS1 1LU'},\n",
        "        {'location': 'Paris', 'postcode': 'Notre'},\n",
        "        {'location': 'New York', 'postcode': '90210'},\n",
        "    ],\n",
        "}"
      ]
    },
    {
      "cell_type": "code",
      "execution_count": 8,
      "metadata": {
        "id": "C2exs5zzolGp"
      },
      "outputs": [],
      "source": [
        "person_document2 = {\n",
        "    'name': 'Sherlock',\n",
        "    'age': 18,\n",
        "    'fav_hat': 'deer stalker',\n",
        "    'location': 'Baker Street',\n",
        "    'history': [\n",
        "        {'location': 'Manchester', 'postcode': 'MA1 1AP'},\n",
        "        {'location': 'Paris', 'postcode': 'Notre'},\n",
        "        {'location': 'New York', 'postcode': '90210'},\n",
        "    ]\n",
        "}"
      ]
    },
    {
      "cell_type": "code",
      "source": [
        "person_document3 = {\n",
        "    'name': 'Joe',\n",
        "    'age': 18,\n",
        "    'fav_hat': 'deer stalker',\n",
        "    'location': 'Baker Street',\n",
        "    'history': [\n",
        "        {'location': 'Manchester', 'postcode': 'MA1 1AP'},\n",
        "        {'location': 'Paris', 'postcode': 'Notre'},\n",
        "        {'location': 'New York', 'postcode': '90210'},\n",
        "    ]\n",
        "}"
      ],
      "metadata": {
        "id": "Rph0vZX7u-2t"
      },
      "execution_count": 15,
      "outputs": []
    },
    {
      "cell_type": "markdown",
      "metadata": {
        "id": "mmd5nRKJolGs"
      },
      "source": [
        "## How do I insert documents?"
      ]
    },
    {
      "cell_type": "code",
      "execution_count": 16,
      "metadata": {
        "colab": {
          "base_uri": "https://localhost:8080/"
        },
        "id": "3VAr_QmVolGt",
        "outputId": "5fe1472f-120f-405e-97a7-94c29e2b99ed"
      },
      "outputs": [
        {
          "output_type": "execute_result",
          "data": {
            "text/plain": [
              "<pymongo.results.InsertOneResult at 0x7fbfc91a2f50>"
            ]
          },
          "metadata": {},
          "execution_count": 16
        }
      ],
      "source": [
        "db.people.insert_one(person_document3)"
      ]
    },
    {
      "cell_type": "markdown",
      "metadata": {
        "id": "1Z-6j3apolGv"
      },
      "source": [
        "## How do I select (\"find\") documents?"
      ]
    },
    {
      "cell_type": "markdown",
      "metadata": {
        "id": "IxpyEXQ-olGv"
      },
      "source": [
        "Mongo operations in python, do not run the query:"
      ]
    },
    {
      "cell_type": "code",
      "execution_count": 10,
      "metadata": {
        "colab": {
          "base_uri": "https://localhost:8080/"
        },
        "id": "xOK09sEuolGw",
        "outputId": "a8a12ef9-e53b-475d-a621-953f91324903"
      },
      "outputs": [
        {
          "output_type": "execute_result",
          "data": {
            "text/plain": [
              "<pymongo.cursor.Cursor at 0x7fbfca63cb90>"
            ]
          },
          "metadata": {},
          "execution_count": 10
        }
      ],
      "source": [
        "db.people.find()"
      ]
    },
    {
      "cell_type": "markdown",
      "metadata": {
        "id": "y-dSQ7udolGx"
      },
      "source": [
        "...this does not compute the result set. It just sets up the query.\n",
        "\n",
        "You can compute using `list()` (ie., convert it to a list):"
      ]
    },
    {
      "cell_type": "code",
      "execution_count": 17,
      "metadata": {
        "colab": {
          "base_uri": "https://localhost:8080/"
        },
        "id": "svhLGFL6olGx",
        "outputId": "e9275518-b07c-4254-ff76-a1cfa6391262"
      },
      "outputs": [
        {
          "output_type": "execute_result",
          "data": {
            "text/plain": [
              "[{'_id': ObjectId('62613295a6b5849b66354062'),\n",
              "  'age': 18,\n",
              "  'fav_color': 'purple',\n",
              "  'history': [{'location': 'Leeds', 'postcode': 'LS1 1LU'},\n",
              "   {'location': 'Paris', 'postcode': 'Notre'},\n",
              "   {'location': 'New York', 'postcode': '90210'}],\n",
              "  'location': 'Old Street',\n",
              "  'name': 'Michael'},\n",
              " {'_id': ObjectId('626132aba6b5849b66354063'),\n",
              "  'age': 18,\n",
              "  'fav_hat': 'deer stalker',\n",
              "  'history': [{'location': 'Manchester', 'postcode': 'MA1 1AP'},\n",
              "   {'location': 'Paris', 'postcode': 'Notre'},\n",
              "   {'location': 'New York', 'postcode': '90210'}],\n",
              "  'location': 'Baker Street',\n",
              "  'name': 'Sherlock'},\n",
              " {'_id': ObjectId('6261367ba6b5849b66354064'),\n",
              "  'age': 18,\n",
              "  'fav_hat': 'deer stalker',\n",
              "  'history': [{'location': 'Manchester', 'postcode': 'MA1 1AP'},\n",
              "   {'location': 'Paris', 'postcode': 'Notre'},\n",
              "   {'location': 'New York', 'postcode': '90210'}],\n",
              "  'location': 'Baker Street',\n",
              "  'name': 'Joe'}]"
            ]
          },
          "metadata": {},
          "execution_count": 17
        }
      ],
      "source": [
        "list(db.people.find())"
      ]
    },
    {
      "cell_type": "markdown",
      "metadata": {
        "id": "ncAC9PQgolGy"
      },
      "source": [
        "The data is \"load on demand\" (ie., its an iterator) which computes the results on-demand:"
      ]
    },
    {
      "cell_type": "code",
      "execution_count": 14,
      "metadata": {
        "colab": {
          "base_uri": "https://localhost:8080/"
        },
        "id": "Te0X2M5folGy",
        "outputId": "803e9de6-15d8-4b80-f41a-61bd2708ab5b"
      },
      "outputs": [
        {
          "output_type": "stream",
          "name": "stdout",
          "text": [
            "Michael\n",
            "Sherlock\n"
          ]
        }
      ],
      "source": [
        "for doc in db.people.find():\n",
        "    print(doc['name'])"
      ]
    },
    {
      "cell_type": "markdown",
      "metadata": {
        "id": "O59yzhZIolGy"
      },
      "source": [
        "Above, each name is produced \"on-demand\", the whole result set isn't in memory. "
      ]
    },
    {
      "cell_type": "markdown",
      "metadata": {
        "id": "N8E9G2MOolGz"
      },
      "source": [
        "## Exercise (20 minutes)\n",
        "\n",
        "* Review this file, and addition Mongo Notes\n",
        "* Create a collection of documents for yourself\n",
        "    * eg., create a collection of film reviews\n",
        "* Query this collection using `.find()`\n",
        "    * eg., obtain all reviews, reviews matching a condition, etc.\n",
        "* Review the mongo documentation\n",
        "    * eg.,  https://docs.mongodb.com/manual/reference/method/db.collection.find/"
      ]
    },
    {
      "cell_type": "markdown",
      "metadata": {
        "id": "ttUuanIfolGz"
      },
      "source": [
        "## What is a use case of a mixed schema document database?"
      ]
    },
    {
      "cell_type": "markdown",
      "metadata": {
        "id": "WYjBTyHlolG0"
      },
      "source": [
        "Almost all applications, almost all developers require & should use schema. \n",
        "\n",
        "eg., advertising, dating website,.... \n",
        "\n",
        "Consider a website which tracks users, and conditionally fills-in demograph & profile information if it can be obtained/inferred. \n",
        "\n",
        "\n",
        "```\n",
        "user1 = {\n",
        "  age:\n",
        "  location:\n",
        "  gender:\n",
        "  purchases:\n",
        "  visithistory:\n",
        "  events: \n",
        "  //...1000s \n",
        "}\n",
        "\n",
        "user2 = {\n",
        " age:\n",
        " location:\n",
        " lastvisit:\n",
        "}\n",
        "\n",
        "\n",
        "user3 = {\n",
        " newfield:\n",
        "}\n",
        "\n",
        "```"
      ]
    },
    {
      "cell_type": "code",
      "execution_count": null,
      "metadata": {
        "id": "cZiYCoPfolG0"
      },
      "outputs": [],
      "source": [
        "def predict_likewine():\n",
        "    pass\n",
        "\n",
        "def predict_likefilm():\n",
        "    pass"
      ]
    }
  ],
  "metadata": {
    "kernelspec": {
      "display_name": "Python 3 (ipykernel)",
      "language": "python",
      "name": "python3"
    },
    "language_info": {
      "codemirror_mode": {
        "name": "ipython",
        "version": 3
      },
      "file_extension": ".py",
      "mimetype": "text/x-python",
      "name": "python",
      "nbconvert_exporter": "python",
      "pygments_lexer": "ipython3",
      "version": "3.9.7"
    },
    "colab": {
      "name": "LIVE_22_Mongo.ipynb",
      "provenance": [],
      "include_colab_link": true
    }
  },
  "nbformat": 4,
  "nbformat_minor": 0
}