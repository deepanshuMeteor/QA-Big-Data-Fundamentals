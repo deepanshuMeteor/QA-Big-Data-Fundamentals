{
  "cells": [
    {
      "cell_type": "markdown",
      "metadata": {
        "id": "view-in-github",
        "colab_type": "text"
      },
      "source": [
        "<a href=\"https://colab.research.google.com/github/deepanshuMeteor/QA-Big-Data-Fundamentals/blob/main/12_IntroPyData.ipynb\" target=\"_parent\"><img src=\"https://colab.research.google.com/assets/colab-badge.svg\" alt=\"Open In Colab\"/></a>"
      ]
    },
    {
      "cell_type": "markdown",
      "metadata": {
        "id": "TEk6KcvTFLEj"
      },
      "source": [
        "# Introduction to Python \n",
        "### Notes 1.2, Introduction to Datasets\n",
        "---\n",
        "\n",
        "## Objectives\n",
        "\n",
        "---"
      ]
    },
    {
      "cell_type": "markdown",
      "metadata": {
        "id": "bsFB7BE0FLE1"
      },
      "source": [
        "# Part 1: Representing Data"
      ]
    },
    {
      "cell_type": "markdown",
      "metadata": {
        "id": "-Q3dDYjBFLE3"
      },
      "source": [
        "## How do I represent single pieces of data?"
      ]
    },
    {
      "cell_type": "code",
      "execution_count": 1,
      "metadata": {
        "id": "96VQAyEqFLE5"
      },
      "outputs": [],
      "source": [
        "name = \"Michael\"\n",
        "age = 31\n",
        "height = 1.81\n",
        "is_awake = False"
      ]
    },
    {
      "cell_type": "markdown",
      "metadata": {
        "id": "Y94hi2m4FLE_"
      },
      "source": [
        "## How do I represent a dataset?"
      ]
    },
    {
      "cell_type": "markdown",
      "metadata": {
        "id": "XUr_-SkYFLFA"
      },
      "source": [
        "Lists are groups of data (collections) which are *ordered* and editable, so you can build them up over time:"
      ]
    },
    {
      "cell_type": "code",
      "execution_count": 2,
      "metadata": {
        "id": "aWpz5sqNFLFB"
      },
      "outputs": [],
      "source": [
        "hr_dataset = []\n",
        "\n",
        "hr_dataset.append(60)\n",
        "hr_dataset.append(60)\n",
        "hr_dataset.append(61)\n",
        "hr_dataset.append(59)"
      ]
    },
    {
      "cell_type": "code",
      "execution_count": 3,
      "metadata": {
        "colab": {
          "base_uri": "https://localhost:8080/"
        },
        "id": "eQ1jqM4XFLFC",
        "outputId": "cbe5ebfb-105b-46dd-c648-b9d1a6926eae"
      },
      "outputs": [
        {
          "output_type": "execute_result",
          "data": {
            "text/plain": [
              "[60, 60, 61, 59]"
            ]
          },
          "metadata": {},
          "execution_count": 3
        }
      ],
      "source": [
        "hr_dataset"
      ]
    },
    {
      "cell_type": "markdown",
      "metadata": {
        "id": "ZeBSG0O7FLFE"
      },
      "source": [
        "If you know the values you want to use, you can define it immediately with them in:"
      ]
    },
    {
      "cell_type": "code",
      "execution_count": 4,
      "metadata": {
        "id": "93gmedpHFLFG"
      },
      "outputs": [],
      "source": [
        "hr_dataset = [60, 60, 61, 59]"
      ]
    },
    {
      "cell_type": "markdown",
      "metadata": {
        "id": "uXcDAhFRFLFH"
      },
      "source": [
        "## How do I represent a fixed set of a data?"
      ]
    },
    {
      "cell_type": "markdown",
      "metadata": {
        "id": "Ys75KZhHFLFH"
      },
      "source": [
        "Sometimes data should be created *fixed* and then never allowed to change during a program. For this we have `tuple`s:"
      ]
    },
    {
      "cell_type": "code",
      "execution_count": 5,
      "metadata": {
        "id": "v-Pu_VkhFLFI"
      },
      "outputs": [],
      "source": [
        "film = (1, \"Annie Hall\", 120, 1979)"
      ]
    },
    {
      "cell_type": "markdown",
      "metadata": {
        "id": "WL0-aUeSFLFJ"
      },
      "source": [
        "Tuples cannot be modified after creation..."
      ]
    },
    {
      "cell_type": "code",
      "execution_count": 6,
      "metadata": {
        "colab": {
          "base_uri": "https://localhost:8080/",
          "height": 172
        },
        "id": "7lPd30NPFLFK",
        "outputId": "abb320a2-cb0a-404d-cef3-56188678aacd"
      },
      "outputs": [
        {
          "output_type": "error",
          "ename": "AttributeError",
          "evalue": "ignored",
          "traceback": [
            "\u001b[0;31m---------------------------------------------------------------------------\u001b[0m",
            "\u001b[0;31mAttributeError\u001b[0m                            Traceback (most recent call last)",
            "\u001b[0;32m<ipython-input-6-e9dac565951e>\u001b[0m in \u001b[0;36m<module>\u001b[0;34m()\u001b[0m\n\u001b[0;32m----> 1\u001b[0;31m \u001b[0mfilm\u001b[0m\u001b[0;34m.\u001b[0m\u001b[0mappend\u001b[0m\u001b[0;34m(\u001b[0m\u001b[0;36m1\u001b[0m\u001b[0;34m)\u001b[0m\u001b[0;34m\u001b[0m\u001b[0;34m\u001b[0m\u001b[0m\n\u001b[0m",
            "\u001b[0;31mAttributeError\u001b[0m: 'tuple' object has no attribute 'append'"
          ]
        }
      ],
      "source": [
        "film.append(1)"
      ]
    },
    {
      "cell_type": "markdown",
      "metadata": {
        "id": "QVbt-oSvFLFK"
      },
      "source": [
        "... it *appears* the syntax for creating a tuple is the `()` (parentheses) .. but it's actually the comma..."
      ]
    },
    {
      "cell_type": "code",
      "execution_count": 7,
      "metadata": {
        "id": "ZcNPpaytFLFL"
      },
      "outputs": [],
      "source": [
        "film = 1, \"Annie Hall\", 120, 1979"
      ]
    },
    {
      "cell_type": "code",
      "execution_count": 8,
      "metadata": {
        "colab": {
          "base_uri": "https://localhost:8080/"
        },
        "id": "i9YGW7rXFLFL",
        "outputId": "19c8c62e-ce83-4298-811a-fb8c2073f42b"
      },
      "outputs": [
        {
          "output_type": "execute_result",
          "data": {
            "text/plain": [
              "(1, 'Annie Hall', 120, 1979)"
            ]
          },
          "metadata": {},
          "execution_count": 8
        }
      ],
      "source": [
        "film"
      ]
    },
    {
      "cell_type": "markdown",
      "metadata": {
        "id": "FdVAFgwCFLFM"
      },
      "source": [
        "we add parentheses for clarity, and so it looks more like lists. "
      ]
    },
    {
      "cell_type": "markdown",
      "metadata": {
        "id": "0_k-X1oaFLFM"
      },
      "source": [
        "## How do I represent data relationships?"
      ]
    },
    {
      "cell_type": "markdown",
      "metadata": {
        "id": "XhQ03U_4FLFN"
      },
      "source": [
        "Lists and tuples are collections of elements, but there is no relationship between elements.\n",
        "\n",
        "\n",
        "To relate elements we use a dictionary:"
      ]
    },
    {
      "cell_type": "code",
      "execution_count": 13,
      "metadata": {
        "id": "HPS2qOvkFLFN"
      },
      "outputs": [],
      "source": [
        "dictionary = {\n",
        "    \"happy\" : \"a positive emotion\",\n",
        "    \"sad\" : \"a negative emotion\"\n",
        "}"
      ]
    },
    {
      "cell_type": "code",
      "execution_count": 14,
      "metadata": {
        "colab": {
          "base_uri": "https://localhost:8080/"
        },
        "id": "ByXsY7rcFLFO",
        "outputId": "f2a0167e-a17c-49b8-af70-e49ec72d7a57"
      },
      "outputs": [
        {
          "output_type": "execute_result",
          "data": {
            "text/plain": [
              "{'happy': 'a positive emotion', 'sad': 'a negative emotion'}"
            ]
          },
          "metadata": {},
          "execution_count": 14
        }
      ],
      "source": [
        "dictionary"
      ]
    },
    {
      "cell_type": "markdown",
      "metadata": {
        "id": "Hzroy1hdFLFP"
      },
      "source": [
        "A dictionary is a set of (key-value) pairs... where the *key* is associated with the *value*. We can find the value using the key. "
      ]
    },
    {
      "cell_type": "code",
      "execution_count": 15,
      "metadata": {
        "colab": {
          "base_uri": "https://localhost:8080/",
          "height": 36
        },
        "id": "J3ejrA0iFLFP",
        "outputId": "ad607d39-e685-4f99-aff2-2c4f3333a36a"
      },
      "outputs": [
        {
          "output_type": "execute_result",
          "data": {
            "text/plain": [
              "'a positive emotion'"
            ],
            "application/vnd.google.colaboratory.intrinsic+json": {
              "type": "string"
            }
          },
          "metadata": {},
          "execution_count": 15
        }
      ],
      "source": [
        "dictionary[\"happy\"]"
      ]
    },
    {
      "cell_type": "markdown",
      "metadata": {
        "id": "Re7aKYlkFLFP"
      },
      "source": [
        "## How do I access elements in a collection?"
      ]
    },
    {
      "cell_type": "markdown",
      "metadata": {
        "id": "BtMfiXjtFLFQ"
      },
      "source": [
        "When accessing the entires of a dataset we use index notation, which is `variable[ index ]`"
      ]
    },
    {
      "cell_type": "code",
      "execution_count": 10,
      "metadata": {
        "colab": {
          "base_uri": "https://localhost:8080/"
        },
        "id": "Xb4HXYSTFLFQ",
        "outputId": "0abd5b8d-7690-47a0-eada-4e1e05346f67"
      },
      "outputs": [
        {
          "output_type": "execute_result",
          "data": {
            "text/plain": [
              "61"
            ]
          },
          "metadata": {},
          "execution_count": 10
        }
      ],
      "source": [
        "hr_dataset = [60, 60, 61, 59]\n",
        "\n",
        "hr_dataset[2]"
      ]
    },
    {
      "cell_type": "code",
      "execution_count": 16,
      "metadata": {
        "colab": {
          "base_uri": "https://localhost:8080/",
          "height": 36
        },
        "id": "2iElPoBVFLFQ",
        "outputId": "bc43c2a5-1b9c-44a2-8e89-3291d5d5ff72"
      },
      "outputs": [
        {
          "output_type": "execute_result",
          "data": {
            "text/plain": [
              "'a negative emotion'"
            ],
            "application/vnd.google.colaboratory.intrinsic+json": {
              "type": "string"
            }
          },
          "metadata": {},
          "execution_count": 16
        }
      ],
      "source": [
        "dictionary[\"sad\"]"
      ]
    },
    {
      "cell_type": "markdown",
      "metadata": {
        "id": "1_aLBWwLFLFR"
      },
      "source": [
        "Lists and tuples are indexed by number, starting at `0` and increasing by `1` for every entry.\n",
        "\n",
        "Dictionaries use whatever index you give them (eg., above, `happy`)."
      ]
    },
    {
      "cell_type": "markdown",
      "metadata": {
        "id": "ArjZRwH9FLFR"
      },
      "source": [
        "## How do I access elements by position?"
      ]
    },
    {
      "cell_type": "markdown",
      "metadata": {
        "id": "bf8UKyRwFLFR"
      },
      "source": [
        "Lists (, tuples, etc.) are indexed \"twice\", elements have an index going forwards (from 0) and backwards (from -1). "
      ]
    },
    {
      "cell_type": "code",
      "execution_count": null,
      "metadata": {
        "id": "ag5YpNjiFLFS",
        "outputId": "66d7d435-ad52-4f25-84b2-f272a07bf4ab"
      },
      "outputs": [
        {
          "data": {
            "text/plain": [
              "60"
            ]
          },
          "execution_count": 15,
          "metadata": {},
          "output_type": "execute_result"
        }
      ],
      "source": [
        "hr_dataset[0]"
      ]
    },
    {
      "cell_type": "code",
      "execution_count": null,
      "metadata": {
        "id": "izTmJiOjFLFS",
        "outputId": "216f905e-89f0-4ae4-fa8d-beb00759bf3a"
      },
      "outputs": [
        {
          "data": {
            "text/plain": [
              "59"
            ]
          },
          "execution_count": 16,
          "metadata": {},
          "output_type": "execute_result"
        }
      ],
      "source": [
        "hr_dataset[-1]"
      ]
    },
    {
      "cell_type": "code",
      "execution_count": null,
      "metadata": {
        "id": "j7Rq-6lLFLFT",
        "outputId": "ec17de69-9e12-45dc-9a90-1e94b727f07a"
      },
      "outputs": [
        {
          "data": {
            "text/plain": [
              "60"
            ]
          },
          "execution_count": 17,
          "metadata": {},
          "output_type": "execute_result"
        }
      ],
      "source": [
        "hr_dataset[-3]"
      ]
    },
    {
      "cell_type": "markdown",
      "metadata": {
        "id": "HcVnrQ_cFLFT"
      },
      "source": [
        "## How do I find the number of elements in a collection?"
      ]
    },
    {
      "cell_type": "code",
      "execution_count": null,
      "metadata": {
        "id": "KTbFGULrFLFU",
        "outputId": "b1617900-e019-4719-8c21-6896e12aa74a"
      },
      "outputs": [
        {
          "data": {
            "text/plain": [
              "4"
            ]
          },
          "execution_count": 64,
          "metadata": {},
          "output_type": "execute_result"
        }
      ],
      "source": [
        "len(hr_dataset)"
      ]
    },
    {
      "cell_type": "markdown",
      "metadata": {
        "id": "rJgXONP9FLFV"
      },
      "source": [
        "## How do I distinguishes indexing from creating a list?"
      ]
    },
    {
      "cell_type": "markdown",
      "metadata": {
        "id": "HXrrTqLdFLFW"
      },
      "source": [
        "Notice that there's two uses of square brakets (`[]`):\n",
        "* to create a list\n",
        "* to access elements\n",
        "\n",
        "To distinguish these uses note that every use of `variable[index]` is always *indexing*. (And anything with a comma in it is a collection.). "
      ]
    },
    {
      "cell_type": "markdown",
      "metadata": {
        "id": "aTO3IlctFLFW"
      },
      "source": [
        "## Can data structures store duplicates?"
      ]
    },
    {
      "cell_type": "markdown",
      "metadata": {
        "id": "BlFBXH7dFLFX"
      },
      "source": [
        "Every dataset must have unique indexes, including dictionaries. "
      ]
    },
    {
      "cell_type": "code",
      "execution_count": null,
      "metadata": {
        "id": "PIxk0_SHFLFX",
        "outputId": "5912eb30-480e-4ff4-e678-18e0797b86f8"
      },
      "outputs": [
        {
          "data": {
            "text/plain": [
              "{'A': 'Aaron'}"
            ]
          },
          "execution_count": 18,
          "metadata": {},
          "output_type": "execute_result"
        }
      ],
      "source": [
        "{\"A\": \"Alice\", \"A\": \"Aaron\"}"
      ]
    },
    {
      "cell_type": "markdown",
      "metadata": {
        "id": "hhajRqy4FLFX"
      },
      "source": [
        "...nb., a dictionary will just throw away duplicate keys."
      ]
    },
    {
      "cell_type": "markdown",
      "metadata": {
        "id": "HgufoMhcFLFY"
      },
      "source": [
        "---"
      ]
    },
    {
      "cell_type": "markdown",
      "metadata": {
        "id": "utV8pzI_FLFZ"
      },
      "source": [
        "## Exericse (15 min)\n",
        "\n",
        "* review this notebook first\n",
        "\n",
        "Your goal in this exercise is to simualte tracking health data for a user, and provide them with a custom health warning message if there are any issues with their health data. \n",
        "\n",
        "\n",
        "Define three lists for recording: `heart_rate`, `blood_pressure` \n",
        "\n",
        "Use `input()` to `.append()` several heart rate readings to the `heart_rate` list. \n",
        "\n",
        "* define `heart_rate` as an empty list `[]`\n",
        "* as a user for an `input()`\n",
        "* `heart_rate.append()` with that input\n",
        "\n",
        "* Define the other lists by writing their values in when you create them. \n",
        "\n",
        "* Define a dictionary called `warning_sign` which relates\n",
        "    * `\"180\"` to \"WARNING!\"\n",
        "    * `\"120\"` to \"OK\"\n",
        "    * `\"60\"` to \"WARNING!\"\n",
        "    \n",
        "* `print()` the first and last reading in your lists \n",
        "* `print()` your warning dictionary\n",
        "\n",
        "* EXTRA:\n",
        "    * ask a user for their blood pressure\n",
        "    * use `warning_sign` to `print()` a custom warning message \n"
      ]
    },
    {
      "cell_type": "markdown",
      "metadata": {
        "id": "so96PjN1FLFa"
      },
      "source": [
        "## Solution "
      ]
    },
    {
      "cell_type": "code",
      "execution_count": null,
      "metadata": {
        "id": "9Dg9_rVwFLFa"
      },
      "outputs": [],
      "source": [
        "heart_rate = []\n",
        "blood_pressure = [120, 180, 150]"
      ]
    },
    {
      "cell_type": "code",
      "execution_count": null,
      "metadata": {
        "id": "7IWR8NTmFLFb",
        "outputId": "989921e3-3d71-49c6-94b3-1de72d13ebd9"
      },
      "outputs": [
        {
          "name": "stdout",
          "output_type": "stream",
          "text": [
            "What's your HR?60\n",
            "What's your HR?63\n",
            "What's your HR?59\n"
          ]
        }
      ],
      "source": [
        "user_hr = input(\"What's your HR?\")\n",
        "heart_rate.append(user_hr)\n",
        "\n",
        "user_hr = input(\"What's your HR?\")\n",
        "heart_rate.append(user_hr)\n",
        "\n",
        "user_hr = input(\"What's your HR?\")\n",
        "heart_rate.append(user_hr)"
      ]
    },
    {
      "cell_type": "code",
      "execution_count": null,
      "metadata": {
        "id": "3bP2GLC7FLFb",
        "outputId": "59ae5b98-7206-4b13-f6c4-c1f2195f10f0"
      },
      "outputs": [
        {
          "data": {
            "text/plain": [
              "['60', '63', '59']"
            ]
          },
          "execution_count": 20,
          "metadata": {},
          "output_type": "execute_result"
        }
      ],
      "source": [
        "heart_rate"
      ]
    },
    {
      "cell_type": "code",
      "execution_count": null,
      "metadata": {
        "id": "hL1LqrTLFLFc",
        "outputId": "90429dd0-5fdf-4007-a6b9-3fb79da9e724"
      },
      "outputs": [
        {
          "data": {
            "text/plain": [
              "[120, 180, 150]"
            ]
          },
          "execution_count": 22,
          "metadata": {},
          "output_type": "execute_result"
        }
      ],
      "source": [
        "blood_pressure"
      ]
    },
    {
      "cell_type": "code",
      "execution_count": null,
      "metadata": {
        "id": "qEGFTIikFLFc",
        "outputId": "06969cc4-8533-4eb5-a2b4-f24d04dd78d2"
      },
      "outputs": [
        {
          "name": "stdout",
          "output_type": "stream",
          "text": [
            "60 59\n",
            "120 150\n"
          ]
        }
      ],
      "source": [
        "print(heart_rate[0], heart_rate[-1])\n",
        "print(blood_pressure[0], blood_pressure[-1])"
      ]
    },
    {
      "cell_type": "code",
      "execution_count": null,
      "metadata": {
        "id": "DlzY2ZWbFLFd"
      },
      "outputs": [],
      "source": [
        "warning_sign = {\n",
        "    \"180\" : \"WARNING!\",\n",
        "    \"120\" : \"OK\",\n",
        "    \"60\" : \"WARNING!\"\n",
        "}"
      ]
    },
    {
      "cell_type": "code",
      "execution_count": null,
      "metadata": {
        "scrolled": true,
        "id": "rIYrsEMRFLFe",
        "outputId": "e1bdce22-77da-4373-ce3c-dbccaf61fba7"
      },
      "outputs": [
        {
          "name": "stdout",
          "output_type": "stream",
          "text": [
            "{'180': 'WARNING!', '120': 'OK', '60': 'WARNING!'}\n"
          ]
        }
      ],
      "source": [
        "print(warning_sign)"
      ]
    },
    {
      "cell_type": "code",
      "execution_count": null,
      "metadata": {
        "id": "JODW1Cn9FLFg",
        "outputId": "5eb1d4c3-62aa-4609-d797-b36ee526c8c9"
      },
      "outputs": [
        {
          "name": "stdout",
          "output_type": "stream",
          "text": [
            "What's your BP?180\n"
          ]
        },
        {
          "data": {
            "text/plain": [
              "'WARNING!'"
            ]
          },
          "execution_count": 29,
          "metadata": {},
          "output_type": "execute_result"
        }
      ],
      "source": [
        "user_bp = input(\"What's your BP?\")\n",
        "\n",
        "warning_sign[user_bp]"
      ]
    },
    {
      "cell_type": "markdown",
      "metadata": {
        "id": "tO0kIOQXFLFh"
      },
      "source": [
        "# Part 2: Working with Data"
      ]
    },
    {
      "cell_type": "markdown",
      "metadata": {
        "id": "XvI-x_nhFLFh"
      },
      "source": [
        "## How do I convert between data types?"
      ]
    },
    {
      "cell_type": "markdown",
      "metadata": {
        "id": "lUtxkU1sFLFi"
      },
      "source": [
        "Input comes in as text:"
      ]
    },
    {
      "cell_type": "code",
      "execution_count": null,
      "metadata": {
        "id": "EPwhitmnFLFi",
        "outputId": "1f5b9160-99a5-4f50-a47c-11428475caab"
      },
      "outputs": [
        {
          "name": "stdout",
          "output_type": "stream",
          "text": [
            "What's your HR?60\n"
          ]
        }
      ],
      "source": [
        "answer = input(\"What's your HR?\")"
      ]
    },
    {
      "cell_type": "code",
      "execution_count": null,
      "metadata": {
        "id": "0peXTujmFLFj",
        "outputId": "1f92637a-fa24-4471-c7a4-d085614b005d"
      },
      "outputs": [
        {
          "ename": "TypeError",
          "evalue": "can only concatenate str (not \"int\") to str",
          "output_type": "error",
          "traceback": [
            "\u001b[0;31m--------------------------------------------------------\u001b[0m",
            "\u001b[0;31mTypeError\u001b[0m              Traceback (most recent call last)",
            "\u001b[0;32m<ipython-input-37-0f6b1d619110>\u001b[0m in \u001b[0;36m<module>\u001b[0;34m\u001b[0m\n\u001b[0;32m----> 1\u001b[0;31m \u001b[0manswer\u001b[0m \u001b[0;34m+\u001b[0m \u001b[0;36m1\u001b[0m\u001b[0;34m\u001b[0m\u001b[0;34m\u001b[0m\u001b[0m\n\u001b[0m",
            "\u001b[0;31mTypeError\u001b[0m: can only concatenate str (not \"int\") to str"
          ]
        }
      ],
      "source": [
        "answer + 1"
      ]
    },
    {
      "cell_type": "code",
      "execution_count": null,
      "metadata": {
        "id": "YJgXzGJnFLFj"
      },
      "outputs": [],
      "source": [
        "measurement = float(answer)"
      ]
    },
    {
      "cell_type": "code",
      "execution_count": null,
      "metadata": {
        "id": "hIwpJSs3FLFk",
        "outputId": "bd8355de-22b3-4531-8ac7-d75291fff3d9"
      },
      "outputs": [
        {
          "data": {
            "text/plain": [
              "61.0"
            ]
          },
          "execution_count": 39,
          "metadata": {},
          "output_type": "execute_result"
        }
      ],
      "source": [
        "measurement + 1"
      ]
    },
    {
      "cell_type": "markdown",
      "metadata": {
        "id": "dhLy7qRQFLFk"
      },
      "source": [
        "To convert to a different data type, you just use the name of that type *as a function*:"
      ]
    },
    {
      "cell_type": "code",
      "execution_count": null,
      "metadata": {
        "id": "OUZkBZxvFLFk"
      },
      "outputs": [],
      "source": [
        "name = \"Michael\"\n",
        "address = \"\"\n",
        "age = 31\n",
        "height = 1.81\n",
        "location = \"3\""
      ]
    },
    {
      "cell_type": "code",
      "execution_count": null,
      "metadata": {
        "id": "dS-3sR2PFLFl",
        "outputId": "db9e3668-23c9-40ef-e014-ff2d1b9e6d6f"
      },
      "outputs": [
        {
          "data": {
            "text/plain": [
              "'31 years old'"
            ]
          },
          "execution_count": 45,
          "metadata": {},
          "output_type": "execute_result"
        }
      ],
      "source": [
        "str(age) + \" years old\""
      ]
    },
    {
      "cell_type": "code",
      "execution_count": null,
      "metadata": {
        "id": "m7A59b4UFLFl",
        "outputId": "ba05adf2-3abc-44ad-c47a-cec7b04f5ce8"
      },
      "outputs": [
        {
          "data": {
            "text/plain": [
              "103"
            ]
          },
          "execution_count": 48,
          "metadata": {},
          "output_type": "execute_result"
        }
      ],
      "source": [
        "int(location) + 100"
      ]
    },
    {
      "cell_type": "markdown",
      "metadata": {
        "id": "8_l085mBFLFl"
      },
      "source": [
        "Converting to a boolean value (`True` or `False`) is a test of whether a variable is empty:"
      ]
    },
    {
      "cell_type": "code",
      "execution_count": null,
      "metadata": {
        "id": "SrG3Ds4-FLFm",
        "outputId": "01f6350f-9e35-484d-d2b6-baa8071e5ba0"
      },
      "outputs": [
        {
          "data": {
            "text/plain": [
              "True"
            ]
          },
          "execution_count": 52,
          "metadata": {},
          "output_type": "execute_result"
        }
      ],
      "source": [
        "bool(name)"
      ]
    },
    {
      "cell_type": "code",
      "execution_count": null,
      "metadata": {
        "id": "kZTvtKeiFLFm",
        "outputId": "00a155f6-5b33-49a0-ddf6-02e92a4859e4"
      },
      "outputs": [
        {
          "data": {
            "text/plain": [
              "False"
            ]
          },
          "execution_count": 51,
          "metadata": {},
          "output_type": "execute_result"
        }
      ],
      "source": [
        "bool(address)"
      ]
    },
    {
      "cell_type": "markdown",
      "metadata": {
        "id": "xOQ1ttpMFLFm"
      },
      "source": [
        "...`0`, `\"\"`, `[]`, etc. all convert to `False`, everything else is `True`"
      ]
    },
    {
      "cell_type": "markdown",
      "metadata": {
        "id": "H5CY-YzHFLFn"
      },
      "source": [
        "## How do I convert user input?"
      ]
    },
    {
      "cell_type": "code",
      "execution_count": null,
      "metadata": {
        "id": "AlC-NrdbFLFn",
        "outputId": "17632e70-65b3-4e0e-9d74-b44dacc76cea"
      },
      "outputs": [
        {
          "name": "stdout",
          "output_type": "stream",
          "text": [
            "What's your HR?61\n"
          ]
        },
        {
          "data": {
            "text/plain": [
              "122.0"
            ]
          },
          "execution_count": 55,
          "metadata": {},
          "output_type": "execute_result"
        }
      ],
      "source": [
        "user_hr = float(input(\"What's your HR?\"))\n",
        "user_hr * 2"
      ]
    },
    {
      "cell_type": "markdown",
      "metadata": {
        "id": "s88DHfBHFLFn"
      },
      "source": [
        "## How do I access multiple elements in a sequence?"
      ]
    },
    {
      "cell_type": "code",
      "execution_count": null,
      "metadata": {
        "id": "LqMsQSlRFLFn",
        "outputId": "c48eb51a-53eb-49a5-ed64-286ffd10755c"
      },
      "outputs": [
        {
          "data": {
            "text/plain": [
              "60"
            ]
          },
          "execution_count": 56,
          "metadata": {},
          "output_type": "execute_result"
        }
      ],
      "source": [
        "heart_rates = [60, 70, 50, 40]\n",
        "\n",
        "\n",
        "heart_rates[0]"
      ]
    },
    {
      "cell_type": "markdown",
      "metadata": {
        "id": "TS4xjOV1FLFt"
      },
      "source": [
        "Obtain the elements from index `0` until index `2`:"
      ]
    },
    {
      "cell_type": "code",
      "execution_count": null,
      "metadata": {
        "id": "mddB4SIEFLFt",
        "outputId": "ac314f1a-9880-4165-c32f-e8ce033f1cb4"
      },
      "outputs": [
        {
          "data": {
            "text/plain": [
              "[60, 70]"
            ]
          },
          "execution_count": 57,
          "metadata": {},
          "output_type": "execute_result"
        }
      ],
      "source": [
        "heart_rates[0:2]"
      ]
    },
    {
      "cell_type": "markdown",
      "metadata": {
        "id": "uU26A42EFLFu"
      },
      "source": [
        "`variable[ from_index : to_index ]`"
      ]
    },
    {
      "cell_type": "markdown",
      "metadata": {
        "id": "SFz3yb_0FLFu"
      },
      "source": [
        "## How do I select elements from the beginning of a sequence?"
      ]
    },
    {
      "cell_type": "markdown",
      "metadata": {
        "id": "ipKGcg_KFLFu"
      },
      "source": [
        "Whenever you leave off `from_index`, it assume `0`: `variable[  : to_index ]`\n",
        "\n",
        "ie., \"from the beginning\""
      ]
    },
    {
      "cell_type": "code",
      "execution_count": null,
      "metadata": {
        "id": "_VA4uqBcFLFu",
        "outputId": "2e175da4-967f-4669-861f-a830a2edfac6"
      },
      "outputs": [
        {
          "data": {
            "text/plain": [
              "[60, 70, 50]"
            ]
          },
          "execution_count": 59,
          "metadata": {},
          "output_type": "execute_result"
        }
      ],
      "source": [
        "heart_rates[:3]"
      ]
    },
    {
      "cell_type": "markdown",
      "metadata": {
        "id": "0eMHzt6gFLFv"
      },
      "source": [
        "## How do I select elements until the end of a sequence?"
      ]
    },
    {
      "cell_type": "markdown",
      "metadata": {
        "id": "vW0aa4srFLFv"
      },
      "source": [
        "Whenever you leave off `to_index`, it assume `len(variable)` : `variable[  : to_index ]`\n",
        "\n",
        "ie., \"from the beginning\""
      ]
    },
    {
      "cell_type": "code",
      "execution_count": null,
      "metadata": {
        "id": "Y9q1Sv59FLFv",
        "outputId": "2d3bb573-50f8-440d-f4bd-959e39b917f6"
      },
      "outputs": [
        {
          "data": {
            "text/plain": [
              "[60, 70, 50, 40]"
            ]
          },
          "execution_count": 63,
          "metadata": {},
          "output_type": "execute_result"
        }
      ],
      "source": [
        "heart_rates"
      ]
    },
    {
      "cell_type": "code",
      "execution_count": null,
      "metadata": {
        "id": "tluTq7gbFLFv",
        "outputId": "791b7b73-7de2-4c37-f447-46bd3bf1ccd3"
      },
      "outputs": [
        {
          "data": {
            "text/plain": [
              "[50, 40]"
            ]
          },
          "execution_count": 60,
          "metadata": {},
          "output_type": "execute_result"
        }
      ],
      "source": [
        "heart_rates[2:]"
      ]
    },
    {
      "cell_type": "markdown",
      "metadata": {
        "id": "SWz8m27mFLFw"
      },
      "source": [
        "Aside: the `len()` of a list is the number of elements, which is also an index you can use:"
      ]
    },
    {
      "cell_type": "code",
      "execution_count": null,
      "metadata": {
        "id": "o7s7ITVNFLFw",
        "outputId": "8938266f-5c71-413f-d778-958f07602e9d"
      },
      "outputs": [
        {
          "data": {
            "text/plain": [
              "4"
            ]
          },
          "execution_count": 61,
          "metadata": {},
          "output_type": "execute_result"
        }
      ],
      "source": [
        "len(heart_rates)"
      ]
    },
    {
      "cell_type": "code",
      "execution_count": null,
      "metadata": {
        "scrolled": true,
        "id": "Q3f3E90CFLFw",
        "outputId": "3ec08e2d-5cab-43ef-9772-588e92c814ca"
      },
      "outputs": [
        {
          "data": {
            "text/plain": [
              "[50, 40]"
            ]
          },
          "execution_count": 62,
          "metadata": {},
          "output_type": "execute_result"
        }
      ],
      "source": [
        "heart_rates[2:4]"
      ]
    },
    {
      "cell_type": "markdown",
      "metadata": {
        "id": "BY0OKGorFLFw"
      },
      "source": [
        "## How do I obtain a part of a string?"
      ]
    },
    {
      "cell_type": "markdown",
      "metadata": {
        "id": "SCOp-pGZFLFx"
      },
      "source": [
        "Strings may also be sliced:"
      ]
    },
    {
      "cell_type": "code",
      "execution_count": null,
      "metadata": {
        "id": "IG8R9NlEFLFx"
      },
      "outputs": [],
      "source": [
        "quote = \"be the change you wish to see in the world!\""
      ]
    },
    {
      "cell_type": "code",
      "execution_count": null,
      "metadata": {
        "id": "_FNFRWLaFLFx",
        "outputId": "17836766-5fc0-4999-c9d1-b1d2609a244d"
      },
      "outputs": [
        {
          "data": {
            "text/plain": [
              "'be'"
            ]
          },
          "execution_count": 79,
          "metadata": {},
          "output_type": "execute_result"
        }
      ],
      "source": [
        "quote[0:2]"
      ]
    },
    {
      "cell_type": "code",
      "execution_count": null,
      "metadata": {
        "id": "n3e6zSS6FLFx",
        "outputId": "c5be5e81-eaf5-4cf7-dcd3-bf1d81c119ec"
      },
      "outputs": [
        {
          "data": {
            "text/plain": [
              "'world!'"
            ]
          },
          "execution_count": 80,
          "metadata": {},
          "output_type": "execute_result"
        }
      ],
      "source": [
        "quote[-6:]"
      ]
    },
    {
      "cell_type": "markdown",
      "metadata": {
        "id": "4Q8npv9nFLFy"
      },
      "source": [
        "## Exercise (15 min)\n",
        "\n",
        "Using `print()`, produce a report on a user whose health measurements are the following:\n",
        "\n",
        "```python\n",
        "heart_rate = [60, 70, 50, 40]\n",
        "blood_pressure = [120, 180, 150, 175, 110]\n",
        "```\n",
        "\n",
        "The report should contain:\n",
        "\n",
        "* the first two measurements of each\n",
        "* last two measurements of each\n",
        "* the number of measurements of HR and BP\n",
        "    * HINT: `len()`\n",
        "* the mean of each\n",
        "    * HINT: use `sum()` and `len()`\n",
        "    \n",
        "* EXTRA:\n",
        "    * use `input()` and `append` to add a new entry to `heart_rate`\n",
        "        * HINT: use `int()` to convert it to an integer\n",
        "    * show the report again\n",
        "        * ie., recompute the totals/means/etc. now you have changes the list"
      ]
    },
    {
      "cell_type": "markdown",
      "metadata": {
        "id": "bxa0UkV1FLFy"
      },
      "source": [
        "## Solution"
      ]
    },
    {
      "cell_type": "code",
      "execution_count": null,
      "metadata": {
        "id": "9MoKJDwsFLFy",
        "outputId": "85ec8945-3fe1-4efd-b698-f06d29b7e137"
      },
      "outputs": [
        {
          "data": {
            "text/plain": [
              "[60, 70]"
            ]
          },
          "execution_count": 70,
          "metadata": {},
          "output_type": "execute_result"
        }
      ],
      "source": [
        "heart_rate = [60, 70, 50, 40]\n",
        "blood_pressure = [120, 180, 150, 175, 110]\n",
        "\n",
        "heart_rate[0:2]"
      ]
    },
    {
      "cell_type": "code",
      "execution_count": null,
      "metadata": {
        "id": "m6H9pr0fFLFz",
        "outputId": "d0ff6b98-8dc7-4e37-a26d-46a66e3dffc8"
      },
      "outputs": [
        {
          "data": {
            "text/plain": [
              "[120, 180]"
            ]
          },
          "execution_count": 71,
          "metadata": {},
          "output_type": "execute_result"
        }
      ],
      "source": [
        "blood_pressure[:2]"
      ]
    },
    {
      "cell_type": "code",
      "execution_count": null,
      "metadata": {
        "id": "HYIFMUKsFLFz",
        "outputId": "2b4d71ad-9ff8-4e54-e3f1-bb405537795a"
      },
      "outputs": [
        {
          "data": {
            "text/plain": [
              "[175, 110]"
            ]
          },
          "execution_count": 72,
          "metadata": {},
          "output_type": "execute_result"
        }
      ],
      "source": [
        "blood_pressure[-2:]"
      ]
    },
    {
      "cell_type": "code",
      "execution_count": null,
      "metadata": {
        "id": "1GDEBWwqFLFz",
        "outputId": "521b981e-ccfb-4e4d-d945-94df1ddf270b"
      },
      "outputs": [
        {
          "data": {
            "text/plain": [
              "[50, 40]"
            ]
          },
          "execution_count": 73,
          "metadata": {},
          "output_type": "execute_result"
        }
      ],
      "source": [
        "heart_rate[-2:]"
      ]
    },
    {
      "cell_type": "code",
      "execution_count": null,
      "metadata": {
        "id": "sbiBOM74FLF0",
        "outputId": "789d658a-1c91-4168-d499-adb55d8f6150"
      },
      "outputs": [
        {
          "data": {
            "text/plain": [
              "55.0"
            ]
          },
          "execution_count": 75,
          "metadata": {},
          "output_type": "execute_result"
        }
      ],
      "source": [
        "sum(heart_rate) / len(heart_rate)"
      ]
    },
    {
      "cell_type": "code",
      "execution_count": null,
      "metadata": {
        "id": "KztKEKBsFLF0",
        "outputId": "07ce61ad-1ce6-4190-900c-3f58a8fe2a1d"
      },
      "outputs": [
        {
          "name": "stdout",
          "output_type": "stream",
          "text": [
            "What's your Heart Rate?120\n"
          ]
        },
        {
          "data": {
            "text/plain": [
              "68.0"
            ]
          },
          "execution_count": 76,
          "metadata": {},
          "output_type": "execute_result"
        }
      ],
      "source": [
        "user_hr = float(input(\"What's your Heart Rate?\"))\n",
        "\n",
        "heart_rate.append(user_hr)\n",
        "sum(heart_rate) / len(heart_rate)"
      ]
    },
    {
      "cell_type": "code",
      "execution_count": null,
      "metadata": {
        "id": "WwWy9RMRFLF0",
        "outputId": "7949c3d1-9d7f-44c1-870f-f0ccf89896bd"
      },
      "outputs": [
        {
          "data": {
            "text/plain": [
              "[40, 120.0]"
            ]
          },
          "execution_count": 77,
          "metadata": {},
          "output_type": "execute_result"
        }
      ],
      "source": [
        "heart_rate[-2:]"
      ]
    },
    {
      "cell_type": "code",
      "execution_count": null,
      "metadata": {
        "id": "xSUkMzkDFLF0"
      },
      "outputs": [],
      "source": [
        ""
      ]
    }
  ],
  "metadata": {
    "kernelspec": {
      "display_name": "Python 3 (ipykernel)",
      "language": "python",
      "name": "python3"
    },
    "language_info": {
      "codemirror_mode": {
        "name": "ipython",
        "version": 3
      },
      "file_extension": ".py",
      "mimetype": "text/x-python",
      "name": "python",
      "nbconvert_exporter": "python",
      "pygments_lexer": "ipython3",
      "version": "3.9.7"
    },
    "colab": {
      "name": "12_IntroPyData.ipynb",
      "provenance": [],
      "include_colab_link": true
    }
  },
  "nbformat": 4,
  "nbformat_minor": 0
}