{
  "cells": [
    {
      "cell_type": "markdown",
      "metadata": {
        "id": "view-in-github",
        "colab_type": "text"
      },
      "source": [
        "<a href=\"https://colab.research.google.com/github/deepanshuMeteor/QA-Big-Data-Fundamentals/blob/main/DA_DA_Pandas.ipynb\" target=\"_parent\"><img src=\"https://colab.research.google.com/assets/colab-badge.svg\" alt=\"Open In Colab\"/></a>"
      ]
    },
    {
      "cell_type": "markdown",
      "metadata": {
        "id": "tTijMq8aZKIo"
      },
      "source": [
        "# Python for Data Science & Analysis \n",
        "## Notes 3.1, Introduction to Pandas"
      ]
    },
    {
      "cell_type": "markdown",
      "metadata": {
        "id": "FGE84s7XZKIy"
      },
      "source": [
        "## Objectives\n",
        "* import pandas\n",
        "* write a program which uses pandas to\n",
        "    * construct a dataframe via reading a dataset\n",
        "    * remove missing data\n",
        "    * obtain a subset of columns using list indexes"
      ]
    },
    {
      "cell_type": "markdown",
      "metadata": {
        "id": "wEDlO7CqZKIz"
      },
      "source": [
        "## What are the python data science and analysis libraries?"
      ]
    },
    {
      "cell_type": "markdown",
      "metadata": {
        "id": "QPxZ_HhCZKI0"
      },
      "source": [
        "* NumPy\n",
        "    * fast lists ( aka. arrays)\n",
        "* Pandas\n",
        "    * provides single-machine dataframes (aka. tables)\n",
        "* Seaborn & matplotlib\n",
        "    * visualization\n",
        "    \n",
        "    \n",
        "* Spark\n",
        "    * query over distributed file systems \n",
        "* plotly\n",
        "    * interactive visuals\n",
        "* scipy, sklearn, tensorflow, pytorch, statsmodels\n",
        "    * scientific & statistical programming\n",
        "* Aside:\n",
        "    * NB. sqlite3 is written in C"
      ]
    },
    {
      "cell_type": "markdown",
      "metadata": {
        "id": "zKoG0reUZKI2"
      },
      "source": [
        "# Part 1a: Introduction to Pandas"
      ]
    },
    {
      "cell_type": "markdown",
      "metadata": {
        "id": "lZJAXVZ5ZKI4"
      },
      "source": [
        "## What is Pandas for?"
      ]
    },
    {
      "cell_type": "markdown",
      "metadata": {
        "id": "Sl8qoAfzZKI5"
      },
      "source": [
        "Pandas uses fast FORTRAN and C code to **provide table-like querying and processing in python**. "
      ]
    },
    {
      "cell_type": "markdown",
      "metadata": {
        "id": "l9CsqznUZKI7"
      },
      "source": [
        "Pandas is a **fast, powerful, flexible** and easy to use open source **data analysis and manipulation tool**.\n",
        "\n",
        "ref: https://pandas.pydata.org/"
      ]
    },
    {
      "cell_type": "markdown",
      "metadata": {
        "id": "5CPmKM5WZKI9"
      },
      "source": [
        "## When should I use pandas (vs., spark, dask, etc.)?"
      ]
    },
    {
      "cell_type": "markdown",
      "metadata": {
        "id": "8qdfJ49oZKI-"
      },
      "source": [
        "Pandas is for single-machine exploratory data investigation (& analytical processing). It is useful and performant when dealing with medium-sized datasets (ie., < RAM-of-Machine). "
      ]
    },
    {
      "cell_type": "markdown",
      "metadata": {
        "id": "9btVbAOuZKI_"
      },
      "source": [
        "Spark (and distributed libraries) is for programmatic data manipulation (eg., data engineering pipelines) and analytical investigation \"at large scale\". "
      ]
    },
    {
      "cell_type": "markdown",
      "metadata": {
        "id": "NNOSc0FxZKJA"
      },
      "source": [
        "Even if you have a spark install, it is typically best to use pandas for the exploratory phase; and move to spark when requiring the relevant queries to run over massive datasets."
      ]
    },
    {
      "cell_type": "markdown",
      "metadata": {
        "id": "fySwAFG1ZKJB"
      },
      "source": [
        "## How should I quickly explore data?"
      ]
    },
    {
      "cell_type": "markdown",
      "metadata": {
        "id": "ZoWI-N5NZKJC"
      },
      "source": [
        "If you have a big distributed system (eg., spark) -- or a massive amount of data -- you can get very far by taking a smaller random sample and working with this sample on a single machine. \n",
        "\n",
        "Eg., 2 TB dataset in spark -> sample 1 GB of rows at random -> csv file\n",
        "\n",
        "Then just work with the csv file, until you've produced your analysis, then run on all data."
      ]
    },
    {
      "cell_type": "markdown",
      "metadata": {
        "id": "7a6VB2EtZKJD"
      },
      "source": [
        "## How do I import Pandas?"
      ]
    },
    {
      "cell_type": "code",
      "execution_count": 1,
      "metadata": {
        "id": "jXTBDCQNZKJE"
      },
      "outputs": [],
      "source": [
        "import pandas as pd"
      ]
    },
    {
      "cell_type": "markdown",
      "metadata": {
        "id": "t3RJbC5BZKJH"
      },
      "source": [
        "...in python, most data analysis libraries are imported and **renamed to enable abbreviated code**...."
      ]
    },
    {
      "cell_type": "markdown",
      "metadata": {
        "id": "TveQvk6TZKJH"
      },
      "source": [
        "## How does pandas provide SQL-like operations in python?"
      ]
    },
    {
      "cell_type": "code",
      "execution_count": 2,
      "metadata": {
        "colab": {
          "base_uri": "https://localhost:8080/",
          "height": 239
        },
        "id": "m1JRDDeXZKJI",
        "outputId": "1c506dd3-cba1-4b96-8a34-fdd0dfdc8619"
      },
      "outputs": [
        {
          "output_type": "execute_result",
          "data": {
            "text/plain": [
              "     survived  pclass     sex   age  sibsp  parch     fare embarked  class  \\\n",
              "255         1       3  female  29.0      0      2  15.2458        C  Third   \n",
              "460         1       1    male  48.0      0      0  26.5500        S  First   \n",
              "352         0       3    male  15.0      1      1   7.2292        C  Third   \n",
              "770         0       3    male  24.0      0      0   9.5000        S  Third   \n",
              "\n",
              "       who  adult_male deck  embark_town alive  alone  \n",
              "255  woman       False  NaN    Cherbourg   yes  False  \n",
              "460    man        True    E  Southampton   yes   True  \n",
              "352  child       False  NaN    Cherbourg    no  False  \n",
              "770    man        True  NaN  Southampton    no   True  "
            ],
            "text/html": [
              "\n",
              "  <div id=\"df-42cea361-a1a2-47bf-b047-bbdd8070ceb3\">\n",
              "    <div class=\"colab-df-container\">\n",
              "      <div>\n",
              "<style scoped>\n",
              "    .dataframe tbody tr th:only-of-type {\n",
              "        vertical-align: middle;\n",
              "    }\n",
              "\n",
              "    .dataframe tbody tr th {\n",
              "        vertical-align: top;\n",
              "    }\n",
              "\n",
              "    .dataframe thead th {\n",
              "        text-align: right;\n",
              "    }\n",
              "</style>\n",
              "<table border=\"1\" class=\"dataframe\">\n",
              "  <thead>\n",
              "    <tr style=\"text-align: right;\">\n",
              "      <th></th>\n",
              "      <th>survived</th>\n",
              "      <th>pclass</th>\n",
              "      <th>sex</th>\n",
              "      <th>age</th>\n",
              "      <th>sibsp</th>\n",
              "      <th>parch</th>\n",
              "      <th>fare</th>\n",
              "      <th>embarked</th>\n",
              "      <th>class</th>\n",
              "      <th>who</th>\n",
              "      <th>adult_male</th>\n",
              "      <th>deck</th>\n",
              "      <th>embark_town</th>\n",
              "      <th>alive</th>\n",
              "      <th>alone</th>\n",
              "    </tr>\n",
              "  </thead>\n",
              "  <tbody>\n",
              "    <tr>\n",
              "      <th>255</th>\n",
              "      <td>1</td>\n",
              "      <td>3</td>\n",
              "      <td>female</td>\n",
              "      <td>29.0</td>\n",
              "      <td>0</td>\n",
              "      <td>2</td>\n",
              "      <td>15.2458</td>\n",
              "      <td>C</td>\n",
              "      <td>Third</td>\n",
              "      <td>woman</td>\n",
              "      <td>False</td>\n",
              "      <td>NaN</td>\n",
              "      <td>Cherbourg</td>\n",
              "      <td>yes</td>\n",
              "      <td>False</td>\n",
              "    </tr>\n",
              "    <tr>\n",
              "      <th>460</th>\n",
              "      <td>1</td>\n",
              "      <td>1</td>\n",
              "      <td>male</td>\n",
              "      <td>48.0</td>\n",
              "      <td>0</td>\n",
              "      <td>0</td>\n",
              "      <td>26.5500</td>\n",
              "      <td>S</td>\n",
              "      <td>First</td>\n",
              "      <td>man</td>\n",
              "      <td>True</td>\n",
              "      <td>E</td>\n",
              "      <td>Southampton</td>\n",
              "      <td>yes</td>\n",
              "      <td>True</td>\n",
              "    </tr>\n",
              "    <tr>\n",
              "      <th>352</th>\n",
              "      <td>0</td>\n",
              "      <td>3</td>\n",
              "      <td>male</td>\n",
              "      <td>15.0</td>\n",
              "      <td>1</td>\n",
              "      <td>1</td>\n",
              "      <td>7.2292</td>\n",
              "      <td>C</td>\n",
              "      <td>Third</td>\n",
              "      <td>child</td>\n",
              "      <td>False</td>\n",
              "      <td>NaN</td>\n",
              "      <td>Cherbourg</td>\n",
              "      <td>no</td>\n",
              "      <td>False</td>\n",
              "    </tr>\n",
              "    <tr>\n",
              "      <th>770</th>\n",
              "      <td>0</td>\n",
              "      <td>3</td>\n",
              "      <td>male</td>\n",
              "      <td>24.0</td>\n",
              "      <td>0</td>\n",
              "      <td>0</td>\n",
              "      <td>9.5000</td>\n",
              "      <td>S</td>\n",
              "      <td>Third</td>\n",
              "      <td>man</td>\n",
              "      <td>True</td>\n",
              "      <td>NaN</td>\n",
              "      <td>Southampton</td>\n",
              "      <td>no</td>\n",
              "      <td>True</td>\n",
              "    </tr>\n",
              "  </tbody>\n",
              "</table>\n",
              "</div>\n",
              "      <button class=\"colab-df-convert\" onclick=\"convertToInteractive('df-42cea361-a1a2-47bf-b047-bbdd8070ceb3')\"\n",
              "              title=\"Convert this dataframe to an interactive table.\"\n",
              "              style=\"display:none;\">\n",
              "        \n",
              "  <svg xmlns=\"http://www.w3.org/2000/svg\" height=\"24px\"viewBox=\"0 0 24 24\"\n",
              "       width=\"24px\">\n",
              "    <path d=\"M0 0h24v24H0V0z\" fill=\"none\"/>\n",
              "    <path d=\"M18.56 5.44l.94 2.06.94-2.06 2.06-.94-2.06-.94-.94-2.06-.94 2.06-2.06.94zm-11 1L8.5 8.5l.94-2.06 2.06-.94-2.06-.94L8.5 2.5l-.94 2.06-2.06.94zm10 10l.94 2.06.94-2.06 2.06-.94-2.06-.94-.94-2.06-.94 2.06-2.06.94z\"/><path d=\"M17.41 7.96l-1.37-1.37c-.4-.4-.92-.59-1.43-.59-.52 0-1.04.2-1.43.59L10.3 9.45l-7.72 7.72c-.78.78-.78 2.05 0 2.83L4 21.41c.39.39.9.59 1.41.59.51 0 1.02-.2 1.41-.59l7.78-7.78 2.81-2.81c.8-.78.8-2.07 0-2.86zM5.41 20L4 18.59l7.72-7.72 1.47 1.35L5.41 20z\"/>\n",
              "  </svg>\n",
              "      </button>\n",
              "      \n",
              "  <style>\n",
              "    .colab-df-container {\n",
              "      display:flex;\n",
              "      flex-wrap:wrap;\n",
              "      gap: 12px;\n",
              "    }\n",
              "\n",
              "    .colab-df-convert {\n",
              "      background-color: #E8F0FE;\n",
              "      border: none;\n",
              "      border-radius: 50%;\n",
              "      cursor: pointer;\n",
              "      display: none;\n",
              "      fill: #1967D2;\n",
              "      height: 32px;\n",
              "      padding: 0 0 0 0;\n",
              "      width: 32px;\n",
              "    }\n",
              "\n",
              "    .colab-df-convert:hover {\n",
              "      background-color: #E2EBFA;\n",
              "      box-shadow: 0px 1px 2px rgba(60, 64, 67, 0.3), 0px 1px 3px 1px rgba(60, 64, 67, 0.15);\n",
              "      fill: #174EA6;\n",
              "    }\n",
              "\n",
              "    [theme=dark] .colab-df-convert {\n",
              "      background-color: #3B4455;\n",
              "      fill: #D2E3FC;\n",
              "    }\n",
              "\n",
              "    [theme=dark] .colab-df-convert:hover {\n",
              "      background-color: #434B5C;\n",
              "      box-shadow: 0px 1px 3px 1px rgba(0, 0, 0, 0.15);\n",
              "      filter: drop-shadow(0px 1px 2px rgba(0, 0, 0, 0.3));\n",
              "      fill: #FFFFFF;\n",
              "    }\n",
              "  </style>\n",
              "\n",
              "      <script>\n",
              "        const buttonEl =\n",
              "          document.querySelector('#df-42cea361-a1a2-47bf-b047-bbdd8070ceb3 button.colab-df-convert');\n",
              "        buttonEl.style.display =\n",
              "          google.colab.kernel.accessAllowed ? 'block' : 'none';\n",
              "\n",
              "        async function convertToInteractive(key) {\n",
              "          const element = document.querySelector('#df-42cea361-a1a2-47bf-b047-bbdd8070ceb3');\n",
              "          const dataTable =\n",
              "            await google.colab.kernel.invokeFunction('convertToInteractive',\n",
              "                                                     [key], {});\n",
              "          if (!dataTable) return;\n",
              "\n",
              "          const docLinkHtml = 'Like what you see? Visit the ' +\n",
              "            '<a target=\"_blank\" href=https://colab.research.google.com/notebooks/data_table.ipynb>data table notebook</a>'\n",
              "            + ' to learn more about interactive tables.';\n",
              "          element.innerHTML = '';\n",
              "          dataTable['output_type'] = 'display_data';\n",
              "          await google.colab.output.renderOutput(dataTable, element);\n",
              "          const docLink = document.createElement('div');\n",
              "          docLink.innerHTML = docLinkHtml;\n",
              "          element.appendChild(docLink);\n",
              "        }\n",
              "      </script>\n",
              "    </div>\n",
              "  </div>\n",
              "  "
            ]
          },
          "metadata": {},
          "execution_count": 2
        }
      ],
      "source": [
        "ti = pd.read_csv('titanic.csv')\n",
        "ti.sample(4)\n"
      ]
    },
    {
      "cell_type": "markdown",
      "metadata": {
        "id": "-R0tuYwOZKJK"
      },
      "source": [
        "* `SELECT mean(survived), class FROM df GROUP BY class`\n",
        "* Give me the rates of survival, on the titanic, by class:"
      ]
    },
    {
      "cell_type": "code",
      "execution_count": null,
      "metadata": {
        "id": "C-PSe30xZKJL",
        "outputId": "af0f1b08-bf9c-47e2-a42a-bb4f30614c41"
      },
      "outputs": [
        {
          "data": {
            "text/plain": [
              "class\n",
              "First     0.629630\n",
              "Second    0.472826\n",
              "Third     0.242363\n",
              "Name: survived, dtype: float64"
            ]
          },
          "execution_count": 13,
          "metadata": {},
          "output_type": "execute_result"
        }
      ],
      "source": [
        "ti['survived'].groupby(ti['class']).mean()\n"
      ]
    },
    {
      "cell_type": "markdown",
      "metadata": {
        "id": "4rtANhXsZKJL"
      },
      "source": [
        "...this is just to provide a sense of the capabilities of pandas..."
      ]
    },
    {
      "cell_type": "markdown",
      "metadata": {
        "id": "ktFG3GE3ZKJM"
      },
      "source": [
        "## What data structure does Pandas provide?"
      ]
    },
    {
      "cell_type": "markdown",
      "metadata": {
        "id": "4qidx-7jZKJN"
      },
      "source": [
        "Pandas provides a *dataframe* which is a table, *stored*, in column-order.\n",
        "\n",
        "Relational databases store data in row-order:"
      ]
    },
    {
      "cell_type": "code",
      "execution_count": null,
      "metadata": {
        "id": "coJgvcVnZKJN"
      },
      "outputs": [],
      "source": [
        "#      (ID, Age, Name), ...\n",
        "db = [(1, 18, \"Michael\"), (2, 28, \"Lucie\"), (3, 30, \"Chris\")]\n"
      ]
    },
    {
      "cell_type": "markdown",
      "metadata": {
        "id": "4EgzBZ0gZKJO"
      },
      "source": [
        "In software and data engineering application you typically want a subset of rows: "
      ]
    },
    {
      "cell_type": "code",
      "execution_count": null,
      "metadata": {
        "id": "oZw2878tZKJO",
        "outputId": "ad71dab7-0493-4e2d-b0ea-7c29ee10a152"
      },
      "outputs": [
        {
          "data": {
            "text/plain": [
              "[(1, 18, 'Michael'), (2, 28, 'Lucie')]"
            ]
          },
          "execution_count": 8,
          "metadata": {},
          "output_type": "execute_result"
        }
      ],
      "source": [
        "db[0:2] # the first two rows\n"
      ]
    },
    {
      "cell_type": "markdown",
      "metadata": {
        "id": "X0KkLYpTZKJP"
      },
      "source": [
        "In typical applications which use relational databases, tables have $<20$ columns; and we are typically including all columns and filtering on rows."
      ]
    },
    {
      "cell_type": "markdown",
      "metadata": {
        "id": "Ny2ivc7SZKJQ"
      },
      "source": [
        "In analytical applications, you may have $>>20$ columns, and  you will often want subsets of them:"
      ]
    },
    {
      "cell_type": "code",
      "execution_count": null,
      "metadata": {
        "id": "TcrFjGJmZKJQ"
      },
      "outputs": [],
      "source": [
        "#      ID         Age            Name\n",
        "df = [(1, 2, 3), (18, 28, 30), (\"Michael\", \"Lucie\", \"Chris\")]\n"
      ]
    },
    {
      "cell_type": "markdown",
      "metadata": {
        "id": "V0N_iOvmZKJR"
      },
      "source": [
        "The last two columns:"
      ]
    },
    {
      "cell_type": "code",
      "execution_count": null,
      "metadata": {
        "id": "B7k7Rm_-ZKJR",
        "outputId": "6e63592e-ada1-4360-9f27-9ea4403bfc3a"
      },
      "outputs": [
        {
          "data": {
            "text/plain": [
              "[(18, 28, 30), ('Michael', 'Lucie', 'Chris')]"
            ]
          },
          "execution_count": 10,
          "metadata": {},
          "output_type": "execute_result"
        }
      ],
      "source": [
        "df[-2:]\n"
      ]
    },
    {
      "cell_type": "markdown",
      "metadata": {
        "id": "qrPHWgjcZKJR"
      },
      "source": [
        "## Reading from a Database"
      ]
    },
    {
      "cell_type": "markdown",
      "metadata": {
        "id": "Ka4f7RcbZKJS"
      },
      "source": [
        "Pandas can import data from a relational database:"
      ]
    },
    {
      "cell_type": "code",
      "execution_count": null,
      "metadata": {
        "id": "FMLbIsRhZKJS"
      },
      "outputs": [],
      "source": [
        ""
      ]
    },
    {
      "cell_type": "code",
      "execution_count": 3,
      "metadata": {
        "colab": {
          "base_uri": "https://localhost:8080/",
          "height": 380
        },
        "id": "pgQCzjF2ZKJS",
        "outputId": "5706e137-2cfd-4a45-f76e-d33e8e09af77"
      },
      "outputs": [
        {
          "output_type": "error",
          "ename": "ValueError",
          "evalue": "ignored",
          "traceback": [
            "\u001b[0;31m---------------------------------------------------------------------------\u001b[0m",
            "\u001b[0;31mValueError\u001b[0m                                Traceback (most recent call last)",
            "\u001b[0;32m<ipython-input-3-bfd36fe07a5f>\u001b[0m in \u001b[0;36m<module>\u001b[0;34m()\u001b[0m\n\u001b[1;32m      2\u001b[0m \u001b[0mdb\u001b[0m \u001b[0;34m=\u001b[0m \u001b[0msqlite3\u001b[0m\u001b[0;34m.\u001b[0m\u001b[0mconnect\u001b[0m\u001b[0;34m(\u001b[0m\u001b[0;34m\"titanic.db\"\u001b[0m\u001b[0;34m)\u001b[0m\u001b[0;34m\u001b[0m\u001b[0;34m\u001b[0m\u001b[0m\n\u001b[1;32m      3\u001b[0m \u001b[0;34m\u001b[0m\u001b[0m\n\u001b[0;32m----> 4\u001b[0;31m \u001b[0mti\u001b[0m\u001b[0;34m.\u001b[0m\u001b[0mto_sql\u001b[0m\u001b[0;34m(\u001b[0m\u001b[0;34m'titanic'\u001b[0m\u001b[0;34m,\u001b[0m \u001b[0mdb\u001b[0m\u001b[0;34m)\u001b[0m\u001b[0;34m\u001b[0m\u001b[0;34m\u001b[0m\u001b[0m\n\u001b[0m\u001b[1;32m      5\u001b[0m \u001b[0;34m\u001b[0m\u001b[0m\n\u001b[1;32m      6\u001b[0m \u001b[0mdb\u001b[0m\u001b[0;34m.\u001b[0m\u001b[0mcommit\u001b[0m\u001b[0;34m(\u001b[0m\u001b[0;34m)\u001b[0m\u001b[0;34m\u001b[0m\u001b[0;34m\u001b[0m\u001b[0m\n",
            "\u001b[0;32m/usr/local/lib/python3.7/dist-packages/pandas/core/generic.py\u001b[0m in \u001b[0;36mto_sql\u001b[0;34m(self, name, con, schema, if_exists, index, index_label, chunksize, dtype, method)\u001b[0m\n\u001b[1;32m   2880\u001b[0m             \u001b[0mchunksize\u001b[0m\u001b[0;34m=\u001b[0m\u001b[0mchunksize\u001b[0m\u001b[0;34m,\u001b[0m\u001b[0;34m\u001b[0m\u001b[0;34m\u001b[0m\u001b[0m\n\u001b[1;32m   2881\u001b[0m             \u001b[0mdtype\u001b[0m\u001b[0;34m=\u001b[0m\u001b[0mdtype\u001b[0m\u001b[0;34m,\u001b[0m\u001b[0;34m\u001b[0m\u001b[0;34m\u001b[0m\u001b[0m\n\u001b[0;32m-> 2882\u001b[0;31m             \u001b[0mmethod\u001b[0m\u001b[0;34m=\u001b[0m\u001b[0mmethod\u001b[0m\u001b[0;34m,\u001b[0m\u001b[0;34m\u001b[0m\u001b[0;34m\u001b[0m\u001b[0m\n\u001b[0m\u001b[1;32m   2883\u001b[0m         )\n\u001b[1;32m   2884\u001b[0m \u001b[0;34m\u001b[0m\u001b[0m\n",
            "\u001b[0;32m/usr/local/lib/python3.7/dist-packages/pandas/io/sql.py\u001b[0m in \u001b[0;36mto_sql\u001b[0;34m(frame, name, con, schema, if_exists, index, index_label, chunksize, dtype, method, engine, **engine_kwargs)\u001b[0m\n\u001b[1;32m    726\u001b[0m         \u001b[0mmethod\u001b[0m\u001b[0;34m=\u001b[0m\u001b[0mmethod\u001b[0m\u001b[0;34m,\u001b[0m\u001b[0;34m\u001b[0m\u001b[0;34m\u001b[0m\u001b[0m\n\u001b[1;32m    727\u001b[0m         \u001b[0mengine\u001b[0m\u001b[0;34m=\u001b[0m\u001b[0mengine\u001b[0m\u001b[0;34m,\u001b[0m\u001b[0;34m\u001b[0m\u001b[0;34m\u001b[0m\u001b[0m\n\u001b[0;32m--> 728\u001b[0;31m         \u001b[0;34m**\u001b[0m\u001b[0mengine_kwargs\u001b[0m\u001b[0;34m,\u001b[0m\u001b[0;34m\u001b[0m\u001b[0;34m\u001b[0m\u001b[0m\n\u001b[0m\u001b[1;32m    729\u001b[0m     )\n\u001b[1;32m    730\u001b[0m \u001b[0;34m\u001b[0m\u001b[0m\n",
            "\u001b[0;32m/usr/local/lib/python3.7/dist-packages/pandas/io/sql.py\u001b[0m in \u001b[0;36mto_sql\u001b[0;34m(self, frame, name, if_exists, index, index_label, schema, chunksize, dtype, method, **kwargs)\u001b[0m\n\u001b[1;32m   2223\u001b[0m             \u001b[0mdtype\u001b[0m\u001b[0;34m=\u001b[0m\u001b[0mdtype\u001b[0m\u001b[0;34m,\u001b[0m\u001b[0;34m\u001b[0m\u001b[0;34m\u001b[0m\u001b[0m\n\u001b[1;32m   2224\u001b[0m         )\n\u001b[0;32m-> 2225\u001b[0;31m         \u001b[0mtable\u001b[0m\u001b[0;34m.\u001b[0m\u001b[0mcreate\u001b[0m\u001b[0;34m(\u001b[0m\u001b[0;34m)\u001b[0m\u001b[0;34m\u001b[0m\u001b[0;34m\u001b[0m\u001b[0m\n\u001b[0m\u001b[1;32m   2226\u001b[0m         \u001b[0mtable\u001b[0m\u001b[0;34m.\u001b[0m\u001b[0minsert\u001b[0m\u001b[0;34m(\u001b[0m\u001b[0mchunksize\u001b[0m\u001b[0;34m,\u001b[0m \u001b[0mmethod\u001b[0m\u001b[0;34m)\u001b[0m\u001b[0;34m\u001b[0m\u001b[0;34m\u001b[0m\u001b[0m\n\u001b[1;32m   2227\u001b[0m \u001b[0;34m\u001b[0m\u001b[0m\n",
            "\u001b[0;32m/usr/local/lib/python3.7/dist-packages/pandas/io/sql.py\u001b[0m in \u001b[0;36mcreate\u001b[0;34m(self)\u001b[0m\n\u001b[1;32m    856\u001b[0m         \u001b[0;32mif\u001b[0m \u001b[0mself\u001b[0m\u001b[0;34m.\u001b[0m\u001b[0mexists\u001b[0m\u001b[0;34m(\u001b[0m\u001b[0;34m)\u001b[0m\u001b[0;34m:\u001b[0m\u001b[0;34m\u001b[0m\u001b[0;34m\u001b[0m\u001b[0m\n\u001b[1;32m    857\u001b[0m             \u001b[0;32mif\u001b[0m \u001b[0mself\u001b[0m\u001b[0;34m.\u001b[0m\u001b[0mif_exists\u001b[0m \u001b[0;34m==\u001b[0m \u001b[0;34m\"fail\"\u001b[0m\u001b[0;34m:\u001b[0m\u001b[0;34m\u001b[0m\u001b[0;34m\u001b[0m\u001b[0m\n\u001b[0;32m--> 858\u001b[0;31m                 \u001b[0;32mraise\u001b[0m \u001b[0mValueError\u001b[0m\u001b[0;34m(\u001b[0m\u001b[0;34mf\"Table '{self.name}' already exists.\"\u001b[0m\u001b[0;34m)\u001b[0m\u001b[0;34m\u001b[0m\u001b[0;34m\u001b[0m\u001b[0m\n\u001b[0m\u001b[1;32m    859\u001b[0m             \u001b[0;32melif\u001b[0m \u001b[0mself\u001b[0m\u001b[0;34m.\u001b[0m\u001b[0mif_exists\u001b[0m \u001b[0;34m==\u001b[0m \u001b[0;34m\"replace\"\u001b[0m\u001b[0;34m:\u001b[0m\u001b[0;34m\u001b[0m\u001b[0;34m\u001b[0m\u001b[0m\n\u001b[1;32m    860\u001b[0m                 \u001b[0mself\u001b[0m\u001b[0;34m.\u001b[0m\u001b[0mpd_sql\u001b[0m\u001b[0;34m.\u001b[0m\u001b[0mdrop_table\u001b[0m\u001b[0;34m(\u001b[0m\u001b[0mself\u001b[0m\u001b[0;34m.\u001b[0m\u001b[0mname\u001b[0m\u001b[0;34m,\u001b[0m \u001b[0mself\u001b[0m\u001b[0;34m.\u001b[0m\u001b[0mschema\u001b[0m\u001b[0;34m)\u001b[0m\u001b[0;34m\u001b[0m\u001b[0;34m\u001b[0m\u001b[0m\n",
            "\u001b[0;31mValueError\u001b[0m: Table 'titanic' already exists."
          ]
        }
      ],
      "source": [
        "import sqlite3\n",
        "db = sqlite3.connect(\"titanic.db\")\n",
        "\n",
        "ti.to_sql('titanic', db)\n",
        "\n",
        "db.commit()\n",
        "db.close()"
      ]
    },
    {
      "cell_type": "code",
      "execution_count": 4,
      "metadata": {
        "scrolled": true,
        "colab": {
          "base_uri": "https://localhost:8080/",
          "height": 207
        },
        "id": "uBOGNDKwZKJT",
        "outputId": "076bc36e-5fd9-4ef1-bd2d-b0d894053fe7"
      },
      "outputs": [
        {
          "output_type": "execute_result",
          "data": {
            "text/plain": [
              "   index  survived  pclass     sex   age  sibsp  parch   fare embarked  class  \\\n",
              "0     40         0       3  female  40.0      1      0  9.475        S  Third   \n",
              "1     94         0       3    male  59.0      0      0  7.250        S  Third   \n",
              "2    116         0       3    male  70.5      0      0  7.750        Q  Third   \n",
              "\n",
              "     who  adult_male  deck  embark_town alive  alone  \n",
              "0  woman           0  None  Southampton    no      0  \n",
              "1    man           1  None  Southampton    no      1  \n",
              "2    man           1  None   Queenstown    no      1  "
            ],
            "text/html": [
              "\n",
              "  <div id=\"df-e9f519e2-d970-4a3d-9520-fd3b5eafdaa6\">\n",
              "    <div class=\"colab-df-container\">\n",
              "      <div>\n",
              "<style scoped>\n",
              "    .dataframe tbody tr th:only-of-type {\n",
              "        vertical-align: middle;\n",
              "    }\n",
              "\n",
              "    .dataframe tbody tr th {\n",
              "        vertical-align: top;\n",
              "    }\n",
              "\n",
              "    .dataframe thead th {\n",
              "        text-align: right;\n",
              "    }\n",
              "</style>\n",
              "<table border=\"1\" class=\"dataframe\">\n",
              "  <thead>\n",
              "    <tr style=\"text-align: right;\">\n",
              "      <th></th>\n",
              "      <th>index</th>\n",
              "      <th>survived</th>\n",
              "      <th>pclass</th>\n",
              "      <th>sex</th>\n",
              "      <th>age</th>\n",
              "      <th>sibsp</th>\n",
              "      <th>parch</th>\n",
              "      <th>fare</th>\n",
              "      <th>embarked</th>\n",
              "      <th>class</th>\n",
              "      <th>who</th>\n",
              "      <th>adult_male</th>\n",
              "      <th>deck</th>\n",
              "      <th>embark_town</th>\n",
              "      <th>alive</th>\n",
              "      <th>alone</th>\n",
              "    </tr>\n",
              "  </thead>\n",
              "  <tbody>\n",
              "    <tr>\n",
              "      <th>0</th>\n",
              "      <td>40</td>\n",
              "      <td>0</td>\n",
              "      <td>3</td>\n",
              "      <td>female</td>\n",
              "      <td>40.0</td>\n",
              "      <td>1</td>\n",
              "      <td>0</td>\n",
              "      <td>9.475</td>\n",
              "      <td>S</td>\n",
              "      <td>Third</td>\n",
              "      <td>woman</td>\n",
              "      <td>0</td>\n",
              "      <td>None</td>\n",
              "      <td>Southampton</td>\n",
              "      <td>no</td>\n",
              "      <td>0</td>\n",
              "    </tr>\n",
              "    <tr>\n",
              "      <th>1</th>\n",
              "      <td>94</td>\n",
              "      <td>0</td>\n",
              "      <td>3</td>\n",
              "      <td>male</td>\n",
              "      <td>59.0</td>\n",
              "      <td>0</td>\n",
              "      <td>0</td>\n",
              "      <td>7.250</td>\n",
              "      <td>S</td>\n",
              "      <td>Third</td>\n",
              "      <td>man</td>\n",
              "      <td>1</td>\n",
              "      <td>None</td>\n",
              "      <td>Southampton</td>\n",
              "      <td>no</td>\n",
              "      <td>1</td>\n",
              "    </tr>\n",
              "    <tr>\n",
              "      <th>2</th>\n",
              "      <td>116</td>\n",
              "      <td>0</td>\n",
              "      <td>3</td>\n",
              "      <td>male</td>\n",
              "      <td>70.5</td>\n",
              "      <td>0</td>\n",
              "      <td>0</td>\n",
              "      <td>7.750</td>\n",
              "      <td>Q</td>\n",
              "      <td>Third</td>\n",
              "      <td>man</td>\n",
              "      <td>1</td>\n",
              "      <td>None</td>\n",
              "      <td>Queenstown</td>\n",
              "      <td>no</td>\n",
              "      <td>1</td>\n",
              "    </tr>\n",
              "  </tbody>\n",
              "</table>\n",
              "</div>\n",
              "      <button class=\"colab-df-convert\" onclick=\"convertToInteractive('df-e9f519e2-d970-4a3d-9520-fd3b5eafdaa6')\"\n",
              "              title=\"Convert this dataframe to an interactive table.\"\n",
              "              style=\"display:none;\">\n",
              "        \n",
              "  <svg xmlns=\"http://www.w3.org/2000/svg\" height=\"24px\"viewBox=\"0 0 24 24\"\n",
              "       width=\"24px\">\n",
              "    <path d=\"M0 0h24v24H0V0z\" fill=\"none\"/>\n",
              "    <path d=\"M18.56 5.44l.94 2.06.94-2.06 2.06-.94-2.06-.94-.94-2.06-.94 2.06-2.06.94zm-11 1L8.5 8.5l.94-2.06 2.06-.94-2.06-.94L8.5 2.5l-.94 2.06-2.06.94zm10 10l.94 2.06.94-2.06 2.06-.94-2.06-.94-.94-2.06-.94 2.06-2.06.94z\"/><path d=\"M17.41 7.96l-1.37-1.37c-.4-.4-.92-.59-1.43-.59-.52 0-1.04.2-1.43.59L10.3 9.45l-7.72 7.72c-.78.78-.78 2.05 0 2.83L4 21.41c.39.39.9.59 1.41.59.51 0 1.02-.2 1.41-.59l7.78-7.78 2.81-2.81c.8-.78.8-2.07 0-2.86zM5.41 20L4 18.59l7.72-7.72 1.47 1.35L5.41 20z\"/>\n",
              "  </svg>\n",
              "      </button>\n",
              "      \n",
              "  <style>\n",
              "    .colab-df-container {\n",
              "      display:flex;\n",
              "      flex-wrap:wrap;\n",
              "      gap: 12px;\n",
              "    }\n",
              "\n",
              "    .colab-df-convert {\n",
              "      background-color: #E8F0FE;\n",
              "      border: none;\n",
              "      border-radius: 50%;\n",
              "      cursor: pointer;\n",
              "      display: none;\n",
              "      fill: #1967D2;\n",
              "      height: 32px;\n",
              "      padding: 0 0 0 0;\n",
              "      width: 32px;\n",
              "    }\n",
              "\n",
              "    .colab-df-convert:hover {\n",
              "      background-color: #E2EBFA;\n",
              "      box-shadow: 0px 1px 2px rgba(60, 64, 67, 0.3), 0px 1px 3px 1px rgba(60, 64, 67, 0.15);\n",
              "      fill: #174EA6;\n",
              "    }\n",
              "\n",
              "    [theme=dark] .colab-df-convert {\n",
              "      background-color: #3B4455;\n",
              "      fill: #D2E3FC;\n",
              "    }\n",
              "\n",
              "    [theme=dark] .colab-df-convert:hover {\n",
              "      background-color: #434B5C;\n",
              "      box-shadow: 0px 1px 3px 1px rgba(0, 0, 0, 0.15);\n",
              "      filter: drop-shadow(0px 1px 2px rgba(0, 0, 0, 0.3));\n",
              "      fill: #FFFFFF;\n",
              "    }\n",
              "  </style>\n",
              "\n",
              "      <script>\n",
              "        const buttonEl =\n",
              "          document.querySelector('#df-e9f519e2-d970-4a3d-9520-fd3b5eafdaa6 button.colab-df-convert');\n",
              "        buttonEl.style.display =\n",
              "          google.colab.kernel.accessAllowed ? 'block' : 'none';\n",
              "\n",
              "        async function convertToInteractive(key) {\n",
              "          const element = document.querySelector('#df-e9f519e2-d970-4a3d-9520-fd3b5eafdaa6');\n",
              "          const dataTable =\n",
              "            await google.colab.kernel.invokeFunction('convertToInteractive',\n",
              "                                                     [key], {});\n",
              "          if (!dataTable) return;\n",
              "\n",
              "          const docLinkHtml = 'Like what you see? Visit the ' +\n",
              "            '<a target=\"_blank\" href=https://colab.research.google.com/notebooks/data_table.ipynb>data table notebook</a>'\n",
              "            + ' to learn more about interactive tables.';\n",
              "          element.innerHTML = '';\n",
              "          dataTable['output_type'] = 'display_data';\n",
              "          await google.colab.output.renderOutput(dataTable, element);\n",
              "          const docLink = document.createElement('div');\n",
              "          docLink.innerHTML = docLinkHtml;\n",
              "          element.appendChild(docLink);\n",
              "        }\n",
              "      </script>\n",
              "    </div>\n",
              "  </div>\n",
              "  "
            ]
          },
          "metadata": {},
          "execution_count": 4
        }
      ],
      "source": [
        "import sqlite3\n",
        "import pandas as pd\n",
        "\n",
        "with sqlite3.connect(\"titanic.db\") as db:\n",
        "    tbl = pd.read_sql_query(\"\"\"\n",
        "    \n",
        "        SELECT * \n",
        "        FROM titanic\n",
        "        WHERE age >= 40 AND survived = 0 AND class = \"Third\"\n",
        "        LIMIT 3\n",
        "    \"\"\", db)\n",
        "    \n",
        "tbl"
      ]
    },
    {
      "cell_type": "markdown",
      "metadata": {
        "id": "BwXU7o7eZKJT"
      },
      "source": [
        "# Part 1b: Using Pandas"
      ]
    },
    {
      "cell_type": "markdown",
      "metadata": {
        "id": "P9f1Q1zdZKJU"
      },
      "source": [
        "## How do I show a sample of rows?"
      ]
    },
    {
      "cell_type": "markdown",
      "metadata": {
        "id": "29z7QX9OZKJU"
      },
      "source": [
        "A random sample of rows:"
      ]
    },
    {
      "cell_type": "code",
      "execution_count": null,
      "metadata": {
        "id": "DSp_LnJgZKJU",
        "outputId": "1a4b0948-9356-4f00-dbbc-99e04f695199"
      },
      "outputs": [
        {
          "data": {
            "text/html": [
              "<div>\n",
              "<style scoped>\n",
              "    .dataframe tbody tr th:only-of-type {\n",
              "        vertical-align: middle;\n",
              "    }\n",
              "\n",
              "    .dataframe tbody tr th {\n",
              "        vertical-align: top;\n",
              "    }\n",
              "\n",
              "    .dataframe thead th {\n",
              "        text-align: right;\n",
              "    }\n",
              "</style>\n",
              "<table border=\"1\" class=\"dataframe\">\n",
              "  <thead>\n",
              "    <tr style=\"text-align: right;\">\n",
              "      <th></th>\n",
              "      <th>survived</th>\n",
              "      <th>pclass</th>\n",
              "      <th>sex</th>\n",
              "      <th>age</th>\n",
              "      <th>sibsp</th>\n",
              "      <th>parch</th>\n",
              "      <th>fare</th>\n",
              "      <th>embarked</th>\n",
              "      <th>class</th>\n",
              "      <th>who</th>\n",
              "      <th>adult_male</th>\n",
              "      <th>deck</th>\n",
              "      <th>embark_town</th>\n",
              "      <th>alive</th>\n",
              "      <th>alone</th>\n",
              "    </tr>\n",
              "  </thead>\n",
              "  <tbody>\n",
              "    <tr>\n",
              "      <th>95</th>\n",
              "      <td>0</td>\n",
              "      <td>3</td>\n",
              "      <td>male</td>\n",
              "      <td>NaN</td>\n",
              "      <td>0</td>\n",
              "      <td>0</td>\n",
              "      <td>8.0500</td>\n",
              "      <td>S</td>\n",
              "      <td>Third</td>\n",
              "      <td>man</td>\n",
              "      <td>True</td>\n",
              "      <td>NaN</td>\n",
              "      <td>Southampton</td>\n",
              "      <td>no</td>\n",
              "      <td>True</td>\n",
              "    </tr>\n",
              "    <tr>\n",
              "      <th>378</th>\n",
              "      <td>0</td>\n",
              "      <td>3</td>\n",
              "      <td>male</td>\n",
              "      <td>20.0</td>\n",
              "      <td>0</td>\n",
              "      <td>0</td>\n",
              "      <td>4.0125</td>\n",
              "      <td>C</td>\n",
              "      <td>Third</td>\n",
              "      <td>man</td>\n",
              "      <td>True</td>\n",
              "      <td>NaN</td>\n",
              "      <td>Cherbourg</td>\n",
              "      <td>no</td>\n",
              "      <td>True</td>\n",
              "    </tr>\n",
              "    <tr>\n",
              "      <th>662</th>\n",
              "      <td>0</td>\n",
              "      <td>1</td>\n",
              "      <td>male</td>\n",
              "      <td>47.0</td>\n",
              "      <td>0</td>\n",
              "      <td>0</td>\n",
              "      <td>25.5875</td>\n",
              "      <td>S</td>\n",
              "      <td>First</td>\n",
              "      <td>man</td>\n",
              "      <td>True</td>\n",
              "      <td>E</td>\n",
              "      <td>Southampton</td>\n",
              "      <td>no</td>\n",
              "      <td>True</td>\n",
              "    </tr>\n",
              "  </tbody>\n",
              "</table>\n",
              "</div>"
            ],
            "text/plain": [
              "     survived  pclass   sex   age  sibsp  parch     fare embarked  class  who  \\\n",
              "95          0       3  male   NaN      0      0   8.0500        S  Third  man   \n",
              "378         0       3  male  20.0      0      0   4.0125        C  Third  man   \n",
              "662         0       1  male  47.0      0      0  25.5875        S  First  man   \n",
              "\n",
              "     adult_male deck  embark_town alive  alone  \n",
              "95         True  NaN  Southampton    no   True  \n",
              "378        True  NaN    Cherbourg    no   True  \n",
              "662        True    E  Southampton    no   True  "
            ]
          },
          "execution_count": 9,
          "metadata": {},
          "output_type": "execute_result"
        }
      ],
      "source": [
        "ti.sample(3) # 3 random rows\n"
      ]
    },
    {
      "cell_type": "markdown",
      "metadata": {
        "id": "8Mji0KeFZKJV"
      },
      "source": [
        "Head provides the first `n`:"
      ]
    },
    {
      "cell_type": "code",
      "execution_count": null,
      "metadata": {
        "scrolled": true,
        "id": "saSUUm96ZKJV",
        "outputId": "949ba394-5012-48bd-8f62-b6f3262e33fe"
      },
      "outputs": [
        {
          "data": {
            "text/html": [
              "<div>\n",
              "<style scoped>\n",
              "    .dataframe tbody tr th:only-of-type {\n",
              "        vertical-align: middle;\n",
              "    }\n",
              "\n",
              "    .dataframe tbody tr th {\n",
              "        vertical-align: top;\n",
              "    }\n",
              "\n",
              "    .dataframe thead th {\n",
              "        text-align: right;\n",
              "    }\n",
              "</style>\n",
              "<table border=\"1\" class=\"dataframe\">\n",
              "  <thead>\n",
              "    <tr style=\"text-align: right;\">\n",
              "      <th></th>\n",
              "      <th>survived</th>\n",
              "      <th>pclass</th>\n",
              "      <th>sex</th>\n",
              "      <th>age</th>\n",
              "      <th>sibsp</th>\n",
              "      <th>parch</th>\n",
              "      <th>fare</th>\n",
              "      <th>embarked</th>\n",
              "      <th>class</th>\n",
              "      <th>who</th>\n",
              "      <th>adult_male</th>\n",
              "      <th>deck</th>\n",
              "      <th>embark_town</th>\n",
              "      <th>alive</th>\n",
              "      <th>alone</th>\n",
              "    </tr>\n",
              "  </thead>\n",
              "  <tbody>\n",
              "    <tr>\n",
              "      <th>0</th>\n",
              "      <td>0</td>\n",
              "      <td>3</td>\n",
              "      <td>male</td>\n",
              "      <td>22.0</td>\n",
              "      <td>1</td>\n",
              "      <td>0</td>\n",
              "      <td>7.2500</td>\n",
              "      <td>S</td>\n",
              "      <td>Third</td>\n",
              "      <td>man</td>\n",
              "      <td>True</td>\n",
              "      <td>NaN</td>\n",
              "      <td>Southampton</td>\n",
              "      <td>no</td>\n",
              "      <td>False</td>\n",
              "    </tr>\n",
              "    <tr>\n",
              "      <th>1</th>\n",
              "      <td>1</td>\n",
              "      <td>1</td>\n",
              "      <td>female</td>\n",
              "      <td>38.0</td>\n",
              "      <td>1</td>\n",
              "      <td>0</td>\n",
              "      <td>71.2833</td>\n",
              "      <td>C</td>\n",
              "      <td>First</td>\n",
              "      <td>woman</td>\n",
              "      <td>False</td>\n",
              "      <td>C</td>\n",
              "      <td>Cherbourg</td>\n",
              "      <td>yes</td>\n",
              "      <td>False</td>\n",
              "    </tr>\n",
              "    <tr>\n",
              "      <th>2</th>\n",
              "      <td>1</td>\n",
              "      <td>3</td>\n",
              "      <td>female</td>\n",
              "      <td>26.0</td>\n",
              "      <td>0</td>\n",
              "      <td>0</td>\n",
              "      <td>7.9250</td>\n",
              "      <td>S</td>\n",
              "      <td>Third</td>\n",
              "      <td>woman</td>\n",
              "      <td>False</td>\n",
              "      <td>NaN</td>\n",
              "      <td>Southampton</td>\n",
              "      <td>yes</td>\n",
              "      <td>True</td>\n",
              "    </tr>\n",
              "  </tbody>\n",
              "</table>\n",
              "</div>"
            ],
            "text/plain": [
              "   survived  pclass     sex   age  sibsp  parch     fare embarked  class  \\\n",
              "0         0       3    male  22.0      1      0   7.2500        S  Third   \n",
              "1         1       1  female  38.0      1      0  71.2833        C  First   \n",
              "2         1       3  female  26.0      0      0   7.9250        S  Third   \n",
              "\n",
              "     who  adult_male deck  embark_town alive  alone  \n",
              "0    man        True  NaN  Southampton    no  False  \n",
              "1  woman       False    C    Cherbourg   yes  False  \n",
              "2  woman       False  NaN  Southampton   yes   True  "
            ]
          },
          "execution_count": 15,
          "metadata": {},
          "output_type": "execute_result"
        }
      ],
      "source": [
        "ti.head(3) # first 3 rows\n"
      ]
    },
    {
      "cell_type": "markdown",
      "metadata": {
        "id": "njFMPyqSZKJW"
      },
      "source": [
        "## Should I use Sample or  Head for exploration?"
      ]
    },
    {
      "cell_type": "markdown",
      "metadata": {
        "id": "RCs_KvEQZKJX"
      },
      "source": [
        "`.sample` provides a random sampling of rows, which is typically much more representative than `.head`\n",
        "\n",
        "Use `.sample` to get a quick insight into what kinds of data a dataset contains. "
      ]
    },
    {
      "cell_type": "markdown",
      "metadata": {
        "id": "tfgur7FXZKJX"
      },
      "source": [
        "## How do I select columns?"
      ]
    },
    {
      "cell_type": "code",
      "execution_count": null,
      "metadata": {
        "id": "PeCUNvW3ZKJX",
        "outputId": "ac6d5bab-79b7-4127-d5f9-e46b2f626fba"
      },
      "outputs": [
        {
          "data": {
            "text/plain": [
              "[18, 21, 33, 49]"
            ]
          },
          "execution_count": 35,
          "metadata": {},
          "output_type": "execute_result"
        }
      ],
      "source": [
        "dataset = {\n",
        "    'Age': [18, 21, 33, 49],\n",
        "    'Name': [\"Michael\", \"Alice\", \"Eve\", \"Bob\"]\n",
        "}\n",
        "\n",
        "dataset['Age']"
      ]
    },
    {
      "cell_type": "markdown",
      "metadata": {
        "id": "I4sZH-u7ZKJY"
      },
      "source": [
        "Pandas uses python's indexing syntax, columns are selected by name:"
      ]
    },
    {
      "cell_type": "code",
      "execution_count": null,
      "metadata": {
        "id": "ONX8l79cZKJY",
        "outputId": "98aeb73d-fd4e-4a70-cbad-e4b6ccd88f9d"
      },
      "outputs": [
        {
          "data": {
            "text/plain": [
              "664    20.0\n",
              "307    17.0\n",
              "327    36.0\n",
              "Name: age, dtype: float64"
            ]
          },
          "execution_count": 18,
          "metadata": {},
          "output_type": "execute_result"
        }
      ],
      "source": [
        "ti['age'].sample(3)\n"
      ]
    },
    {
      "cell_type": "markdown",
      "metadata": {
        "id": "mRFPtiYPZKJZ"
      },
      "source": [
        "Unlike in python, you can select mulitple columns using a list of column names:"
      ]
    },
    {
      "cell_type": "code",
      "execution_count": null,
      "metadata": {
        "id": "rGYHz3tYZKJZ",
        "outputId": "41d80ccb-8722-4ccc-c54d-d9052b565187"
      },
      "outputs": [
        {
          "data": {
            "text/html": [
              "<div>\n",
              "<style scoped>\n",
              "    .dataframe tbody tr th:only-of-type {\n",
              "        vertical-align: middle;\n",
              "    }\n",
              "\n",
              "    .dataframe tbody tr th {\n",
              "        vertical-align: top;\n",
              "    }\n",
              "\n",
              "    .dataframe thead th {\n",
              "        text-align: right;\n",
              "    }\n",
              "</style>\n",
              "<table border=\"1\" class=\"dataframe\">\n",
              "  <thead>\n",
              "    <tr style=\"text-align: right;\">\n",
              "      <th></th>\n",
              "      <th>age</th>\n",
              "      <th>fare</th>\n",
              "    </tr>\n",
              "  </thead>\n",
              "  <tbody>\n",
              "    <tr>\n",
              "      <th>0</th>\n",
              "      <td>22.0</td>\n",
              "      <td>7.2500</td>\n",
              "    </tr>\n",
              "    <tr>\n",
              "      <th>1</th>\n",
              "      <td>38.0</td>\n",
              "      <td>71.2833</td>\n",
              "    </tr>\n",
              "    <tr>\n",
              "      <th>2</th>\n",
              "      <td>26.0</td>\n",
              "      <td>7.9250</td>\n",
              "    </tr>\n",
              "    <tr>\n",
              "      <th>3</th>\n",
              "      <td>35.0</td>\n",
              "      <td>53.1000</td>\n",
              "    </tr>\n",
              "    <tr>\n",
              "      <th>4</th>\n",
              "      <td>35.0</td>\n",
              "      <td>8.0500</td>\n",
              "    </tr>\n",
              "    <tr>\n",
              "      <th>...</th>\n",
              "      <td>...</td>\n",
              "      <td>...</td>\n",
              "    </tr>\n",
              "    <tr>\n",
              "      <th>886</th>\n",
              "      <td>27.0</td>\n",
              "      <td>13.0000</td>\n",
              "    </tr>\n",
              "    <tr>\n",
              "      <th>887</th>\n",
              "      <td>19.0</td>\n",
              "      <td>30.0000</td>\n",
              "    </tr>\n",
              "    <tr>\n",
              "      <th>888</th>\n",
              "      <td>NaN</td>\n",
              "      <td>23.4500</td>\n",
              "    </tr>\n",
              "    <tr>\n",
              "      <th>889</th>\n",
              "      <td>26.0</td>\n",
              "      <td>30.0000</td>\n",
              "    </tr>\n",
              "    <tr>\n",
              "      <th>890</th>\n",
              "      <td>32.0</td>\n",
              "      <td>7.7500</td>\n",
              "    </tr>\n",
              "  </tbody>\n",
              "</table>\n",
              "<p>891 rows × 2 columns</p>\n",
              "</div>"
            ],
            "text/plain": [
              "      age     fare\n",
              "0    22.0   7.2500\n",
              "1    38.0  71.2833\n",
              "2    26.0   7.9250\n",
              "3    35.0  53.1000\n",
              "4    35.0   8.0500\n",
              "..    ...      ...\n",
              "886  27.0  13.0000\n",
              "887  19.0  30.0000\n",
              "888   NaN  23.4500\n",
              "889  26.0  30.0000\n",
              "890  32.0   7.7500\n",
              "\n",
              "[891 rows x 2 columns]"
            ]
          },
          "execution_count": 36,
          "metadata": {},
          "output_type": "execute_result"
        }
      ],
      "source": [
        "ti[ ['age', 'fare'] ] #var[ index ]   <- index = ['age', 'fare']\n"
      ]
    },
    {
      "cell_type": "markdown",
      "metadata": {
        "id": "018s0SWOZKJa"
      },
      "source": [
        "...here we use the *list* `['age', 'fare']` as an *index* into `ti`. "
      ]
    },
    {
      "cell_type": "markdown",
      "metadata": {
        "id": "MPNmEKuzZKJa"
      },
      "source": [
        "You can apply function to these, using standard `.` notation:"
      ]
    },
    {
      "cell_type": "code",
      "execution_count": null,
      "metadata": {
        "id": "JDUpA8_GZKJa",
        "outputId": "1adac422-31ff-47cc-b273-adada604dd84"
      },
      "outputs": [
        {
          "data": {
            "text/plain": [
              "age     29.699118\n",
              "fare    32.204208\n",
              "dtype: float64"
            ]
          },
          "execution_count": 22,
          "metadata": {},
          "output_type": "execute_result"
        }
      ],
      "source": [
        "ti[ ['age', 'fare'] ].mean()\n"
      ]
    },
    {
      "cell_type": "markdown",
      "metadata": {
        "id": "l6iM90UKZKJa"
      },
      "source": [
        "## Exercise (25 min)\n",
        "\n",
        "* create your own notebook\n",
        "* import pandas\n",
        "* using `.read_csv()` open the `titanic.csv`\n",
        "* show a sample of `6` rows, and show the first `1` row\n",
        "    * HINT: `.sample()`, `.head()`\n",
        "* select:\n",
        "    * the 'embark_town' column, and show a sample of three rows\n",
        "    * the 'alive' column, and show a sample\n",
        "    * both, the 'pclass' and 'age' columns, and show a sample\n",
        "    * try, `.mean()` on the 'fare' column\n",
        "    * try `.value_counts()` on the 'embark_town' column"
      ]
    },
    {
      "cell_type": "markdown",
      "metadata": {
        "id": "fomHaE8aZKJb"
      },
      "source": [
        "# Part 2: Preparing Data in Pandas"
      ]
    },
    {
      "cell_type": "markdown",
      "metadata": {
        "id": "y5FhMj9yZKJb"
      },
      "source": [
        "## How do I inspect the data types and columns (ie., schema)?"
      ]
    },
    {
      "cell_type": "markdown",
      "metadata": {
        "id": "41fvtDbyZKJc"
      },
      "source": [
        "When using a dataframe library (eg., pandas, spark) we are typically converting datasets into dataframes. To do this the library will infer your column data types. "
      ]
    },
    {
      "cell_type": "markdown",
      "metadata": {
        "id": "Lve7AJ6ZZKJd"
      },
      "source": [
        "From `.info` we get: \n",
        "* column names\n",
        "* counts\n",
        "* inferred data type\n",
        "    * potential problem: it may not infer the correct type\n",
        "    * eg., below, the `survived` column ought be read `bool`\n",
        "    * sometimes algorithms, eg., with plotting, require columns types to be correct"
      ]
    },
    {
      "cell_type": "code",
      "execution_count": null,
      "metadata": {
        "id": "WUbYUEcWZKJd",
        "outputId": "66054976-755b-487e-81cf-4b1e2babd7e7"
      },
      "outputs": [
        {
          "name": "stdout",
          "output_type": "stream",
          "text": [
            "<class 'pandas.core.frame.DataFrame'>\n",
            "RangeIndex: 891 entries, 0 to 890\n",
            "Data columns (total 15 columns):\n",
            " #   Column       Non-Null Count  Dtype  \n",
            "---  ------       --------------  -----  \n",
            " 0   survived     891 non-null    int64  \n",
            " 1   pclass       891 non-null    int64  \n",
            " 2   sex          891 non-null    object \n",
            " 3   age          714 non-null    float64\n",
            " 4   sibsp        891 non-null    int64  \n",
            " 5   parch        891 non-null    int64  \n",
            " 6   fare         891 non-null    float64\n",
            " 7   embarked     889 non-null    object \n",
            " 8   class        891 non-null    object \n",
            " 9   who          891 non-null    object \n",
            " 10  adult_male   891 non-null    bool   \n",
            " 11  deck         203 non-null    object \n",
            " 12  embark_town  889 non-null    object \n",
            " 13  alive        891 non-null    object \n",
            " 14  alone        891 non-null    bool   \n",
            "dtypes: bool(2), float64(2), int64(4), object(7)\n",
            "memory usage: 92.4+ KB\n"
          ]
        }
      ],
      "source": [
        "ti.info()\n"
      ]
    },
    {
      "cell_type": "markdown",
      "metadata": {
        "id": "XTtwOVR0ZKJd"
      },
      "source": [
        "Here we can see that $891$ is the maximum number of entires any column has, but eg., `age` has fewer -- and so, age has missing data. \n",
        "\n",
        "\n",
        "`object` here means discrete, categorical data that has no \"deeper\" inference made -- treating each value as a separate category. \n",
        "\n",
        "\n",
        "Note above `survived` has been inferred *incorrectly*, it is not an integer (ie., a continuous measurement) but a binary category (ie., `object` or `bool`). \n"
      ]
    },
    {
      "cell_type": "markdown",
      "metadata": {
        "id": "14D9LkQUZKJe"
      },
      "source": [
        "```\n",
        "#   Column       Non-Null Count  Dtype  \n",
        "---  ------       --------------  -----  \n",
        " 0   survived     891 non-null    int64 \n",
        " \n",
        "col# colname     count()          coltype\n",
        "```"
      ]
    },
    {
      "cell_type": "markdown",
      "metadata": {
        "id": "ItqH_ldTZKJe"
      },
      "source": [
        "## What problems does misinferred column types cause?"
      ]
    },
    {
      "cell_type": "markdown",
      "metadata": {
        "id": "RzBF_FazZKJe"
      },
      "source": [
        "When a column type is misinferred, it can affect how libraries handle the data. For example, the `plot` feature of a dataframe will use the column type to infer the plot type and how to display the information. \n"
      ]
    },
    {
      "cell_type": "code",
      "execution_count": null,
      "metadata": {
        "id": "M_6oTEkIZKJf",
        "outputId": "eba52953-9bcb-4b81-ad94-59eac15abca9"
      },
      "outputs": [
        {
          "data": {
            "text/plain": [
              "<matplotlib.axes._subplots.AxesSubplot at 0x7fa63943b4c0>"
            ]
          },
          "execution_count": 20,
          "metadata": {},
          "output_type": "execute_result"
        },
        {
          "data": {
            "image/png": "[encoded data removed]",
            "text/plain": [
              "<Figure size 432x288 with 1 Axes>"
            ]
          },
          "metadata": {
            "needs_background": "light"
          },
          "output_type": "display_data"
        }
      ],
      "source": [
        "ti.plot(kind='scatter', y='age', x='survived')"
      ]
    },
    {
      "cell_type": "markdown",
      "metadata": {
        "id": "pYDsL5IFZKJf"
      },
      "source": [
        "The following code replaces the `survived` column with the `survived` column converted to bool:"
      ]
    },
    {
      "cell_type": "code",
      "execution_count": null,
      "metadata": {
        "id": "6-9dnd6oZKJg"
      },
      "outputs": [],
      "source": [
        "ti['survived'] = ti['survived'].astype(bool)"
      ]
    },
    {
      "cell_type": "code",
      "execution_count": null,
      "metadata": {
        "id": "vMyOHO9bZKJg",
        "outputId": "916a597e-5ba6-482f-ea11-99e9709b4e96"
      },
      "outputs": [
        {
          "data": {
            "text/plain": [
              "survived          bool\n",
              "pclass           int64\n",
              "sex             object\n",
              "age            float64\n",
              "sibsp            int64\n",
              "parch            int64\n",
              "fare           float64\n",
              "embarked        object\n",
              "class           object\n",
              "who             object\n",
              "adult_male        bool\n",
              "deck            object\n",
              "embark_town     object\n",
              "alive           object\n",
              "alone             bool\n",
              "dtype: object"
            ]
          },
          "execution_count": 26,
          "metadata": {},
          "output_type": "execute_result"
        }
      ],
      "source": [
        "ti.dtypes"
      ]
    },
    {
      "cell_type": "markdown",
      "metadata": {
        "id": "uuHjkWOXZKJg"
      },
      "source": [
        "## How do summarize data with pandas?"
      ]
    },
    {
      "cell_type": "markdown",
      "metadata": {
        "id": "apQ5OfbcZKJh"
      },
      "source": [
        "Summary of continous (real-valued) columns:"
      ]
    },
    {
      "cell_type": "code",
      "execution_count": null,
      "metadata": {
        "id": "7xkc_EdwZKJh",
        "outputId": "ec459f32-ae17-4bd4-d12c-4451f2ca19a4"
      },
      "outputs": [
        {
          "data": {
            "text/html": [
              "<div>\n",
              "<style scoped>\n",
              "    .dataframe tbody tr th:only-of-type {\n",
              "        vertical-align: middle;\n",
              "    }\n",
              "\n",
              "    .dataframe tbody tr th {\n",
              "        vertical-align: top;\n",
              "    }\n",
              "\n",
              "    .dataframe thead th {\n",
              "        text-align: right;\n",
              "    }\n",
              "</style>\n",
              "<table border=\"1\" class=\"dataframe\">\n",
              "  <thead>\n",
              "    <tr style=\"text-align: right;\">\n",
              "      <th></th>\n",
              "      <th>survived</th>\n",
              "      <th>pclass</th>\n",
              "      <th>age</th>\n",
              "      <th>sibsp</th>\n",
              "      <th>parch</th>\n",
              "      <th>fare</th>\n",
              "    </tr>\n",
              "  </thead>\n",
              "  <tbody>\n",
              "    <tr>\n",
              "      <td>count</td>\n",
              "      <td>891.000000</td>\n",
              "      <td>891.000000</td>\n",
              "      <td>714.000000</td>\n",
              "      <td>891.000000</td>\n",
              "      <td>891.000000</td>\n",
              "      <td>891.000000</td>\n",
              "    </tr>\n",
              "    <tr>\n",
              "      <td>mean</td>\n",
              "      <td>0.383838</td>\n",
              "      <td>2.308642</td>\n",
              "      <td>29.699118</td>\n",
              "      <td>0.523008</td>\n",
              "      <td>0.381594</td>\n",
              "      <td>32.204208</td>\n",
              "    </tr>\n",
              "    <tr>\n",
              "      <td>std</td>\n",
              "      <td>0.486592</td>\n",
              "      <td>0.836071</td>\n",
              "      <td>14.526497</td>\n",
              "      <td>1.102743</td>\n",
              "      <td>0.806057</td>\n",
              "      <td>49.693429</td>\n",
              "    </tr>\n",
              "    <tr>\n",
              "      <td>min</td>\n",
              "      <td>0.000000</td>\n",
              "      <td>1.000000</td>\n",
              "      <td>0.420000</td>\n",
              "      <td>0.000000</td>\n",
              "      <td>0.000000</td>\n",
              "      <td>0.000000</td>\n",
              "    </tr>\n",
              "    <tr>\n",
              "      <td>25%</td>\n",
              "      <td>0.000000</td>\n",
              "      <td>2.000000</td>\n",
              "      <td>20.125000</td>\n",
              "      <td>0.000000</td>\n",
              "      <td>0.000000</td>\n",
              "      <td>7.910400</td>\n",
              "    </tr>\n",
              "    <tr>\n",
              "      <td>50%</td>\n",
              "      <td>0.000000</td>\n",
              "      <td>3.000000</td>\n",
              "      <td>28.000000</td>\n",
              "      <td>0.000000</td>\n",
              "      <td>0.000000</td>\n",
              "      <td>14.454200</td>\n",
              "    </tr>\n",
              "    <tr>\n",
              "      <td>75%</td>\n",
              "      <td>1.000000</td>\n",
              "      <td>3.000000</td>\n",
              "      <td>38.000000</td>\n",
              "      <td>1.000000</td>\n",
              "      <td>0.000000</td>\n",
              "      <td>31.000000</td>\n",
              "    </tr>\n",
              "    <tr>\n",
              "      <td>max</td>\n",
              "      <td>1.000000</td>\n",
              "      <td>3.000000</td>\n",
              "      <td>80.000000</td>\n",
              "      <td>8.000000</td>\n",
              "      <td>6.000000</td>\n",
              "      <td>512.329200</td>\n",
              "    </tr>\n",
              "  </tbody>\n",
              "</table>\n",
              "</div>"
            ],
            "text/plain": [
              "         survived      pclass         age       sibsp       parch        fare\n",
              "count  891.000000  891.000000  714.000000  891.000000  891.000000  891.000000\n",
              "mean     0.383838    2.308642   29.699118    0.523008    0.381594   32.204208\n",
              "std      0.486592    0.836071   14.526497    1.102743    0.806057   49.693429\n",
              "min      0.000000    1.000000    0.420000    0.000000    0.000000    0.000000\n",
              "25%      0.000000    2.000000   20.125000    0.000000    0.000000    7.910400\n",
              "50%      0.000000    3.000000   28.000000    0.000000    0.000000   14.454200\n",
              "75%      1.000000    3.000000   38.000000    1.000000    0.000000   31.000000\n",
              "max      1.000000    3.000000   80.000000    8.000000    6.000000  512.329200"
            ]
          },
          "execution_count": 24,
          "metadata": {},
          "output_type": "execute_result"
        }
      ],
      "source": [
        "ti.describe()\n"
      ]
    },
    {
      "cell_type": "markdown",
      "metadata": {
        "id": "OewlJP21ZKJh"
      },
      "source": [
        "Summary of categorical columns is not as easy...."
      ]
    },
    {
      "cell_type": "code",
      "execution_count": null,
      "metadata": {
        "id": "ldDkJdmfZKJi",
        "outputId": "d131bdfe-6a84-495e-b620-c18b1dc006c3"
      },
      "outputs": [
        {
          "data": {
            "text/html": [
              "<div>\n",
              "<style scoped>\n",
              "    .dataframe tbody tr th:only-of-type {\n",
              "        vertical-align: middle;\n",
              "    }\n",
              "\n",
              "    .dataframe tbody tr th {\n",
              "        vertical-align: top;\n",
              "    }\n",
              "\n",
              "    .dataframe thead th {\n",
              "        text-align: right;\n",
              "    }\n",
              "</style>\n",
              "<table border=\"1\" class=\"dataframe\">\n",
              "  <thead>\n",
              "    <tr style=\"text-align: right;\">\n",
              "      <th></th>\n",
              "      <th>sex</th>\n",
              "      <th>embarked</th>\n",
              "      <th>class</th>\n",
              "      <th>who</th>\n",
              "      <th>adult_male</th>\n",
              "      <th>deck</th>\n",
              "      <th>embark_town</th>\n",
              "      <th>alive</th>\n",
              "      <th>alone</th>\n",
              "    </tr>\n",
              "  </thead>\n",
              "  <tbody>\n",
              "    <tr>\n",
              "      <th>count</th>\n",
              "      <td>891</td>\n",
              "      <td>889</td>\n",
              "      <td>891</td>\n",
              "      <td>891</td>\n",
              "      <td>891</td>\n",
              "      <td>203</td>\n",
              "      <td>889</td>\n",
              "      <td>891</td>\n",
              "      <td>891</td>\n",
              "    </tr>\n",
              "    <tr>\n",
              "      <th>unique</th>\n",
              "      <td>2</td>\n",
              "      <td>3</td>\n",
              "      <td>3</td>\n",
              "      <td>3</td>\n",
              "      <td>2</td>\n",
              "      <td>7</td>\n",
              "      <td>3</td>\n",
              "      <td>2</td>\n",
              "      <td>2</td>\n",
              "    </tr>\n",
              "    <tr>\n",
              "      <th>top</th>\n",
              "      <td>male</td>\n",
              "      <td>S</td>\n",
              "      <td>Third</td>\n",
              "      <td>man</td>\n",
              "      <td>True</td>\n",
              "      <td>C</td>\n",
              "      <td>Southampton</td>\n",
              "      <td>no</td>\n",
              "      <td>True</td>\n",
              "    </tr>\n",
              "    <tr>\n",
              "      <th>freq</th>\n",
              "      <td>577</td>\n",
              "      <td>644</td>\n",
              "      <td>491</td>\n",
              "      <td>537</td>\n",
              "      <td>537</td>\n",
              "      <td>59</td>\n",
              "      <td>644</td>\n",
              "      <td>549</td>\n",
              "      <td>537</td>\n",
              "    </tr>\n",
              "  </tbody>\n",
              "</table>\n",
              "</div>"
            ],
            "text/plain": [
              "         sex embarked  class  who adult_male deck  embark_town alive alone\n",
              "count    891      889    891  891        891  203          889   891   891\n",
              "unique     2        3      3    3          2    7            3     2     2\n",
              "top     male        S  Third  man       True    C  Southampton    no  True\n",
              "freq     577      644    491  537        537   59          644   549   537"
            ]
          },
          "execution_count": 11,
          "metadata": {},
          "output_type": "execute_result"
        }
      ],
      "source": [
        "ti.describe(include = ['object', 'bool'])"
      ]
    },
    {
      "cell_type": "code",
      "execution_count": null,
      "metadata": {
        "id": "DxZw9cLXZKJi",
        "outputId": "5a938da5-7ff3-43f9-c259-ba8c5c6ae0e3"
      },
      "outputs": [
        {
          "data": {
            "text/plain": [
              "male      577\n",
              "female    314\n",
              "Name: sex, dtype: int64"
            ]
          },
          "execution_count": 27,
          "metadata": {},
          "output_type": "execute_result"
        }
      ],
      "source": [
        "ti['sex'].value_counts()\n"
      ]
    },
    {
      "cell_type": "code",
      "execution_count": null,
      "metadata": {
        "scrolled": true,
        "id": "T_gWPAyJZKJj",
        "outputId": "5d3f551d-a756-4161-c965-9dec7d95f801"
      },
      "outputs": [
        {
          "data": {
            "text/plain": [
              "Third     491\n",
              "First     216\n",
              "Second    184\n",
              "Name: class, dtype: int64"
            ]
          },
          "execution_count": 28,
          "metadata": {},
          "output_type": "execute_result"
        }
      ],
      "source": [
        "ti['class'].value_counts()\n"
      ]
    },
    {
      "cell_type": "markdown",
      "metadata": {
        "id": "9sqb_PAKZKJj"
      },
      "source": [
        "## How do I select columns by type?"
      ]
    },
    {
      "cell_type": "markdown",
      "metadata": {
        "id": "KlJ5LYOwZKJj"
      },
      "source": [
        "The categorical columns are `object` (multi-class) and `bool` (binary):"
      ]
    },
    {
      "cell_type": "code",
      "execution_count": null,
      "metadata": {
        "id": "w3xd_z-8ZKJj",
        "outputId": "ee307b0c-0a9d-4a0c-c45a-58aa4ae548c6"
      },
      "outputs": [
        {
          "data": {
            "text/html": [
              "<div>\n",
              "<style scoped>\n",
              "    .dataframe tbody tr th:only-of-type {\n",
              "        vertical-align: middle;\n",
              "    }\n",
              "\n",
              "    .dataframe tbody tr th {\n",
              "        vertical-align: top;\n",
              "    }\n",
              "\n",
              "    .dataframe thead th {\n",
              "        text-align: right;\n",
              "    }\n",
              "</style>\n",
              "<table border=\"1\" class=\"dataframe\">\n",
              "  <thead>\n",
              "    <tr style=\"text-align: right;\">\n",
              "      <th></th>\n",
              "      <th>survived</th>\n",
              "      <th>sex</th>\n",
              "      <th>embarked</th>\n",
              "      <th>class</th>\n",
              "      <th>who</th>\n",
              "      <th>adult_male</th>\n",
              "      <th>deck</th>\n",
              "      <th>embark_town</th>\n",
              "      <th>alive</th>\n",
              "      <th>alone</th>\n",
              "    </tr>\n",
              "  </thead>\n",
              "  <tbody>\n",
              "    <tr>\n",
              "      <th>0</th>\n",
              "      <td>False</td>\n",
              "      <td>male</td>\n",
              "      <td>S</td>\n",
              "      <td>Third</td>\n",
              "      <td>man</td>\n",
              "      <td>True</td>\n",
              "      <td>NaN</td>\n",
              "      <td>Southampton</td>\n",
              "      <td>no</td>\n",
              "      <td>False</td>\n",
              "    </tr>\n",
              "    <tr>\n",
              "      <th>1</th>\n",
              "      <td>True</td>\n",
              "      <td>female</td>\n",
              "      <td>C</td>\n",
              "      <td>First</td>\n",
              "      <td>woman</td>\n",
              "      <td>False</td>\n",
              "      <td>C</td>\n",
              "      <td>Cherbourg</td>\n",
              "      <td>yes</td>\n",
              "      <td>False</td>\n",
              "    </tr>\n",
              "    <tr>\n",
              "      <th>2</th>\n",
              "      <td>True</td>\n",
              "      <td>female</td>\n",
              "      <td>S</td>\n",
              "      <td>Third</td>\n",
              "      <td>woman</td>\n",
              "      <td>False</td>\n",
              "      <td>NaN</td>\n",
              "      <td>Southampton</td>\n",
              "      <td>yes</td>\n",
              "      <td>True</td>\n",
              "    </tr>\n",
              "    <tr>\n",
              "      <th>3</th>\n",
              "      <td>True</td>\n",
              "      <td>female</td>\n",
              "      <td>S</td>\n",
              "      <td>First</td>\n",
              "      <td>woman</td>\n",
              "      <td>False</td>\n",
              "      <td>C</td>\n",
              "      <td>Southampton</td>\n",
              "      <td>yes</td>\n",
              "      <td>False</td>\n",
              "    </tr>\n",
              "    <tr>\n",
              "      <th>4</th>\n",
              "      <td>False</td>\n",
              "      <td>male</td>\n",
              "      <td>S</td>\n",
              "      <td>Third</td>\n",
              "      <td>man</td>\n",
              "      <td>True</td>\n",
              "      <td>NaN</td>\n",
              "      <td>Southampton</td>\n",
              "      <td>no</td>\n",
              "      <td>True</td>\n",
              "    </tr>\n",
              "    <tr>\n",
              "      <th>...</th>\n",
              "      <td>...</td>\n",
              "      <td>...</td>\n",
              "      <td>...</td>\n",
              "      <td>...</td>\n",
              "      <td>...</td>\n",
              "      <td>...</td>\n",
              "      <td>...</td>\n",
              "      <td>...</td>\n",
              "      <td>...</td>\n",
              "      <td>...</td>\n",
              "    </tr>\n",
              "    <tr>\n",
              "      <th>886</th>\n",
              "      <td>False</td>\n",
              "      <td>male</td>\n",
              "      <td>S</td>\n",
              "      <td>Second</td>\n",
              "      <td>man</td>\n",
              "      <td>True</td>\n",
              "      <td>NaN</td>\n",
              "      <td>Southampton</td>\n",
              "      <td>no</td>\n",
              "      <td>True</td>\n",
              "    </tr>\n",
              "    <tr>\n",
              "      <th>887</th>\n",
              "      <td>True</td>\n",
              "      <td>female</td>\n",
              "      <td>S</td>\n",
              "      <td>First</td>\n",
              "      <td>woman</td>\n",
              "      <td>False</td>\n",
              "      <td>B</td>\n",
              "      <td>Southampton</td>\n",
              "      <td>yes</td>\n",
              "      <td>True</td>\n",
              "    </tr>\n",
              "    <tr>\n",
              "      <th>888</th>\n",
              "      <td>False</td>\n",
              "      <td>female</td>\n",
              "      <td>S</td>\n",
              "      <td>Third</td>\n",
              "      <td>woman</td>\n",
              "      <td>False</td>\n",
              "      <td>NaN</td>\n",
              "      <td>Southampton</td>\n",
              "      <td>no</td>\n",
              "      <td>False</td>\n",
              "    </tr>\n",
              "    <tr>\n",
              "      <th>889</th>\n",
              "      <td>True</td>\n",
              "      <td>male</td>\n",
              "      <td>C</td>\n",
              "      <td>First</td>\n",
              "      <td>man</td>\n",
              "      <td>True</td>\n",
              "      <td>C</td>\n",
              "      <td>Cherbourg</td>\n",
              "      <td>yes</td>\n",
              "      <td>True</td>\n",
              "    </tr>\n",
              "    <tr>\n",
              "      <th>890</th>\n",
              "      <td>False</td>\n",
              "      <td>male</td>\n",
              "      <td>Q</td>\n",
              "      <td>Third</td>\n",
              "      <td>man</td>\n",
              "      <td>True</td>\n",
              "      <td>NaN</td>\n",
              "      <td>Queenstown</td>\n",
              "      <td>no</td>\n",
              "      <td>True</td>\n",
              "    </tr>\n",
              "  </tbody>\n",
              "</table>\n",
              "<p>891 rows × 10 columns</p>\n",
              "</div>"
            ],
            "text/plain": [
              "     survived     sex embarked   class    who  adult_male deck  embark_town  \\\n",
              "0       False    male        S   Third    man        True  NaN  Southampton   \n",
              "1        True  female        C   First  woman       False    C    Cherbourg   \n",
              "2        True  female        S   Third  woman       False  NaN  Southampton   \n",
              "3        True  female        S   First  woman       False    C  Southampton   \n",
              "4       False    male        S   Third    man        True  NaN  Southampton   \n",
              "..        ...     ...      ...     ...    ...         ...  ...          ...   \n",
              "886     False    male        S  Second    man        True  NaN  Southampton   \n",
              "887      True  female        S   First  woman       False    B  Southampton   \n",
              "888     False  female        S   Third  woman       False  NaN  Southampton   \n",
              "889      True    male        C   First    man        True    C    Cherbourg   \n",
              "890     False    male        Q   Third    man        True  NaN   Queenstown   \n",
              "\n",
              "    alive  alone  \n",
              "0      no  False  \n",
              "1     yes  False  \n",
              "2     yes   True  \n",
              "3     yes  False  \n",
              "4      no   True  \n",
              "..    ...    ...  \n",
              "886    no   True  \n",
              "887   yes   True  \n",
              "888    no  False  \n",
              "889   yes   True  \n",
              "890    no   True  \n",
              "\n",
              "[891 rows x 10 columns]"
            ]
          },
          "execution_count": 27,
          "metadata": {},
          "output_type": "execute_result"
        }
      ],
      "source": [
        "ti.select_dtypes(['object', 'bool']) #dtype == data type, object = unprocessed value\n"
      ]
    },
    {
      "cell_type": "markdown",
      "metadata": {
        "id": "qeQVAoaCZKJk"
      },
      "source": [
        "## How many rows and columns are there?"
      ]
    },
    {
      "cell_type": "markdown",
      "metadata": {
        "id": "A98JPK1xZKJk"
      },
      "source": [
        "Rows..."
      ]
    },
    {
      "cell_type": "code",
      "execution_count": null,
      "metadata": {
        "id": "tnu70mwZZKJk",
        "outputId": "95e83895-1453-4aac-8f93-088e4bceeca2"
      },
      "outputs": [
        {
          "data": {
            "text/plain": [
              "891"
            ]
          },
          "execution_count": 29,
          "metadata": {},
          "output_type": "execute_result"
        }
      ],
      "source": [
        "len(ti)\n"
      ]
    },
    {
      "cell_type": "markdown",
      "metadata": {
        "id": "V2glYwahZKJl"
      },
      "source": [
        "Rows & columns..."
      ]
    },
    {
      "cell_type": "code",
      "execution_count": null,
      "metadata": {
        "id": "vwaHVtiCZKJl",
        "outputId": "76c8aeb5-3da1-409c-d9fe-eb2ca7c4c1ca"
      },
      "outputs": [
        {
          "data": {
            "text/plain": [
              "(891, 15)"
            ]
          },
          "execution_count": 30,
          "metadata": {},
          "output_type": "execute_result"
        }
      ],
      "source": [
        "ti.shape # (rows, columns)\n"
      ]
    },
    {
      "cell_type": "markdown",
      "metadata": {
        "id": "OV_YxvTXZKJl"
      },
      "source": [
        "## How do I determine if there is missing data?"
      ]
    },
    {
      "cell_type": "code",
      "execution_count": null,
      "metadata": {
        "id": "fWSnyVxmZKJl"
      },
      "outputs": [],
      "source": [
        "ti = pd.read_csv('datasets/titanic.csv')\n"
      ]
    },
    {
      "cell_type": "markdown",
      "metadata": {
        "id": "mBcHOg_jZKJm"
      },
      "source": [
        "We run `.isna` (is not-available) across every entry:"
      ]
    },
    {
      "cell_type": "code",
      "execution_count": null,
      "metadata": {
        "id": "KKuECh8fZKJm",
        "outputId": "7621ad33-f07a-4626-c719-fd3ed8a08b80"
      },
      "outputs": [
        {
          "data": {
            "text/html": [
              "<div>\n",
              "<style scoped>\n",
              "    .dataframe tbody tr th:only-of-type {\n",
              "        vertical-align: middle;\n",
              "    }\n",
              "\n",
              "    .dataframe tbody tr th {\n",
              "        vertical-align: top;\n",
              "    }\n",
              "\n",
              "    .dataframe thead th {\n",
              "        text-align: right;\n",
              "    }\n",
              "</style>\n",
              "<table border=\"1\" class=\"dataframe\">\n",
              "  <thead>\n",
              "    <tr style=\"text-align: right;\">\n",
              "      <th></th>\n",
              "      <th>survived</th>\n",
              "      <th>pclass</th>\n",
              "      <th>sex</th>\n",
              "      <th>age</th>\n",
              "      <th>sibsp</th>\n",
              "      <th>parch</th>\n",
              "      <th>fare</th>\n",
              "      <th>embarked</th>\n",
              "      <th>class</th>\n",
              "      <th>who</th>\n",
              "      <th>adult_male</th>\n",
              "      <th>deck</th>\n",
              "      <th>embark_town</th>\n",
              "      <th>alive</th>\n",
              "      <th>alone</th>\n",
              "    </tr>\n",
              "  </thead>\n",
              "  <tbody>\n",
              "    <tr>\n",
              "      <td>0</td>\n",
              "      <td>False</td>\n",
              "      <td>False</td>\n",
              "      <td>False</td>\n",
              "      <td>False</td>\n",
              "      <td>False</td>\n",
              "      <td>False</td>\n",
              "      <td>False</td>\n",
              "      <td>False</td>\n",
              "      <td>False</td>\n",
              "      <td>False</td>\n",
              "      <td>False</td>\n",
              "      <td>True</td>\n",
              "      <td>False</td>\n",
              "      <td>False</td>\n",
              "      <td>False</td>\n",
              "    </tr>\n",
              "    <tr>\n",
              "      <td>1</td>\n",
              "      <td>False</td>\n",
              "      <td>False</td>\n",
              "      <td>False</td>\n",
              "      <td>False</td>\n",
              "      <td>False</td>\n",
              "      <td>False</td>\n",
              "      <td>False</td>\n",
              "      <td>False</td>\n",
              "      <td>False</td>\n",
              "      <td>False</td>\n",
              "      <td>False</td>\n",
              "      <td>False</td>\n",
              "      <td>False</td>\n",
              "      <td>False</td>\n",
              "      <td>False</td>\n",
              "    </tr>\n",
              "    <tr>\n",
              "      <td>2</td>\n",
              "      <td>False</td>\n",
              "      <td>False</td>\n",
              "      <td>False</td>\n",
              "      <td>False</td>\n",
              "      <td>False</td>\n",
              "      <td>False</td>\n",
              "      <td>False</td>\n",
              "      <td>False</td>\n",
              "      <td>False</td>\n",
              "      <td>False</td>\n",
              "      <td>False</td>\n",
              "      <td>True</td>\n",
              "      <td>False</td>\n",
              "      <td>False</td>\n",
              "      <td>False</td>\n",
              "    </tr>\n",
              "    <tr>\n",
              "      <td>3</td>\n",
              "      <td>False</td>\n",
              "      <td>False</td>\n",
              "      <td>False</td>\n",
              "      <td>False</td>\n",
              "      <td>False</td>\n",
              "      <td>False</td>\n",
              "      <td>False</td>\n",
              "      <td>False</td>\n",
              "      <td>False</td>\n",
              "      <td>False</td>\n",
              "      <td>False</td>\n",
              "      <td>False</td>\n",
              "      <td>False</td>\n",
              "      <td>False</td>\n",
              "      <td>False</td>\n",
              "    </tr>\n",
              "    <tr>\n",
              "      <td>4</td>\n",
              "      <td>False</td>\n",
              "      <td>False</td>\n",
              "      <td>False</td>\n",
              "      <td>False</td>\n",
              "      <td>False</td>\n",
              "      <td>False</td>\n",
              "      <td>False</td>\n",
              "      <td>False</td>\n",
              "      <td>False</td>\n",
              "      <td>False</td>\n",
              "      <td>False</td>\n",
              "      <td>True</td>\n",
              "      <td>False</td>\n",
              "      <td>False</td>\n",
              "      <td>False</td>\n",
              "    </tr>\n",
              "    <tr>\n",
              "      <td>...</td>\n",
              "      <td>...</td>\n",
              "      <td>...</td>\n",
              "      <td>...</td>\n",
              "      <td>...</td>\n",
              "      <td>...</td>\n",
              "      <td>...</td>\n",
              "      <td>...</td>\n",
              "      <td>...</td>\n",
              "      <td>...</td>\n",
              "      <td>...</td>\n",
              "      <td>...</td>\n",
              "      <td>...</td>\n",
              "      <td>...</td>\n",
              "      <td>...</td>\n",
              "      <td>...</td>\n",
              "    </tr>\n",
              "    <tr>\n",
              "      <td>886</td>\n",
              "      <td>False</td>\n",
              "      <td>False</td>\n",
              "      <td>False</td>\n",
              "      <td>False</td>\n",
              "      <td>False</td>\n",
              "      <td>False</td>\n",
              "      <td>False</td>\n",
              "      <td>False</td>\n",
              "      <td>False</td>\n",
              "      <td>False</td>\n",
              "      <td>False</td>\n",
              "      <td>True</td>\n",
              "      <td>False</td>\n",
              "      <td>False</td>\n",
              "      <td>False</td>\n",
              "    </tr>\n",
              "    <tr>\n",
              "      <td>887</td>\n",
              "      <td>False</td>\n",
              "      <td>False</td>\n",
              "      <td>False</td>\n",
              "      <td>False</td>\n",
              "      <td>False</td>\n",
              "      <td>False</td>\n",
              "      <td>False</td>\n",
              "      <td>False</td>\n",
              "      <td>False</td>\n",
              "      <td>False</td>\n",
              "      <td>False</td>\n",
              "      <td>False</td>\n",
              "      <td>False</td>\n",
              "      <td>False</td>\n",
              "      <td>False</td>\n",
              "    </tr>\n",
              "    <tr>\n",
              "      <td>888</td>\n",
              "      <td>False</td>\n",
              "      <td>False</td>\n",
              "      <td>False</td>\n",
              "      <td>True</td>\n",
              "      <td>False</td>\n",
              "      <td>False</td>\n",
              "      <td>False</td>\n",
              "      <td>False</td>\n",
              "      <td>False</td>\n",
              "      <td>False</td>\n",
              "      <td>False</td>\n",
              "      <td>True</td>\n",
              "      <td>False</td>\n",
              "      <td>False</td>\n",
              "      <td>False</td>\n",
              "    </tr>\n",
              "    <tr>\n",
              "      <td>889</td>\n",
              "      <td>False</td>\n",
              "      <td>False</td>\n",
              "      <td>False</td>\n",
              "      <td>False</td>\n",
              "      <td>False</td>\n",
              "      <td>False</td>\n",
              "      <td>False</td>\n",
              "      <td>False</td>\n",
              "      <td>False</td>\n",
              "      <td>False</td>\n",
              "      <td>False</td>\n",
              "      <td>False</td>\n",
              "      <td>False</td>\n",
              "      <td>False</td>\n",
              "      <td>False</td>\n",
              "    </tr>\n",
              "    <tr>\n",
              "      <td>890</td>\n",
              "      <td>False</td>\n",
              "      <td>False</td>\n",
              "      <td>False</td>\n",
              "      <td>False</td>\n",
              "      <td>False</td>\n",
              "      <td>False</td>\n",
              "      <td>False</td>\n",
              "      <td>False</td>\n",
              "      <td>False</td>\n",
              "      <td>False</td>\n",
              "      <td>False</td>\n",
              "      <td>True</td>\n",
              "      <td>False</td>\n",
              "      <td>False</td>\n",
              "      <td>False</td>\n",
              "    </tr>\n",
              "  </tbody>\n",
              "</table>\n",
              "<p>891 rows × 15 columns</p>\n",
              "</div>"
            ],
            "text/plain": [
              "     survived  pclass    sex    age  sibsp  parch   fare  embarked  class  \\\n",
              "0       False   False  False  False  False  False  False     False  False   \n",
              "1       False   False  False  False  False  False  False     False  False   \n",
              "2       False   False  False  False  False  False  False     False  False   \n",
              "3       False   False  False  False  False  False  False     False  False   \n",
              "4       False   False  False  False  False  False  False     False  False   \n",
              "..        ...     ...    ...    ...    ...    ...    ...       ...    ...   \n",
              "886     False   False  False  False  False  False  False     False  False   \n",
              "887     False   False  False  False  False  False  False     False  False   \n",
              "888     False   False  False   True  False  False  False     False  False   \n",
              "889     False   False  False  False  False  False  False     False  False   \n",
              "890     False   False  False  False  False  False  False     False  False   \n",
              "\n",
              "       who  adult_male   deck  embark_town  alive  alone  \n",
              "0    False       False   True        False  False  False  \n",
              "1    False       False  False        False  False  False  \n",
              "2    False       False   True        False  False  False  \n",
              "3    False       False  False        False  False  False  \n",
              "4    False       False   True        False  False  False  \n",
              "..     ...         ...    ...          ...    ...    ...  \n",
              "886  False       False   True        False  False  False  \n",
              "887  False       False  False        False  False  False  \n",
              "888  False       False   True        False  False  False  \n",
              "889  False       False  False        False  False  False  \n",
              "890  False       False   True        False  False  False  \n",
              "\n",
              "[891 rows x 15 columns]"
            ]
          },
          "execution_count": 32,
          "metadata": {},
          "output_type": "execute_result"
        }
      ],
      "source": [
        "ti.isna()\n"
      ]
    },
    {
      "cell_type": "markdown",
      "metadata": {
        "id": "58ZxDRaLZKJm"
      },
      "source": [
        "Then we sum down the columns, treating `True` as `1` (and `False` as `0`)"
      ]
    },
    {
      "cell_type": "code",
      "execution_count": null,
      "metadata": {
        "id": "Iz6tJmZ7ZKJn",
        "outputId": "9b071597-00fb-4ec2-8597-22faf92e9393"
      },
      "outputs": [
        {
          "data": {
            "text/plain": [
              "survived         0\n",
              "pclass           0\n",
              "sex              0\n",
              "age            177\n",
              "sibsp            0\n",
              "parch            0\n",
              "fare             0\n",
              "embarked         2\n",
              "class            0\n",
              "who              0\n",
              "adult_male       0\n",
              "deck           688\n",
              "embark_town      2\n",
              "alive            0\n",
              "alone            0\n",
              "dtype: int64"
            ]
          },
          "execution_count": 33,
          "metadata": {},
          "output_type": "execute_result"
        }
      ],
      "source": [
        "ti.isna().sum()\n"
      ]
    },
    {
      "cell_type": "markdown",
      "metadata": {
        "id": "CS6h2UzKZKJn"
      },
      "source": [
        "... and therefore the `.sum` is the count of missing data (ie., `NA` is `True`)"
      ]
    },
    {
      "cell_type": "markdown",
      "metadata": {
        "id": "BEcWhqzAZKJo"
      },
      "source": [
        "## Aside: What is the problem with missing data?"
      ]
    },
    {
      "cell_type": "code",
      "execution_count": null,
      "metadata": {
        "id": "ww9lw7sQZKJo"
      },
      "outputs": [],
      "source": [
        "def predict_survival(fare, age):\n",
        "    if (fare > 50) or (age <= 12):\n",
        "        return 1\n",
        "    else:\n",
        "        return 0"
      ]
    },
    {
      "cell_type": "markdown",
      "metadata": {
        "id": "HESTVYyLZKJo"
      },
      "source": [
        "When dropping rows (, columns) we want to retain *only* those rows that we can use with our analysis.\n",
        "\n",
        "Eg., consider the function above, we need *both* the `fare` and the `age`, and so, we must only have rows with them *both*.\n",
        "\n",
        "In the case of the titanic dataset, this means dropping quite a large number of rows. "
      ]
    },
    {
      "cell_type": "markdown",
      "metadata": {
        "id": "_N3Sft7BZKJp"
      },
      "source": [
        "#### Aside: The rule above is fairly accurate,"
      ]
    },
    {
      "cell_type": "code",
      "execution_count": null,
      "metadata": {
        "id": "SA2E8_pzZKJq"
      },
      "outputs": [],
      "source": [
        "predictions = []\n",
        "error = 0\n",
        "for f, a, s in ti[['fare', 'age', 'survived']].values:\n",
        "    predictions.append( (s, predict_survival(f, a)) )\n",
        "    \n",
        "    \n",
        "    if s != predict_survival(f, a):\n",
        "        error += 1"
      ]
    },
    {
      "cell_type": "code",
      "execution_count": null,
      "metadata": {
        "id": "rTH_EkEGZKJq",
        "outputId": "475b1595-3852-4712-b4f7-7f2b92250d74"
      },
      "outputs": [
        {
          "data": {
            "text/plain": [
              "0.691358024691358"
            ]
          },
          "execution_count": 123,
          "metadata": {},
          "output_type": "execute_result"
        }
      ],
      "source": [
        "1 - error/len(predictions)"
      ]
    },
    {
      "cell_type": "markdown",
      "metadata": {
        "id": "iBobNHeqZKJr"
      },
      "source": [
        "## How do I remove missing data with pandas?"
      ]
    },
    {
      "cell_type": "markdown",
      "metadata": {
        "id": "UabI0dczZKJs"
      },
      "source": [
        "Remove rows with missing data:  (axis = 0, *means* rows)"
      ]
    },
    {
      "cell_type": "code",
      "execution_count": null,
      "metadata": {
        "id": "3kSKA2BkZKJs",
        "outputId": "acfc5024-d50f-4b5f-9eef-d43b470e9785"
      },
      "outputs": [
        {
          "name": "stdout",
          "output_type": "stream",
          "text": [
            "We removed:  709 rows\n"
          ]
        }
      ],
      "source": [
        "ti_wo_rows = ti.dropna(axis=0)\n",
        "\n",
        "print(\"We removed: \", len(ti) -  len(ti_wo_rows), \"rows\")\n"
      ]
    },
    {
      "cell_type": "markdown",
      "metadata": {
        "id": "Rn4rYW72ZKJt"
      },
      "source": [
        "<font color=\"red\">This removes 709 rows across **all** columns!</font>"
      ]
    },
    {
      "cell_type": "markdown",
      "metadata": {
        "id": "0I8a2aJUZKJt"
      },
      "source": [
        "Remove columns with missing data:"
      ]
    },
    {
      "cell_type": "code",
      "execution_count": null,
      "metadata": {
        "id": "q6VFMUkSZKJu"
      },
      "outputs": [],
      "source": [
        "ti_wo_col = ti.dropna(axis=1)\n"
      ]
    },
    {
      "cell_type": "code",
      "execution_count": null,
      "metadata": {
        "id": "qX_G8CYtZKJu",
        "outputId": "3898b151-3661-442f-a247-29b77f5118f1"
      },
      "outputs": [
        {
          "name": "stdout",
          "output_type": "stream",
          "text": [
            "We removed:  0 rows\n"
          ]
        }
      ],
      "source": [
        "print(\"We removed: \", len(ti) -  len(ti_wo_col), \"rows\")\n",
        "\n",
        "# but how many cols removed? let's use .shape attribute, or the info() method\n"
      ]
    },
    {
      "cell_type": "code",
      "execution_count": null,
      "metadata": {
        "id": "thh_c6v5ZKJv",
        "outputId": "85e90c33-3126-4ca2-9d52-947262b6b0c7"
      },
      "outputs": [
        {
          "data": {
            "text/plain": [
              "(891, 11)"
            ]
          },
          "execution_count": 37,
          "metadata": {},
          "output_type": "execute_result"
        }
      ],
      "source": [
        "ti_wo_col.shape\n"
      ]
    },
    {
      "cell_type": "code",
      "execution_count": null,
      "metadata": {
        "id": "pSU96_kpZKJv",
        "outputId": "72ec41c3-cd48-4926-bec6-d13e2de3c5fc"
      },
      "outputs": [
        {
          "name": "stdout",
          "output_type": "stream",
          "text": [
            "<class 'pandas.core.frame.DataFrame'>\n",
            "RangeIndex: 891 entries, 0 to 890\n",
            "Data columns (total 11 columns):\n",
            "survived      891 non-null int64\n",
            "pclass        891 non-null int64\n",
            "sex           891 non-null object\n",
            "sibsp         891 non-null int64\n",
            "parch         891 non-null int64\n",
            "fare          891 non-null float64\n",
            "class         891 non-null object\n",
            "who           891 non-null object\n",
            "adult_male    891 non-null bool\n",
            "alive         891 non-null object\n",
            "alone         891 non-null bool\n",
            "dtypes: bool(2), float64(1), int64(4), object(4)\n",
            "memory usage: 64.5+ KB\n"
          ]
        }
      ],
      "source": [
        "ti_wo_col.info()\n"
      ]
    },
    {
      "cell_type": "code",
      "execution_count": null,
      "metadata": {
        "id": "yhVYgwANZKJw",
        "outputId": "36b49698-927c-4a2c-c3de-7a082f0eef3c"
      },
      "outputs": [
        {
          "name": "stdout",
          "output_type": "stream",
          "text": [
            "<class 'pandas.core.frame.DataFrame'>\n",
            "RangeIndex: 891 entries, 0 to 890\n",
            "Data columns (total 15 columns):\n",
            "survived       891 non-null int64\n",
            "pclass         891 non-null int64\n",
            "sex            891 non-null object\n",
            "age            714 non-null float64\n",
            "sibsp          891 non-null int64\n",
            "parch          891 non-null int64\n",
            "fare           891 non-null float64\n",
            "embarked       889 non-null object\n",
            "class          891 non-null object\n",
            "who            891 non-null object\n",
            "adult_male     891 non-null bool\n",
            "deck           203 non-null object\n",
            "embark_town    889 non-null object\n",
            "alive          891 non-null object\n",
            "alone          891 non-null bool\n",
            "dtypes: bool(2), float64(2), int64(4), object(7)\n",
            "memory usage: 92.4+ KB\n"
          ]
        }
      ],
      "source": [
        "ti.info()\n"
      ]
    },
    {
      "cell_type": "markdown",
      "metadata": {
        "id": "cHX8mPK2ZKJw"
      },
      "source": [
        "## Aside: How do I drop a specific column?\n",
        "\n",
        "Note, that it would have been better to drop the `deck` column before dropping all the other missing rows, as the deck column is mostly empty (and therefore causes a lot of rows to be dropped). \n",
        "\n",
        "The `ti.drop(columns=['deck'])` command will drop the named columns. "
      ]
    },
    {
      "cell_type": "markdown",
      "metadata": {
        "id": "CojbFLU2ZKJx"
      },
      "source": [
        "## Aside: Alternative strategies for missing data\n",
        "\n",
        "* rather than dropping rows we could substitue missing entires for:\n",
        "    * median(, mean,), modes\n",
        "    * predicted values (eg., via linear regression)"
      ]
    },
    {
      "cell_type": "markdown",
      "metadata": {
        "id": "tSzvUk-xZKJx"
      },
      "source": [
        "### Exercise (25 min)\n",
        "* Context:  What improved your chances of survival on the titanic?"
      ]
    },
    {
      "cell_type": "markdown",
      "metadata": {
        "id": "GjQ0Hob8ZKJx"
      },
      "source": [
        "#### Part 1: Investigate the observations in the dataset\n",
        "The goal of this exercise is to expand on your solution to the prior one, including additional statistical information and information on missing data. \n",
        "\n",
        "\n",
        "* load the titanic dataset using `read_csv`\n",
        "* with `ti`, produce a report which shows interesting columns, samples, and descriptive stats\n",
        "* HINT, use the following:\n",
        "    * `df['age'].mean()`\n",
        "    * `.info()`, `.sample()`, `.mean()`, `.std()`, `.median()`, `.head()`, `.describe()`\n",
        "* include in the report *whether* there is missing data\n",
        "    * HINT: `.isna().sum()`\n",
        "    "
      ]
    },
    {
      "cell_type": "markdown",
      "metadata": {
        "id": "E56EiyOfZKJy"
      },
      "source": [
        "#### Part 2: Prepare the dataset for analysis\n",
        "* define `clean = ti.dropna()` to remove missing data\n",
        "    * remove the *rows*\n",
        "* perform the analysis above\n",
        "    * compare and contrast\n",
        "* what results are different, and why?\n",
        "    * ie., how has removing data affected the results?  \n",
        "* does cleaning the data bias the analysis?\n",
        "    * if so, do you have any ideas for how to over come that?\n",
        "    \n",
        "* EXTRA:\n",
        "    * What happens if you drop `deck` before `dropna()`.. does this show as much statistical biasing?"
      ]
    }
  ],
  "metadata": {
    "kernelspec": {
      "display_name": "Python 3 (ipykernel)",
      "language": "python",
      "name": "python3"
    },
    "language_info": {
      "codemirror_mode": {
        "name": "ipython",
        "version": 3
      },
      "file_extension": ".py",
      "mimetype": "text/x-python",
      "name": "python",
      "nbconvert_exporter": "python",
      "pygments_lexer": "ipython3",
      "version": "3.9.7"
    },
    "colab": {
      "name": "DA_DA_Pandas.ipynb",
      "provenance": [],
      "include_colab_link": true
    }
  },
  "nbformat": 4,
  "nbformat_minor": 0
}