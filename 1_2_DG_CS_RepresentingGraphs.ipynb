{
  "cells": [
    {
      "cell_type": "markdown",
      "metadata": {
        "id": "view-in-github",
        "colab_type": "text"
      },
      "source": [
        "<a href=\"https://colab.research.google.com/github/deepanshuMeteor/QA-Big-Data-Fundamentals/blob/main/1_2_DG_CS_RepresentingGraphs.ipynb\" target=\"_parent\"><img src=\"https://colab.research.google.com/assets/colab-badge.svg\" alt=\"Open In Colab\"/></a>"
      ]
    },
    {
      "cell_type": "markdown",
      "metadata": {
        "id": "E8JMCLTNcqye"
      },
      "source": [
        "# Introduction to Graph Theory & Network Science\n",
        "\n",
        "## 1 Graph Theory & Graph Visualization\n",
        "### 1.2 Representing Graphs"
      ]
    },
    {
      "cell_type": "markdown",
      "metadata": {
        "id": "uRmnTkZycqyp"
      },
      "source": [
        "* $G$ -- capital G \"the total information about the graph\"\n",
        "* $g$ -- relationships between nodes\n",
        "* $n$ -- the nodes\n",
        "\n",
        "$G$ = $(n, g)$\n",
        "\n",
        "eg., in a undirected graph, $(u, v) \\in G \\implies (v, u) \\in G$"
      ]
    },
    {
      "cell_type": "markdown",
      "metadata": {
        "id": "K9UM5-62cqyt"
      },
      "source": [
        "## Representing Graphs\n",
        "\n",
        "### Adjacency Matrix\n",
        "\n",
        "<img src=\"assets/graph-rep-matrix.jpg\" width=\"500px\" />"
      ]
    },
    {
      "cell_type": "markdown",
      "metadata": {
        "id": "8S7CTVbccqyv"
      },
      "source": [
        "#### Pros vs Cons\n",
        "\n",
        "| Pro  | Con  | \n",
        "|------|------|\n",
        "|Space efficient for dense graphs  | $O(N^2)$ space  |\n",
        "|Edge weight lookup is $O(1)$      |  Iterating over all edges takes $O(N^2)$ |\n",
        "| Simplest graph representation    | |\n",
        "\n",
        "\n",
        "#### Mathematical Representation\n",
        "* Recall: Network specified by $G = (n, g)$\n",
        "    * Nodes, eg., $n = \\{1, 2 \\dots N\\}$\n",
        "* Specify $g$ as:\n",
        "    * $g_{ij} = 1$ *if* edge from $n_i$ to  $n_j$\n",
        "    * $g_{ij} = 0$ *otherwise*\n",
        "\n",
        "NB. Diagonals $g_{ii}$ are $0$ if no self-connections and $1$ if self-connections. \n",
        "\n",
        "#### Python Representation"
      ]
    },
    {
      "cell_type": "code",
      "execution_count": 1,
      "metadata": {
        "id": "mN4LLedicqyx"
      },
      "outputs": [],
      "source": [
        "n = [0, 1, 2, 3]\n",
        "# n = ['Alice', 'Bob', 'Eve']\n",
        "\n",
        "g = [\n",
        "    [0, 1, 0, 1],  # 0\n",
        "    [1, 0, 1, 0],\n",
        "    [0, 1, 1, 1],\n",
        "    [0, 0, 0, 0]\n",
        "]\n",
        "\n",
        "G = (n, g)"
      ]
    },
    {
      "cell_type": "code",
      "execution_count": 2,
      "metadata": {
        "colab": {
          "base_uri": "https://localhost:8080/"
        },
        "id": "yFV0x5hdcqy0",
        "outputId": "b178278e-6bf8-4490-9ea0-4b4e0e4accc4"
      },
      "outputs": [
        {
          "output_type": "stream",
          "name": "stdout",
          "text": [
            "1\n",
            "1\n"
          ]
        }
      ],
      "source": [
        "from_node = 0\n",
        "to_node = 1\n",
        "\n",
        "print(g[from_node][to_node])\n",
        "print(g[to_node][from_node])"
      ]
    },
    {
      "cell_type": "markdown",
      "metadata": {
        "id": "UiF4uV_Jcqy2"
      },
      "source": [
        "### Edge List\n",
        "\n",
        "<img src=\"assets/graph-rep-edgelist.jpg\" width=\"500px\" />\n"
      ]
    },
    {
      "cell_type": "markdown",
      "metadata": {
        "id": "mhznL9Fhcqy4"
      },
      "source": [
        "* good for sparse graphs\n",
        "* sparse graphs are the most common kind\n",
        "\n",
        "#### Pros vs Cons\n",
        "\n",
        "\n",
        "| Pro  | Con  | \n",
        "|------|------|\n",
        "|Space efficient for **sparse** graphs  | -|\n",
        "|Iterating over edges is efficient      |  Edge weight lookup is $O(E)$ |\n",
        "| Simple graph representation    | |\n",
        "\n",
        "\n",
        "#### Mathematical Representation\n",
        "* Recall: Network specified by $G = (n, g)$\n",
        "    * Nodes, eg., $n = \\{1, 2 \\dots N\\}$\n",
        "* Specify $g$ as:\n",
        "    * $g = \\{\\dots\\} = [(u_0, v_0, w_0), \\dots, (u_E, v_E, w_E)]$\n",
        "\n",
        "#### Python Representation"
      ]
    },
    {
      "cell_type": "code",
      "execution_count": 3,
      "metadata": {
        "id": "ARznyyOmcqy5"
      },
      "outputs": [],
      "source": [
        "n = ['Alice', 'Eve', 'Bob']\n",
        "\n",
        "# g = [(0, 1, 9), ... ]\n",
        "\n",
        "g = [(n[0], n[1], 9), (n[0], n[2], 8),  (n[2], n[0], 3)]\n",
        "\n",
        "G = (n, g)"
      ]
    },
    {
      "cell_type": "code",
      "execution_count": 4,
      "metadata": {
        "colab": {
          "base_uri": "https://localhost:8080/"
        },
        "id": "H0t85Hp2cqy7",
        "outputId": "6dc60994-c5f0-49cf-cb0f-d793125a03fe"
      },
      "outputs": [
        {
          "output_type": "execute_result",
          "data": {
            "text/plain": [
              "[('Alice', 'Eve', 9), ('Alice', 'Bob', 8), ('Bob', 'Alice', 3)]"
            ]
          },
          "metadata": {},
          "execution_count": 4
        }
      ],
      "source": [
        "g"
      ]
    },
    {
      "cell_type": "code",
      "execution_count": 5,
      "metadata": {
        "colab": {
          "base_uri": "https://localhost:8080/"
        },
        "id": "AX87hJMQcqy8",
        "outputId": "3d9e5924-5afa-42c4-8781-f9e1a4356dac"
      },
      "outputs": [
        {
          "output_type": "stream",
          "name": "stdout",
          "text": [
            "Alice likes Eve 9\n",
            "Alice likes Bob 8\n",
            "Bob likes Alice 3\n",
            "20\n"
          ]
        }
      ],
      "source": [
        "total = 0\n",
        "for edge in g:\n",
        "    u, v, w = edge\n",
        "    total += w\n",
        "    print(u, 'likes', v, w)\n",
        "    \n",
        "print(total)   "
      ]
    },
    {
      "cell_type": "markdown",
      "metadata": {
        "id": "4PJp7h_ucqy-"
      },
      "source": [
        "### (Node) Adjacency Lists\n",
        "<img src=\"assets/graph-rep-nodelist.jpg\" width=\"500px\" />"
      ]
    },
    {
      "cell_type": "markdown",
      "metadata": {
        "id": "MksDW7-ecqzA"
      },
      "source": [
        "* track node-to, cost\n",
        "    * node-from is implicitly known\n",
        "    \n",
        "    \n",
        "#### Pros vs Cons\n",
        "\n",
        "\n",
        "| Pro  | Con  | \n",
        "|------|------|\n",
        "|Space efficient for **sparse** graphs  | -  |\n",
        "|Iterating over edges is efficient      |  Edge weight lookup is $O(E)$ |\n",
        "| | Somewhat complex representation |\n",
        "\n",
        "#### Python Representation"
      ]
    },
    {
      "cell_type": "code",
      "execution_count": 6,
      "metadata": {
        "id": "xCg-I6kicqzB"
      },
      "outputs": [],
      "source": [
        "n = ['Alice', 'Eve', 'Bob']\n",
        "\n",
        "g = {\n",
        " n[0]: [(n[1], 8), (n[2], 7)],\n",
        " n[2]: [(n[0], 3)]\n",
        "}\n",
        "\n",
        "G = (n, g)"
      ]
    },
    {
      "cell_type": "code",
      "execution_count": 7,
      "metadata": {
        "colab": {
          "base_uri": "https://localhost:8080/"
        },
        "id": "PXvNm5FRcqzC",
        "outputId": "f81879b5-f770-41d5-ecfe-779291546faf"
      },
      "outputs": [
        {
          "output_type": "execute_result",
          "data": {
            "text/plain": [
              "{'Alice': [('Eve', 8), ('Bob', 7)], 'Bob': [('Alice', 3)]}"
            ]
          },
          "metadata": {},
          "execution_count": 7
        }
      ],
      "source": [
        "g"
      ]
    },
    {
      "cell_type": "code",
      "execution_count": 8,
      "metadata": {
        "colab": {
          "base_uri": "https://localhost:8080/"
        },
        "id": "moqlh2DAcqzD",
        "outputId": "ff418f74-7b45-4123-b209-3accc3d79ee8"
      },
      "outputs": [
        {
          "output_type": "execute_result",
          "data": {
            "text/plain": [
              "[('Eve', 8), ('Bob', 7)]"
            ]
          },
          "metadata": {},
          "execution_count": 8
        }
      ],
      "source": [
        "g['Alice']"
      ]
    },
    {
      "cell_type": "markdown",
      "metadata": {
        "id": "bMS3jHlacqzF"
      },
      "source": [
        "## Exercise"
      ]
    },
    {
      "cell_type": "markdown",
      "metadata": {
        "id": "AlM0yzpRcqzF"
      },
      "source": [
        "### Part 1 (5min)\n",
        "On a piece of paper, draw a network.\n",
        "\n",
        "1. Choose a problem domain of interest\n",
        "    * eg., retail, transport, social, comms, ...\n",
        "2. Choose a kind of object to model as a node\n",
        "    * eg., node = person\n",
        "3. Choose a directed (asymmetric) relationship between them\n",
        "    * eg., A-likes->B\n",
        "4. Choose a numerical weight which makes sense for this type of relationship\n",
        "    * eg., length of friendship, *frequency of...* \n",
        "5. Draw a graph from your above decisisons which:\n",
        "    * includes 5 nodes\n",
        "    * where at least one node has 2 or more edges\n",
        "    * at least one node has no edges\n",
        "    \n",
        "### Part 2 (15min)\n",
        "\n",
        "* On paper, Represent this graph as:\n",
        "    * Adjacency Matrix\n",
        "    * Edge List\n",
        "    * Node/Adjancy List\n",
        "   \n",
        "### Extra / Part 3 (15min)\n",
        "* write python code using lists and dictionaries \n",
        "* compute the total weight of all edges in your graph for all representations\n",
        "* (ie., add together all the weights)> \n",
        "    "
      ]
    }
  ],
  "metadata": {
    "celltoolbar": "Slideshow",
    "kernelspec": {
      "display_name": "Python 3 (ipykernel)",
      "language": "python",
      "name": "python3"
    },
    "language_info": {
      "codemirror_mode": {
        "name": "ipython",
        "version": 3
      },
      "file_extension": ".py",
      "mimetype": "text/x-python",
      "name": "python",
      "nbconvert_exporter": "python",
      "pygments_lexer": "ipython3",
      "version": "3.9.7"
    },
    "colab": {
      "name": "1.2-DG_CS_RepresentingGraphs.ipynb",
      "provenance": [],
      "include_colab_link": true
    }
  },
  "nbformat": 4,
  "nbformat_minor": 0
}