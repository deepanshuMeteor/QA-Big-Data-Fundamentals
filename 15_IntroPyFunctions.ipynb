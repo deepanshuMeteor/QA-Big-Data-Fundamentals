{
  "cells": [
    {
      "cell_type": "markdown",
      "metadata": {
        "id": "view-in-github",
        "colab_type": "text"
      },
      "source": [
        "<a href=\"https://colab.research.google.com/github/deepanshuMeteor/QA-Big-Data-Fundamentals/blob/main/15_IntroPyFunctions.ipynb\" target=\"_parent\"><img src=\"https://colab.research.google.com/assets/colab-badge.svg\" alt=\"Open In Colab\"/></a>"
      ]
    },
    {
      "cell_type": "markdown",
      "metadata": {
        "id": "DCP8Sd5fUfuI"
      },
      "source": [
        "# Introduction to Python \n",
        "### Notes 1.1, Introduction to Functions\n",
        "---\n",
        "\n",
        "## Objectives\n",
        "\n",
        "---\n",
        "\n",
        "\n",
        "## What sort of code we repeat often?\n",
        "\n",
        "* decision making \n",
        "* business rules\n",
        "* utilities "
      ]
    },
    {
      "cell_type": "markdown",
      "metadata": {
        "id": "uO8pEHP3UfuT"
      },
      "source": [
        "The code written below is specialized, *for* specific data, ie., `journal`"
      ]
    },
    {
      "cell_type": "code",
      "execution_count": null,
      "metadata": {
        "id": "IWz7ZiGZUfuU",
        "outputId": "dce36da0-bdd6-4034-b643-558b0ab692c8"
      },
      "outputs": [
        {
          "name": "stdout",
          "output_type": "stream",
          "text": [
            "Keep up the good work!\n"
          ]
        }
      ],
      "source": [
        "journal = \"I am feeling good today!\"\n",
        "\n",
        "if \"good\" in journal:\n",
        "    print(\"Keep up the good work!\")\n",
        "elif \"bad\" in journal:\n",
        "    print(\"Try exercise!\")\n",
        "else:\n",
        "    print(\"no analysis possible\")"
      ]
    },
    {
      "cell_type": "markdown",
      "metadata": {
        "id": "-_xsxY1zUfuX"
      },
      "source": [
        "## How do you define a function?"
      ]
    },
    {
      "cell_type": "markdown",
      "metadata": {
        "id": "LErHe2EmUfuY"
      },
      "source": [
        "We can bundle this code as \"package\" called a \"function\" which allows to reuse it:"
      ]
    },
    {
      "cell_type": "code",
      "execution_count": null,
      "metadata": {
        "id": "VQP3XfcsUfuZ"
      },
      "outputs": [],
      "source": [
        "# def groups this code under \"recommend\"\n",
        "# where \"journal\" is now an input argument\n",
        "def recommend(journal):\n",
        "    # by indenting we have \"grouped together\"\n",
        "    if \"good\" in journal:\n",
        "        print(\"Keep up the good work!\")\n",
        "    elif \"bad\" in journal:\n",
        "        print(\"Try exercise!\")\n",
        "    else:\n",
        "        print(\"no analysis possible\")"
      ]
    },
    {
      "cell_type": "code",
      "execution_count": null,
      "metadata": {
        "id": "hpmmb6UeUfua",
        "outputId": "2bef869d-83a7-4f45-8a00-2c35371ca2c1"
      },
      "outputs": [
        {
          "name": "stdout",
          "output_type": "stream",
          "text": [
            "Keep up the good work!\n"
          ]
        }
      ],
      "source": [
        "recommend(\"I am feeling good!\")"
      ]
    },
    {
      "cell_type": "code",
      "execution_count": null,
      "metadata": {
        "id": "gMKNsuUpUfuc",
        "outputId": "6125b3c0-b81e-4b30-880e-0025130d87de"
      },
      "outputs": [
        {
          "name": "stdout",
          "output_type": "stream",
          "text": [
            "Try exercise!\n"
          ]
        }
      ],
      "source": [
        "recommend(\"I have a bad feeling about this!\")"
      ]
    },
    {
      "cell_type": "markdown",
      "metadata": {
        "id": "qM-fS4vDUfud"
      },
      "source": [
        "## What are functions?"
      ]
    },
    {
      "cell_type": "markdown",
      "metadata": {
        "id": "OC7HN3t4Ufue"
      },
      "source": [
        "At their simplest, a function is just a block of code which can executed *by name* rather than having to write-out the whole block. \n",
        "\n",
        "Functions take *arguments* which take a different value everytime they are executed (ie., named).\n",
        "\n",
        "When we call function we provide the value of their arguments, ie., we give them the specific input they need. "
      ]
    },
    {
      "cell_type": "markdown",
      "metadata": {
        "id": "E16OMA2AUfuf"
      },
      "source": [
        "## Why use functions?"
      ]
    },
    {
      "cell_type": "markdown",
      "metadata": {
        "id": "QVh9XnhxUfuf"
      },
      "source": [
        "There are many reasons, three main ones:\n",
        "\n",
        "1. to create reusable utilities\n",
        "2. to provide a \"intutive name\" for an operation\n",
        "    * this expresses the design intention more clearly than many-lines do\n",
        "3. to localize code \"in one place\"\n",
        "    * eg., if there's a mistake in the code, you only change one place\n",
        "    * eg., if you add a feature, the whole programme gets it "
      ]
    },
    {
      "cell_type": "markdown",
      "metadata": {
        "id": "irMxh4o-Ufug"
      },
      "source": [
        "## How do you call a function in python?"
      ]
    },
    {
      "cell_type": "code",
      "execution_count": null,
      "metadata": {
        "id": "qV1n5pk9Ufuh"
      },
      "outputs": [],
      "source": [
        "def warning(bp, hr):\n",
        "    if (bp > 180) or (hr > 150):\n",
        "        print(\"WARNING!\")\n",
        "    else:\n",
        "        print(\"OK\")"
      ]
    },
    {
      "cell_type": "markdown",
      "metadata": {
        "id": "b1WLna4eUfui"
      },
      "source": [
        "You call a function by using its name (followed by parentheses). You supply arguments *by position*, so that, eg., below, `bp` is `60` and `hr` is `70`"
      ]
    },
    {
      "cell_type": "code",
      "execution_count": null,
      "metadata": {
        "id": "K5EOspp1Ufuj",
        "outputId": "cf47c037-12fc-4883-8510-bb709c3decda"
      },
      "outputs": [
        {
          "name": "stdout",
          "output_type": "stream",
          "text": [
            "OK\n"
          ]
        }
      ],
      "source": [
        "warning(60, 70)"
      ]
    },
    {
      "cell_type": "code",
      "execution_count": null,
      "metadata": {
        "id": "81p8C0Q5Ufuj",
        "outputId": "0303eeb7-3a2d-44eb-d3b7-6b38aede9bed"
      },
      "outputs": [
        {
          "name": "stdout",
          "output_type": "stream",
          "text": [
            "WARNING!\n"
          ]
        }
      ],
      "source": [
        "warning(200, 210)"
      ]
    },
    {
      "cell_type": "markdown",
      "metadata": {
        "id": "XGanYZ18Ufuk"
      },
      "source": [
        "Below, we *name* the arguments, and if we name them, we can supply them in any order:"
      ]
    },
    {
      "cell_type": "code",
      "execution_count": null,
      "metadata": {
        "id": "aj7AH87CUfuk",
        "outputId": "234f8f17-e721-4e77-bdb2-aac407231e2b"
      },
      "outputs": [
        {
          "name": "stdout",
          "output_type": "stream",
          "text": [
            "WARNING!\n"
          ]
        }
      ],
      "source": [
        "warning(hr=60, bp=200)"
      ]
    },
    {
      "cell_type": "markdown",
      "metadata": {
        "id": "t2UMLb_4Uful"
      },
      "source": [
        "You can supply arguments both by position, and by name, but named ones have to come last:"
      ]
    },
    {
      "cell_type": "code",
      "execution_count": null,
      "metadata": {
        "id": "F3bD5c63Ufum",
        "outputId": "4fd24fd0-898c-4063-e7b6-3c57feabd8ee"
      },
      "outputs": [
        {
          "name": "stdout",
          "output_type": "stream",
          "text": [
            "WARNING!\n"
          ]
        }
      ],
      "source": [
        "warning(100, hr=200)"
      ]
    },
    {
      "cell_type": "code",
      "execution_count": null,
      "metadata": {
        "id": "KP_f4j5dUfum",
        "outputId": "50c2e6eb-a709-4c91-a511-fa2b097b72d0"
      },
      "outputs": [
        {
          "ename": "SyntaxError",
          "evalue": "positional argument follows keyword argument (<ipython-input-17-a48f08a64f51>, line 1)",
          "output_type": "error",
          "traceback": [
            "\u001b[0;36m  File \u001b[0;32m\"<ipython-input-17-a48f08a64f51>\"\u001b[0;36m, line \u001b[0;32m1\u001b[0m\n\u001b[0;31m    warning(hr=100, 100)\u001b[0m\n\u001b[0m                    ^\u001b[0m\n\u001b[0;31mSyntaxError\u001b[0m\u001b[0;31m:\u001b[0m positional argument follows keyword argument\n"
          ]
        }
      ],
      "source": [
        "warning(hr=100, 100)"
      ]
    },
    {
      "cell_type": "markdown",
      "metadata": {
        "id": "F6_f47TCUfun"
      },
      "source": [
        "## How does a function represent a calculation?"
      ]
    },
    {
      "cell_type": "markdown",
      "metadata": {
        "id": "waQY_PalUfun"
      },
      "source": [
        "Roughly, there are two kinds of function:\n",
        "* functions which access devices\n",
        "    * `print()` accesses the scree\n",
        "    * `open()` access the disk\n",
        "* functions which calculate results\n",
        "    * `1 + 1` computes `2` \n",
        "    \n",
        "So far, the functions above, are all more like *actions* -- they don't produce any values; they do something. "
      ]
    },
    {
      "cell_type": "code",
      "execution_count": null,
      "metadata": {
        "id": "lEjGN51rUfuo"
      },
      "outputs": [],
      "source": [
        "def warning(bp, hr):\n",
        "    if (bp > 180) or (hr > 150):\n",
        "        print(\"WARNING!\")\n",
        "    else:\n",
        "        print(\"OK\")"
      ]
    },
    {
      "cell_type": "markdown",
      "metadata": {
        "id": "P93WXUY4Ufup"
      },
      "source": [
        "It may look like `warning()` returns a value, but it just places it on the screen: "
      ]
    },
    {
      "cell_type": "code",
      "execution_count": null,
      "metadata": {
        "id": "BxAomgIpUfuq",
        "outputId": "d21d181b-d37a-4ba2-bfb3-fe431d3f57c8"
      },
      "outputs": [
        {
          "name": "stdout",
          "output_type": "stream",
          "text": [
            "OK\n"
          ]
        }
      ],
      "source": [
        "message = warning(100, 100)"
      ]
    },
    {
      "cell_type": "markdown",
      "metadata": {
        "id": "5jbk-7gfUfur"
      },
      "source": [
        "There's no *data* returned from `warning()`..."
      ]
    },
    {
      "cell_type": "code",
      "execution_count": null,
      "metadata": {
        "id": "Q_-FVgbUUfur",
        "outputId": "1c6fa00c-a6d9-410e-86de-bef70461df91"
      },
      "outputs": [
        {
          "name": "stdout",
          "output_type": "stream",
          "text": [
            "None\n"
          ]
        }
      ],
      "source": [
        "print(message)"
      ]
    },
    {
      "cell_type": "code",
      "execution_count": null,
      "metadata": {
        "id": "k0LGaKLbUfus"
      },
      "outputs": [],
      "source": [
        "def warning(bp, hr):\n",
        "    if (bp > 180) or (hr > 150):\n",
        "        return \"WARNING!\"\n",
        "    else:\n",
        "        return \"OK\""
      ]
    },
    {
      "cell_type": "markdown",
      "metadata": {
        "id": "lEfR23ukUfus"
      },
      "source": [
        "This no longer `print()`s, "
      ]
    },
    {
      "cell_type": "code",
      "execution_count": null,
      "metadata": {
        "id": "lWVh1b0WUfus"
      },
      "outputs": [],
      "source": [
        "msg = warning(100, 100)"
      ]
    },
    {
      "cell_type": "code",
      "execution_count": null,
      "metadata": {
        "id": "e4GnqLbkUfus",
        "outputId": "ac30812e-7aee-4836-e2d2-8ddd88f8a4fd"
      },
      "outputs": [
        {
          "name": "stdout",
          "output_type": "stream",
          "text": [
            "OK!\n"
          ]
        }
      ],
      "source": [
        "print(msg + \"!\")"
      ]
    },
    {
      "cell_type": "markdown",
      "metadata": {
        "id": "D3g_VKaFUfut"
      },
      "source": [
        "### Additional Example"
      ]
    },
    {
      "cell_type": "code",
      "execution_count": null,
      "metadata": {
        "id": "Pd3pz4mbUfut"
      },
      "outputs": [],
      "source": [
        "def predict_prognosis(hr, bp):\n",
        "    return 0.1*hr + 0.1*bp + 5"
      ]
    },
    {
      "cell_type": "code",
      "execution_count": null,
      "metadata": {
        "id": "OPvh_0UZUfut"
      },
      "outputs": [],
      "source": [
        "result = predict_prognosis(100, 100)"
      ]
    },
    {
      "cell_type": "code",
      "execution_count": null,
      "metadata": {
        "id": "CnRaWUiVUfuu",
        "outputId": "193b6ec0-0f5d-439b-d2eb-d77c213ce0a8"
      },
      "outputs": [
        {
          "name": "stdout",
          "output_type": "stream",
          "text": [
            "You have a life expectancy of 25.0 months\n"
          ]
        }
      ],
      "source": [
        "print(f\"You have a life expectancy of {result} months\")"
      ]
    },
    {
      "cell_type": "code",
      "execution_count": null,
      "metadata": {
        "id": "OpQVCbyEUfuu",
        "outputId": "79dde2cf-529a-4973-ae7c-d31a2432a41e"
      },
      "outputs": [
        {
          "name": "stdout",
          "output_type": "stream",
          "text": [
            "You have a life expectancy of 2 years\n"
          ]
        }
      ],
      "source": [
        "print(f\"You have a life expectancy of {round(result/12)} years\")"
      ]
    },
    {
      "cell_type": "markdown",
      "metadata": {
        "id": "dXYxOB5iUfuv"
      },
      "source": [
        "## Exercise (20 min)"
      ]
    },
    {
      "cell_type": "markdown",
      "metadata": {
        "id": "wX0KocfOUfuv"
      },
      "source": [
        "In this exercise we consider the types of code we have seen before, and now think through rephrasing them using functions. \n",
        "\n",
        "Consider the code below, note that the decision-making code may be better grouped within a function."
      ]
    },
    {
      "cell_type": "code",
      "execution_count": null,
      "metadata": {
        "id": "EW5uuNIDUfuv",
        "outputId": "6b42c173-2863-49eb-f921-5268d3d7ea36"
      },
      "outputs": [
        {
          "name": "stdout",
          "output_type": "stream",
          "text": [
            "OK!\n",
            "WARNING!\n",
            "WARNING!\n"
          ]
        }
      ],
      "source": [
        "# data defintion\n",
        "health_dataset = [\n",
        "    # PatientID, PatientName, PatientHR, PatientBP\n",
        "    (1, \"Michael\", 100, 100),\n",
        "    (2, \"Alice\", 200, 180),\n",
        "    (3, \"Eve\", 150, 100),\n",
        "]\n",
        "\n",
        "# looping:\n",
        "#   (1 , \"Michael\", 100, 100) \n",
        "for pid, pname   ,  phr, pbp in health_dataset:\n",
        "    \n",
        "    # decision-making\n",
        "    if (phr > 100) or (pbp > 100):\n",
        "        print(\"WARNING!\")\n",
        "    else:\n",
        "        print(\"OK!\")"
      ]
    },
    {
      "cell_type": "markdown",
      "metadata": {
        "id": "LCCCSRAZUfuw"
      },
      "source": [
        "### Problem: produce a patient report for a health dataset. \n",
        "\n",
        "#### Part 1\n",
        "\n",
        "* define a function called `health_advice()` which takes a `bp` and `hr` as input\n",
        "    * then offers advice\n",
        "* replace the body of the loop with your new function\n",
        "\n",
        "\n",
        "#### Part 2\n",
        "\n",
        "* modify the following defintion to also accept a blood sugar\n",
        "    * HINT: `+ bsgr` (or whatever you wish)\n",
        "    \n",
        "```python\n",
        "    def predict_prognosis(hr, bp):\n",
        "        return 0.1*hr + 0.1*bp + 5\n",
        "```\n",
        "\n",
        "* add a blood sugar entry to each row in the dataset\n",
        "    * HINT: add it at the end of every row\n",
        "* add a looping variable\n",
        "    * HINT: add it after `, pbp`\n",
        "* add `predict_prognosis()` to the loop body\n",
        "    * you can either add it to `health_advice()` or to the loop\n",
        "    * try both\n"
      ]
    }
  ],
  "metadata": {
    "kernelspec": {
      "display_name": "Python 3 (ipykernel)",
      "language": "python",
      "name": "python3"
    },
    "language_info": {
      "codemirror_mode": {
        "name": "ipython",
        "version": 3
      },
      "file_extension": ".py",
      "mimetype": "text/x-python",
      "name": "python",
      "nbconvert_exporter": "python",
      "pygments_lexer": "ipython3",
      "version": "3.9.7"
    },
    "colab": {
      "name": "15_IntroPyFunctions.ipynb",
      "provenance": [],
      "include_colab_link": true
    }
  },
  "nbformat": 4,
  "nbformat_minor": 0
}