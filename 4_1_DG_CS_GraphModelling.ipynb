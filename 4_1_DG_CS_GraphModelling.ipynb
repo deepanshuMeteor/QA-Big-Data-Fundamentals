{
  "cells": [
    {
      "cell_type": "markdown",
      "metadata": {
        "id": "view-in-github",
        "colab_type": "text"
      },
      "source": [
        "<a href=\"https://colab.research.google.com/github/deepanshuMeteor/QA-Big-Data-Fundamentals/blob/main/4_1_DG_CS_GraphModelling.ipynb\" target=\"_parent\"><img src=\"https://colab.research.google.com/assets/colab-badge.svg\" alt=\"Open In Colab\"/></a>"
      ]
    },
    {
      "cell_type": "markdown",
      "metadata": {
        "id": "S1aW8_MZdMNe"
      },
      "source": [
        "# Introduction to Graph Theory & Network Science\n",
        "\n",
        "## 4 Network Science & Graph Modelling\n",
        "### 4.1 Graph Models of Relational Data"
      ]
    },
    {
      "cell_type": "code",
      "execution_count": null,
      "metadata": {
        "id": "YE4XDrUvdMNm"
      },
      "outputs": [],
      "source": [
        "import networkx as nx\n",
        "\n",
        "\n",
        "import pandas as pd\n",
        "import matplotlib.pyplot as plt"
      ]
    },
    {
      "cell_type": "markdown",
      "metadata": {
        "id": "8JzbfuBhdMNo"
      },
      "source": [
        "## The US Airport Dataset"
      ]
    },
    {
      "cell_type": "markdown",
      "metadata": {
        "id": "Sf1PXKOTdMNp"
      },
      "source": [
        "This dataset contains data for 25 years (1995-2015) of flights between various US airports and metadata about these routes. Taken from Bureau of Transportation Statistics, United States Department of Transportation."
      ]
    },
    {
      "cell_type": "code",
      "execution_count": null,
      "metadata": {
        "id": "zoMzqXEtdMNq"
      },
      "outputs": [],
      "source": [
        "passengers = pd.read_csv('datasets/extra/passengers.csv')"
      ]
    },
    {
      "cell_type": "code",
      "execution_count": null,
      "metadata": {
        "id": "EhcrYlppdMNq",
        "outputId": "48ab8fdc-e8e5-42d2-dc71-c73e6009a596"
      },
      "outputs": [
        {
          "data": {
            "text/html": [
              "<div>\n",
              "<style scoped>\n",
              "    .dataframe tbody tr th:only-of-type {\n",
              "        vertical-align: middle;\n",
              "    }\n",
              "\n",
              "    .dataframe tbody tr th {\n",
              "        vertical-align: top;\n",
              "    }\n",
              "\n",
              "    .dataframe thead th {\n",
              "        text-align: right;\n",
              "    }\n",
              "</style>\n",
              "<table border=\"1\" class=\"dataframe\">\n",
              "  <thead>\n",
              "    <tr style=\"text-align: right;\">\n",
              "      <th></th>\n",
              "      <th>Unnamed: 0</th>\n",
              "      <th>YEAR</th>\n",
              "      <th>ORIGIN</th>\n",
              "      <th>DEST</th>\n",
              "      <th>UNIQUE_CARRIER_NAME</th>\n",
              "      <th>PASSENGERS</th>\n",
              "    </tr>\n",
              "  </thead>\n",
              "  <tbody>\n",
              "    <tr>\n",
              "      <th>0</th>\n",
              "      <td>0</td>\n",
              "      <td>1990</td>\n",
              "      <td>ABE</td>\n",
              "      <td>ACY</td>\n",
              "      <td>{'US Airways Inc.'}</td>\n",
              "      <td>73.0</td>\n",
              "    </tr>\n",
              "    <tr>\n",
              "      <th>1</th>\n",
              "      <td>1</td>\n",
              "      <td>1990</td>\n",
              "      <td>ABE</td>\n",
              "      <td>ATL</td>\n",
              "      <td>{'Eastern Air Lines Inc.'}</td>\n",
              "      <td>73172.0</td>\n",
              "    </tr>\n",
              "    <tr>\n",
              "      <th>2</th>\n",
              "      <td>2</td>\n",
              "      <td>1990</td>\n",
              "      <td>ABE</td>\n",
              "      <td>AVL</td>\n",
              "      <td>{'Westair Airlines Inc.'}</td>\n",
              "      <td>0.0</td>\n",
              "    </tr>\n",
              "    <tr>\n",
              "      <th>3</th>\n",
              "      <td>3</td>\n",
              "      <td>1990</td>\n",
              "      <td>ABE</td>\n",
              "      <td>AVP</td>\n",
              "      <td>{'Westair Airlines Inc.', 'US Airways Inc.', '...</td>\n",
              "      <td>8397.0</td>\n",
              "    </tr>\n",
              "    <tr>\n",
              "      <th>4</th>\n",
              "      <td>4</td>\n",
              "      <td>1990</td>\n",
              "      <td>ABE</td>\n",
              "      <td>BHM</td>\n",
              "      <td>{'Eastern Air Lines Inc.'}</td>\n",
              "      <td>59.0</td>\n",
              "    </tr>\n",
              "  </tbody>\n",
              "</table>\n",
              "</div>"
            ],
            "text/plain": [
              "   Unnamed: 0  YEAR ORIGIN DEST  \\\n",
              "0           0  1990    ABE  ACY   \n",
              "1           1  1990    ABE  ATL   \n",
              "2           2  1990    ABE  AVL   \n",
              "3           3  1990    ABE  AVP   \n",
              "4           4  1990    ABE  BHM   \n",
              "\n",
              "                                 UNIQUE_CARRIER_NAME  PASSENGERS  \n",
              "0                                {'US Airways Inc.'}        73.0  \n",
              "1                         {'Eastern Air Lines Inc.'}     73172.0  \n",
              "2                          {'Westair Airlines Inc.'}         0.0  \n",
              "3  {'Westair Airlines Inc.', 'US Airways Inc.', '...      8397.0  \n",
              "4                         {'Eastern Air Lines Inc.'}        59.0  "
            ]
          },
          "execution_count": 3,
          "metadata": {},
          "output_type": "execute_result"
        }
      ],
      "source": [
        "passengers.head()"
      ]
    },
    {
      "cell_type": "markdown",
      "metadata": {
        "id": "oCjdiP18dMNs"
      },
      "source": [
        "Notice the `ORIGIN` and `DEST` columns describe edges.\n",
        "\n",
        "We could create a list of edges..."
      ]
    },
    {
      "cell_type": "code",
      "execution_count": null,
      "metadata": {
        "id": "YmgPw1UfdMNt"
      },
      "outputs": [],
      "source": [
        "edges = passengers[['ORIGIN', 'DEST']].values"
      ]
    },
    {
      "cell_type": "code",
      "execution_count": null,
      "metadata": {
        "id": "tIev43SpdMNv",
        "outputId": "4c6158fe-534d-4402-b9ff-4e43321db061"
      },
      "outputs": [
        {
          "data": {
            "text/plain": [
              "array([['ABE', 'ACY'],\n",
              "       ['ABE', 'ATL'],\n",
              "       ['ABE', 'AVL'],\n",
              "       ['ABE', 'AVP'],\n",
              "       ['ABE', 'BHM'],\n",
              "       ['ABE', 'BNA'],\n",
              "       ['ABE', 'BWI'],\n",
              "       ['ABE', 'CAE'],\n",
              "       ['ABE', 'CVG'],\n",
              "       ['ABE', 'DAY']], dtype=object)"
            ]
          },
          "execution_count": 5,
          "metadata": {},
          "output_type": "execute_result"
        }
      ],
      "source": [
        "edges[:10]"
      ]
    },
    {
      "cell_type": "markdown",
      "metadata": {
        "id": "MoF8lQ7UdMNx"
      },
      "source": [
        "And then.."
      ]
    },
    {
      "cell_type": "code",
      "execution_count": null,
      "metadata": {
        "id": "O180tKdqdMNy"
      },
      "outputs": [],
      "source": [
        "G = nx.MultiDiGraph()\n",
        "G.add_edges_from(edges);"
      ]
    },
    {
      "cell_type": "code",
      "execution_count": null,
      "metadata": {
        "id": "8r9wBBcLdMN0",
        "outputId": "994a71fd-fd08-4038-ae82-97666a83c524"
      },
      "outputs": [
        {
          "data": {
            "text/plain": [
              "2177"
            ]
          },
          "execution_count": 7,
          "metadata": {},
          "output_type": "execute_result"
        }
      ],
      "source": [
        "len(G)"
      ]
    },
    {
      "cell_type": "markdown",
      "metadata": {
        "id": "DCRLdHyKdMN1"
      },
      "source": [
        "Or we can use a special method for working with pandas dataframes that NetworkX provides..."
      ]
    },
    {
      "cell_type": "code",
      "execution_count": null,
      "metadata": {
        "id": "vTViJy_-dMN1"
      },
      "outputs": [],
      "source": [
        "PG = nx.from_pandas_edgelist(\n",
        "    passengers, \n",
        "    source='ORIGIN', \n",
        "    target='DEST', \n",
        "    edge_attr=['YEAR', 'PASSENGERS', 'UNIQUE_CARRIER_NAME'], \n",
        "    create_using=nx.MultiDiGraph()\n",
        ")"
      ]
    },
    {
      "cell_type": "code",
      "execution_count": null,
      "metadata": {
        "id": "sMEd5uxadMN2",
        "outputId": "032763d7-2927-45ae-e90c-760805653a9b"
      },
      "outputs": [
        {
          "data": {
            "text/plain": [
              "2177"
            ]
          },
          "execution_count": 9,
          "metadata": {},
          "output_type": "execute_result"
        }
      ],
      "source": [
        "len(PG)"
      ]
    },
    {
      "cell_type": "markdown",
      "metadata": {
        "id": "bHndQczZdMN2"
      },
      "source": [
        "## Graphs Group by Edges"
      ]
    },
    {
      "cell_type": "code",
      "execution_count": null,
      "metadata": {
        "id": "fvR7k0-mdMN3"
      },
      "outputs": [],
      "source": [
        "cleveland = 'CLE'\n",
        "chicago = 'ORD'\n",
        "yr0 = 1990\n",
        "\n",
        "c2c = PG[cleveland][chicago]"
      ]
    },
    {
      "cell_type": "code",
      "execution_count": null,
      "metadata": {
        "id": "bLYJPRQbdMN4",
        "outputId": "1bffe961-45ea-4fd3-fbbe-606f20313fc9"
      },
      "outputs": [
        {
          "data": {
            "text/plain": [
              "{'YEAR': 1990,\n",
              " 'PASSENGERS': 386602.0,\n",
              " 'UNIQUE_CARRIER_NAME': \"{'Continental Air Lines Inc.', 'United Air Lines Inc.', 'American Airlines Inc.'}\"}"
            ]
          },
          "execution_count": 11,
          "metadata": {},
          "output_type": "execute_result"
        }
      ],
      "source": [
        "PG['CLE']['ORD'][0]"
      ]
    },
    {
      "cell_type": "code",
      "execution_count": null,
      "metadata": {
        "id": "GnoWr2OOdMN4",
        "outputId": "e4ae2084-ea9b-4ac0-a6e2-076b33db75d2"
      },
      "outputs": [
        {
          "data": {
            "text/plain": [
              "{'YEAR': 1990,\n",
              " 'PASSENGERS': 386602.0,\n",
              " 'UNIQUE_CARRIER_NAME': \"{'Continental Air Lines Inc.', 'United Air Lines Inc.', 'American Airlines Inc.'}\"}"
            ]
          },
          "execution_count": 12,
          "metadata": {},
          "output_type": "execute_result"
        }
      ],
      "source": [
        "c2c[0]"
      ]
    },
    {
      "cell_type": "code",
      "execution_count": null,
      "metadata": {
        "id": "8uUb33NkdMN5",
        "outputId": "fd4929e0-639c-4908-9b62-6c99ac188dfb"
      },
      "outputs": [
        {
          "data": {
            "text/plain": [
              "{'YEAR': 2000,\n",
              " 'PASSENGERS': 391718.0,\n",
              " 'UNIQUE_CARRIER_NAME': \"{'United Air Lines Inc.', 'ExpressJet Airlines Inc. (1)', 'American Airlines Inc.', 'Envoy Air', 'Continental Air Lines Inc.', 'Northwest Airlines Inc.'}\"}"
            ]
          },
          "execution_count": 13,
          "metadata": {},
          "output_type": "execute_result"
        }
      ],
      "source": [
        "c2c[2000 - yr0]"
      ]
    },
    {
      "cell_type": "code",
      "execution_count": null,
      "metadata": {
        "id": "l79IOCnydMN6",
        "outputId": "5d3a234b-4b50-43de-edee-477bfa2a3f7d"
      },
      "outputs": [
        {
          "data": {
            "text/plain": [
              "391718.0"
            ]
          },
          "execution_count": 14,
          "metadata": {},
          "output_type": "execute_result"
        }
      ],
      "source": [
        "PG['CLE']['ORD'][10]['PASSENGERS']"
      ]
    },
    {
      "cell_type": "code",
      "execution_count": null,
      "metadata": {
        "id": "e-6EI4_tdMN6"
      },
      "outputs": [],
      "source": [
        "c2c_yp = { weight['YEAR'] :  weight['PASSENGERS'] for weight in c2c.values() }"
      ]
    },
    {
      "cell_type": "code",
      "execution_count": null,
      "metadata": {
        "id": "mLD2yH9bdMN7",
        "outputId": "a41116e2-9af8-4cde-c09d-83c496df9511"
      },
      "outputs": [
        {
          "data": {
            "text/plain": [
              "{1990: 386602.0,\n",
              " 1991: 404416.0,\n",
              " 1992: 437666.0,\n",
              " 1993: 436678.0,\n",
              " 1994: 475496.0,\n",
              " 1995: 488581.0,\n",
              " 1996: 465392.0,\n",
              " 1997: 446734.0,\n",
              " 1998: 438346.0,\n",
              " 1999: 431422.0,\n",
              " 2000: 391718.0,\n",
              " 2001: 342602.0,\n",
              " 2002: 348070.0,\n",
              " 2003: 350769.0,\n",
              " 2004: 390006.0,\n",
              " 2005: 397852.0,\n",
              " 2006: 388539.0,\n",
              " 2007: 378752.0,\n",
              " 2008: 340616.0,\n",
              " 2009: 339208.0,\n",
              " 2010: 313656.0,\n",
              " 2011: 303419.0,\n",
              " 2012: 351191.0,\n",
              " 2013: 371756.0,\n",
              " 2014: 392492.0,\n",
              " 2015: 409943.0}"
            ]
          },
          "execution_count": 16,
          "metadata": {},
          "output_type": "execute_result"
        }
      ],
      "source": [
        "c2c_yp"
      ]
    },
    {
      "cell_type": "code",
      "execution_count": null,
      "metadata": {
        "id": "iNO9dL2LdMN7",
        "outputId": "c9a3a5b2-aa5a-4aa6-c947-7897ad4f25c8"
      },
      "outputs": [
        {
          "data": {
            "image/png": "[encoded data removed]",
            "text/plain": [
              "<Figure size 432x288 with 1 Axes>"
            ]
          },
          "metadata": {
            "needs_background": "light"
          },
          "output_type": "display_data"
        }
      ],
      "source": [
        "plt.plot(list(c2c_yp.keys()), list(c2c_yp.values()));"
      ]
    },
    {
      "cell_type": "markdown",
      "metadata": {
        "id": "hWOeL7HidMN8"
      },
      "source": [
        "## Exercise\n",
        "\n",
        "Find the busiest route in 1990 and in 2015 according to number of passengers."
      ]
    },
    {
      "cell_type": "code",
      "execution_count": null,
      "metadata": {
        "id": "0xxiJSz7dMN8"
      },
      "outputs": [],
      "source": [
        "p90_max = passengers.loc[ passengers['YEAR'] == 1990, 'PASSENGERS'].max()\n",
        "p15_max = passengers.loc[ passengers['YEAR'] == 2015, 'PASSENGERS'].max()"
      ]
    },
    {
      "cell_type": "code",
      "execution_count": null,
      "metadata": {
        "id": "yrusflUydMN9",
        "outputId": "e242dfd9-332b-43ee-c311-494f2cb98305"
      },
      "outputs": [
        {
          "data": {
            "text/plain": [
              "1827164.0"
            ]
          },
          "execution_count": 24,
          "metadata": {},
          "output_type": "execute_result"
        }
      ],
      "source": [
        "p90_max"
      ]
    },
    {
      "cell_type": "markdown",
      "metadata": {
        "id": "hUDnm83EdMN9"
      },
      "source": [
        "## Multi Graphs to Graphs"
      ]
    },
    {
      "cell_type": "code",
      "execution_count": null,
      "metadata": {
        "id": "8ZzUTxwtdMN9",
        "outputId": "2e94ada0-c642-4982-f2bd-20cd9be440b2"
      },
      "outputs": [
        {
          "data": {
            "text/plain": [
              "11016"
            ]
          },
          "execution_count": 25,
          "metadata": {},
          "output_type": "execute_result"
        }
      ],
      "source": [
        "len([ (u,v,w) for (u,v,w) in PG.edges(data=True) if w['YEAR'] == 2000 ])"
      ]
    },
    {
      "cell_type": "code",
      "execution_count": null,
      "metadata": {
        "id": "p0RPpiS8dMN-"
      },
      "outputs": [],
      "source": [
        "PG2k = nx.DiGraph()\n",
        "PG2k.add_edges_from((u,v,w) for (u,v,w) in PG.edges(data=True) if w['YEAR'] == 2000 )"
      ]
    },
    {
      "cell_type": "code",
      "execution_count": null,
      "metadata": {
        "id": "B9TO7ofgdMN-",
        "outputId": "2858d51d-28c0-4839-8c1f-a3ea879c14ec"
      },
      "outputs": [
        {
          "data": {
            "text/plain": [
              "559"
            ]
          },
          "execution_count": 27,
          "metadata": {},
          "output_type": "execute_result"
        }
      ],
      "source": [
        "len(PG2k.nodes())"
      ]
    },
    {
      "cell_type": "code",
      "execution_count": null,
      "metadata": {
        "id": "Ldf0AZlCdMN-",
        "outputId": "eeb22896-ab6a-4995-df67-8a5200f4e30f"
      },
      "outputs": [
        {
          "data": {
            "text/plain": [
              "11016"
            ]
          },
          "execution_count": 28,
          "metadata": {},
          "output_type": "execute_result"
        }
      ],
      "source": [
        "len(PG2k.edges())"
      ]
    },
    {
      "cell_type": "markdown",
      "metadata": {
        "id": "Q9s7kMAvdMN_"
      },
      "source": [
        "## Visualizing Geographical Networks"
      ]
    },
    {
      "cell_type": "code",
      "execution_count": null,
      "metadata": {
        "id": "tP0y0i_VdMN_"
      },
      "outputs": [],
      "source": [
        "airports = pd.read_csv('datasets/extra/GlobalAirportDatabase.txt', delimiter=':', header=None)"
      ]
    },
    {
      "cell_type": "code",
      "execution_count": null,
      "metadata": {
        "id": "dU8CMuQudMN_",
        "outputId": "62a8e795-3d75-4e3a-a168-3fe13328064c"
      },
      "outputs": [
        {
          "data": {
            "text/html": [
              "<div>\n",
              "<style scoped>\n",
              "    .dataframe tbody tr th:only-of-type {\n",
              "        vertical-align: middle;\n",
              "    }\n",
              "\n",
              "    .dataframe tbody tr th {\n",
              "        vertical-align: top;\n",
              "    }\n",
              "\n",
              "    .dataframe thead th {\n",
              "        text-align: right;\n",
              "    }\n",
              "</style>\n",
              "<table border=\"1\" class=\"dataframe\">\n",
              "  <thead>\n",
              "    <tr style=\"text-align: right;\">\n",
              "      <th></th>\n",
              "      <th>0</th>\n",
              "      <th>1</th>\n",
              "      <th>2</th>\n",
              "      <th>3</th>\n",
              "      <th>4</th>\n",
              "      <th>5</th>\n",
              "      <th>6</th>\n",
              "      <th>7</th>\n",
              "      <th>8</th>\n",
              "      <th>9</th>\n",
              "      <th>10</th>\n",
              "      <th>11</th>\n",
              "      <th>12</th>\n",
              "      <th>13</th>\n",
              "      <th>14</th>\n",
              "      <th>15</th>\n",
              "    </tr>\n",
              "  </thead>\n",
              "  <tbody>\n",
              "    <tr>\n",
              "      <th>0</th>\n",
              "      <td>AYGA</td>\n",
              "      <td>GKA</td>\n",
              "      <td>GOROKA</td>\n",
              "      <td>GOROKA</td>\n",
              "      <td>PAPUA NEW GUINEA</td>\n",
              "      <td>6</td>\n",
              "      <td>4</td>\n",
              "      <td>54</td>\n",
              "      <td>S</td>\n",
              "      <td>145</td>\n",
              "      <td>23</td>\n",
              "      <td>30</td>\n",
              "      <td>E</td>\n",
              "      <td>1610</td>\n",
              "      <td>-6.082</td>\n",
              "      <td>145.392</td>\n",
              "    </tr>\n",
              "  </tbody>\n",
              "</table>\n",
              "</div>"
            ],
            "text/plain": [
              "     0    1       2       3                 4   5   6   7  8    9   10  11 12  \\\n",
              "0  AYGA  GKA  GOROKA  GOROKA  PAPUA NEW GUINEA   6   4  54  S  145  23  30  E   \n",
              "\n",
              "     13     14       15  \n",
              "0  1610 -6.082  145.392  "
            ]
          },
          "execution_count": 30,
          "metadata": {},
          "output_type": "execute_result"
        }
      ],
      "source": [
        "airports[:1]"
      ]
    },
    {
      "cell_type": "code",
      "execution_count": null,
      "metadata": {
        "id": "xV6O7L3zdMN_"
      },
      "outputs": [],
      "source": [
        "airport_locations = airports[[1, 14, 15]].rename(columns={1: 'CODE', 14: 'LAT', 15: 'LONG'})"
      ]
    },
    {
      "cell_type": "code",
      "execution_count": null,
      "metadata": {
        "id": "eQSnOvkfdMOA",
        "outputId": "9da41930-702c-400c-d081-b36d683c8ada"
      },
      "outputs": [
        {
          "data": {
            "text/html": [
              "<div>\n",
              "<style scoped>\n",
              "    .dataframe tbody tr th:only-of-type {\n",
              "        vertical-align: middle;\n",
              "    }\n",
              "\n",
              "    .dataframe tbody tr th {\n",
              "        vertical-align: top;\n",
              "    }\n",
              "\n",
              "    .dataframe thead th {\n",
              "        text-align: right;\n",
              "    }\n",
              "</style>\n",
              "<table border=\"1\" class=\"dataframe\">\n",
              "  <thead>\n",
              "    <tr style=\"text-align: right;\">\n",
              "      <th></th>\n",
              "      <th>CODE</th>\n",
              "      <th>LAT</th>\n",
              "      <th>LONG</th>\n",
              "    </tr>\n",
              "  </thead>\n",
              "  <tbody>\n",
              "    <tr>\n",
              "      <th>0</th>\n",
              "      <td>GKA</td>\n",
              "      <td>-6.082</td>\n",
              "      <td>145.392</td>\n",
              "    </tr>\n",
              "    <tr>\n",
              "      <th>1</th>\n",
              "      <td>LAE</td>\n",
              "      <td>0.000</td>\n",
              "      <td>0.000</td>\n",
              "    </tr>\n",
              "    <tr>\n",
              "      <th>2</th>\n",
              "      <td>MAG</td>\n",
              "      <td>-5.207</td>\n",
              "      <td>145.789</td>\n",
              "    </tr>\n",
              "    <tr>\n",
              "      <th>3</th>\n",
              "      <td>HGU</td>\n",
              "      <td>-5.826</td>\n",
              "      <td>144.296</td>\n",
              "    </tr>\n",
              "    <tr>\n",
              "      <th>4</th>\n",
              "      <td>LAE</td>\n",
              "      <td>-6.570</td>\n",
              "      <td>146.726</td>\n",
              "    </tr>\n",
              "  </tbody>\n",
              "</table>\n",
              "</div>"
            ],
            "text/plain": [
              "  CODE    LAT     LONG\n",
              "0  GKA -6.082  145.392\n",
              "1  LAE  0.000    0.000\n",
              "2  MAG -5.207  145.789\n",
              "3  HGU -5.826  144.296\n",
              "4  LAE -6.570  146.726"
            ]
          },
          "execution_count": 32,
          "metadata": {},
          "output_type": "execute_result"
        }
      ],
      "source": [
        "airport_locations.head()"
      ]
    },
    {
      "cell_type": "markdown",
      "metadata": {
        "id": "iZqPwBBxdMOA"
      },
      "source": [
        "This dataset does not contain locations for all the airports in the graph, so we have to just select those nodes for which we do have locations (only c. 200!). \n"
      ]
    },
    {
      "cell_type": "code",
      "execution_count": null,
      "metadata": {
        "id": "JfvgMb0LdMOB",
        "outputId": "09422c09-9955-403c-f4a9-f0177689f578"
      },
      "outputs": [
        {
          "data": {
            "text/html": [
              "<div>\n",
              "<style scoped>\n",
              "    .dataframe tbody tr th:only-of-type {\n",
              "        vertical-align: middle;\n",
              "    }\n",
              "\n",
              "    .dataframe tbody tr th {\n",
              "        vertical-align: top;\n",
              "    }\n",
              "\n",
              "    .dataframe thead th {\n",
              "        text-align: right;\n",
              "    }\n",
              "</style>\n",
              "<table border=\"1\" class=\"dataframe\">\n",
              "  <thead>\n",
              "    <tr style=\"text-align: right;\">\n",
              "      <th></th>\n",
              "      <th>CODE</th>\n",
              "      <th>LAT</th>\n",
              "      <th>LONG</th>\n",
              "    </tr>\n",
              "  </thead>\n",
              "  <tbody>\n",
              "    <tr>\n",
              "      <th>3380</th>\n",
              "      <td>ABI</td>\n",
              "      <td>32.411</td>\n",
              "      <td>-99.682</td>\n",
              "    </tr>\n",
              "    <tr>\n",
              "      <th>3381</th>\n",
              "      <td>ABQ</td>\n",
              "      <td>0.000</td>\n",
              "      <td>0.000</td>\n",
              "    </tr>\n",
              "    <tr>\n",
              "      <th>3382</th>\n",
              "      <td>ACK</td>\n",
              "      <td>41.253</td>\n",
              "      <td>-70.060</td>\n",
              "    </tr>\n",
              "    <tr>\n",
              "      <th>3383</th>\n",
              "      <td>ACT</td>\n",
              "      <td>31.611</td>\n",
              "      <td>-97.230</td>\n",
              "    </tr>\n",
              "    <tr>\n",
              "      <th>3384</th>\n",
              "      <td>ACY</td>\n",
              "      <td>39.458</td>\n",
              "      <td>-74.577</td>\n",
              "    </tr>\n",
              "  </tbody>\n",
              "</table>\n",
              "</div>"
            ],
            "text/plain": [
              "     CODE     LAT    LONG\n",
              "3380  ABI  32.411 -99.682\n",
              "3381  ABQ   0.000   0.000\n",
              "3382  ACK  41.253 -70.060\n",
              "3383  ACT  31.611 -97.230\n",
              "3384  ACY  39.458 -74.577"
            ]
          },
          "execution_count": 33,
          "metadata": {},
          "output_type": "execute_result"
        }
      ],
      "source": [
        "selected_nodes = airport_locations['CODE'].isin(PG2k.nodes())\n",
        "known_locations = airport_locations[ selected_nodes ]\n",
        "\n",
        "known_locations.head()"
      ]
    },
    {
      "cell_type": "code",
      "execution_count": null,
      "metadata": {
        "id": "R2znXPLjdMOB"
      },
      "outputs": [],
      "source": [
        "PG2k_known = nx.subgraph(PG2k, known_locations['CODE'])"
      ]
    },
    {
      "cell_type": "code",
      "execution_count": null,
      "metadata": {
        "id": "KcbkWFCNdMOB",
        "outputId": "01d7e3ff-ca26-457d-f97d-124c1d0654d6"
      },
      "outputs": [
        {
          "data": {
            "text/plain": [
              "2177"
            ]
          },
          "execution_count": 35,
          "metadata": {},
          "output_type": "execute_result"
        }
      ],
      "source": [
        "len(PG)"
      ]
    },
    {
      "cell_type": "code",
      "execution_count": null,
      "metadata": {
        "id": "NI4aFXHgdMOC",
        "outputId": "65e9c8bb-80bc-45b8-9f10-4302b1c2e736"
      },
      "outputs": [
        {
          "data": {
            "text/plain": [
              "559"
            ]
          },
          "execution_count": 36,
          "metadata": {},
          "output_type": "execute_result"
        }
      ],
      "source": [
        "len(PG2k)"
      ]
    },
    {
      "cell_type": "code",
      "execution_count": null,
      "metadata": {
        "id": "DXBQtSQjdMOC",
        "outputId": "8e47de1e-98b2-41ee-c282-40b034778a5e"
      },
      "outputs": [
        {
          "data": {
            "text/plain": [
              "281"
            ]
          },
          "execution_count": 37,
          "metadata": {},
          "output_type": "execute_result"
        }
      ],
      "source": [
        "len(PG2k_known)"
      ]
    },
    {
      "cell_type": "code",
      "execution_count": null,
      "metadata": {
        "collapsed": true,
        "jupyter": {
          "outputs_hidden": true
        },
        "id": "OIahlRh3dMOE",
        "outputId": "889178d2-84dd-44e8-8ada-37714e49036e"
      },
      "outputs": [
        {
          "data": {
            "text/plain": [
              "NodeView(('ATL', 'BWI', 'CVG', 'DTW', 'EWR', 'GRR', 'IAD', 'JFK', 'LGA', 'MDT', 'ORD', 'PHL', 'PIT', 'CLE', 'CLT', 'IND', 'MCO', 'MSP', 'ISP', 'BLV', 'CHS', 'DSM', 'ACY', 'CMH', 'FLL', 'TPA', 'PBI', 'RSW', 'MYR', 'DCA', 'ABI', 'ABQ', 'AGS', 'ALB', 'AMA', 'AUS', 'BDL', 'BGR', 'BHM', 'BNA', 'BOS', 'BTR', 'BUF', 'CAE', 'CHA', 'COS', 'COU', 'DAY', 'DEN', 'DFW', 'ELP', 'GNV', 'HNL', 'HOU', 'IAH', 'ICT', 'JAN', 'JAX', 'LAS', 'LAX', 'LFT', 'LIT', 'MCI', 'MDW', 'MEM', 'MIA', 'MKE', 'MLB', 'MLU', 'MOB', 'MSN', 'MSY', 'OKC', 'OMA', 'ONT', 'ORF', 'PDX', 'PHX', 'PNS', 'PVD', 'RDU', 'RIC', 'ROC', 'SAN', 'SAT', 'SAV', 'SEA', 'SFO', 'SHV', 'SJU', 'SLC', 'STL', 'STT', 'STX', 'SYR', 'TLH', 'TUL', 'TYS', 'ANC', 'ILM', 'PWM', 'SWF', 'TUS', 'LAN', 'SNA', 'ABY', 'BQK', 'DAL', 'DHN', 'FLO', 'MCN', 'OAK', 'VPS', 'CRP', 'GEG', 'PIE', 'CYS', 'LRD', 'PHF', 'YIP', 'AEX', 'SJC', 'SMF', 'DET', 'GGG', 'FSM', 'HPN', 'PAE', 'SFB', 'TXK', 'EFD', 'ACT', 'BPT', 'ILG', 'LCK', 'VCV', 'BOI', 'GRB', 'BFM', 'LCH', 'BRO', 'BIF', 'CLL', 'GRK', 'DLH', 'SPS', 'RNO', 'LBB', 'YNG', 'MQT', 'MKL', 'IAG', 'MTC', 'BTV', 'BQN', 'LNK', 'ACK', 'PSP', 'TEB', 'FAI', 'YUM', 'BED', 'HLN', 'HOP', 'INT', 'LRF', 'LSF', 'NKT', 'SVN', 'TYR', 'DRT', 'MFE', 'OPF', 'PUB', 'MAF', 'LGB', 'POB', 'WRI', 'SJT', 'BUR', 'FAT', 'HRL', 'DRO', 'OGG', 'IPL', 'CDC', 'FBK', 'CPR', 'FMN', 'ROW', 'SUX', 'BFI', 'OLS', 'ADM', 'MHR', 'KOA', 'BLI', 'SUU', 'BFL', 'ITO', 'PPG', 'LIH', 'PMD', 'EYW', 'BYH', 'GFK', 'CEF', 'EGP', 'JNU', 'KTN', 'MWH', 'SIT', 'YAK', 'GTF', 'DOV', 'GCK', 'FOE', 'TBN', 'SEM', 'ADK', 'CDB', 'DLG', 'ADQ', 'AKN', 'BET', 'BRW', 'CDV', 'DUT', 'GAL', 'MCG', 'OME', 'OTZ', 'SCC', 'SNP', 'UNK', 'AIN', 'ILI', 'TLJ', 'UAM', 'ENA', 'PQI', 'MOT', 'FOD', 'HIB', 'INL', 'MIB', 'HOM', 'PIZ', 'BTI', 'FYU', 'TAL', 'BTT', 'GUM', 'JON', 'LNY', 'MKK', 'MDY', 'ADW', 'MAZ', 'PSE', 'SIG', 'NRR', 'RME', 'DPA', 'LUK', 'PHN', 'JBR', 'MNM', 'FTW', 'SPN', 'VBG', 'NQX', 'NUQ', 'NZY', 'CNW', 'EKN', 'HKY', 'IAB', 'IPT', 'GWO', 'FFO'))"
            ]
          },
          "execution_count": 38,
          "metadata": {},
          "output_type": "execute_result"
        }
      ],
      "source": [
        "PG2k_known.nodes()"
      ]
    },
    {
      "cell_type": "code",
      "execution_count": null,
      "metadata": {
        "id": "0YSGcwTHdMOE"
      },
      "outputs": [],
      "source": [
        "airport_positions = { row['CODE']: (row['LONG'], row['LAT']) for index, row  in known_locations.iterrows() }"
      ]
    },
    {
      "cell_type": "code",
      "execution_count": null,
      "metadata": {
        "id": "sRYs6Fx4dMOF",
        "outputId": "46c600b3-2ebf-450a-e3cc-3446f6a66b08"
      },
      "outputs": [
        {
          "data": {
            "text/plain": [
              "(-87.904, 41.979)"
            ]
          },
          "execution_count": 40,
          "metadata": {},
          "output_type": "execute_result"
        }
      ],
      "source": [
        "airport_positions['ORD']"
      ]
    },
    {
      "cell_type": "code",
      "execution_count": null,
      "metadata": {
        "id": "lr5LybY2dMOF",
        "outputId": "eea54bc5-f804-4de9-d9cc-b6a8b6ca2e7c"
      },
      "outputs": [
        {
          "data": {
            "image/png": "[encoded data removed]",
            "text/plain": [
              "<Figure size 1440x648 with 1 Axes>"
            ]
          },
          "metadata": {},
          "output_type": "display_data"
        }
      ],
      "source": [
        "plt.figure(figsize=(20, 9))\n",
        "nx.draw_networkx_nodes(PG2k_known, pos=airport_positions, node_size=10, alpha=0.6, node_color='b');\n",
        "nx.draw_networkx_edges(PG2k_known, pos=airport_positions, width=0.1, arrows=False);"
      ]
    },
    {
      "cell_type": "markdown",
      "metadata": {
        "id": "NoerSBxudMOG"
      },
      "source": [
        "## Centrality"
      ]
    },
    {
      "cell_type": "markdown",
      "metadata": {
        "id": "J417XKXgdMOG"
      },
      "source": [
        "### PageRank\n",
        "\n",
        "You are more important if your friends are important. Roughly: centrality of B is increased by in-degree of A, given (A, B). \n",
        "\n",
        "<img src=\"assets/ana-pagerank.jpg\" align=\"left\" />"
      ]
    },
    {
      "cell_type": "markdown",
      "metadata": {
        "id": "IGw5kpeVdMOG"
      },
      "source": [
        "### Centrality Distributions"
      ]
    },
    {
      "cell_type": "code",
      "execution_count": null,
      "metadata": {
        "id": "L2VqXDW8dMOH"
      },
      "outputs": [],
      "source": [
        "pr = list(nx.pagerank(PG2k).values())\n",
        "pr_nodeid = range(len(pr))"
      ]
    },
    {
      "cell_type": "code",
      "execution_count": null,
      "metadata": {
        "id": "mjQ3IHTJdMOH",
        "outputId": "ebd4f459-f60a-4673-e1cd-793c32181802"
      },
      "outputs": [
        {
          "data": {
            "text/plain": [
              "[<matplotlib.lines.Line2D at 0x2defd802b08>]"
            ]
          },
          "execution_count": 46,
          "metadata": {},
          "output_type": "execute_result"
        },
        {
          "data": {
            "image/png": "[encoded data removed]",
            "text/plain": [
              "<Figure size 432x288 with 1 Axes>"
            ]
          },
          "metadata": {
            "needs_background": "light"
          },
          "output_type": "display_data"
        }
      ],
      "source": [
        "plt.plot(pr_nodeid, pr)"
      ]
    },
    {
      "cell_type": "code",
      "execution_count": null,
      "metadata": {
        "id": "pxLkMeZDdMOH",
        "outputId": "baaee3c7-7b86-448f-b537-615fe5799122"
      },
      "outputs": [
        {
          "data": {
            "image/png": "[encoded data removed]",
            "text/plain": [
              "<Figure size 432x288 with 1 Axes>"
            ]
          },
          "metadata": {
            "needs_background": "light"
          },
          "output_type": "display_data"
        }
      ],
      "source": [
        "plt.hist(pr);"
      ]
    },
    {
      "cell_type": "code",
      "execution_count": null,
      "metadata": {
        "id": "i5EK2UkLdMOI",
        "outputId": "d601bb5b-19e5-4f77-a00f-11d51201f674"
      },
      "outputs": [
        {
          "data": {
            "image/png": "[encoded data removed]",
            "text/plain": [
              "<Figure size 432x288 with 1 Axes>"
            ]
          },
          "metadata": {
            "needs_background": "light"
          },
          "output_type": "display_data"
        }
      ],
      "source": [
        "plt.hist(nx.betweenness_centrality(PG2k).values());"
      ]
    },
    {
      "cell_type": "code",
      "execution_count": null,
      "metadata": {
        "id": "YEsObsjcdMOI",
        "outputId": "46806619-292c-4236-f1b2-1cf49c3fb8de"
      },
      "outputs": [
        {
          "data": {
            "image/png": "[encoded data removed]",
            "text/plain": [
              "<Figure size 432x288 with 1 Axes>"
            ]
          },
          "metadata": {
            "needs_background": "light"
          },
          "output_type": "display_data"
        }
      ],
      "source": [
        "plt.hist(nx.degree_centrality(PG2k).values());"
      ]
    },
    {
      "cell_type": "code",
      "execution_count": null,
      "metadata": {
        "id": "CZb2mQF2dMOI",
        "outputId": "113c89dd-a6b6-426c-8f32-e8009ed36d1b"
      },
      "outputs": [
        {
          "data": {
            "text/plain": [
              "[(0.013790360527445212, 'MSP'),\n",
              " (0.013455744418797572, 'FAI'),\n",
              " (0.013394851142496675, 'YIP'),\n",
              " (0.012851978598030315, 'MEM'),\n",
              " (0.012792408392498938, 'DFW'),\n",
              " (0.011688084325292588, 'ATL'),\n",
              " (0.010877424195624007, 'IAH'),\n",
              " (0.010702817852641095, 'STL'),\n",
              " (0.010367703120133468, 'ORD'),\n",
              " (0.010178344166399535, 'DTW')]"
            ]
          },
          "execution_count": 40,
          "metadata": {},
          "output_type": "execute_result"
        }
      ],
      "source": [
        "sorted( \n",
        "    ((rank, code) for code, rank in nx.pagerank(PG2k).items()), reverse=True\n",
        ")[:10]"
      ]
    },
    {
      "cell_type": "code",
      "execution_count": null,
      "metadata": {
        "id": "oKi0K7WLdMOJ",
        "outputId": "4f26a2bc-ca0c-41c5-ff01-289ce7ca245b"
      },
      "outputs": [
        {
          "data": {
            "text/plain": [
              "[(0.12632847963237603, 'MSP'),\n",
              " (0.12553274658751884, 'ANC'),\n",
              " (0.11581237304244392, 'FAI'),\n",
              " (0.086497749849352, 'YIP'),\n",
              " (0.0670168156285972, 'SEA'),\n",
              " (0.06089582080903498, 'ATL'),\n",
              " (0.05444323675749989, 'MEM'),\n",
              " (0.05354790742025908, 'JFK'),\n",
              " (0.04441263120719328, 'DEN'),\n",
              " (0.043485462424117806, 'DFW')]"
            ]
          },
          "execution_count": 41,
          "metadata": {},
          "output_type": "execute_result"
        }
      ],
      "source": [
        "sorted( \n",
        "    ((rank, code) for code, rank in nx.betweenness_centrality(PG2k).items()), reverse=True\n",
        ")[:10]"
      ]
    },
    {
      "cell_type": "code",
      "execution_count": null,
      "metadata": {
        "id": "zpXp6CJadMOJ",
        "outputId": "d892ddb7-2459-40d3-f051-7030c31d90d0"
      },
      "outputs": [
        {
          "data": {
            "text/plain": [
              "[(0.6164874551971327, 'MSP'),\n",
              " (0.5913978494623656, 'ATL'),\n",
              " (0.5591397849462365, 'DFW'),\n",
              " (0.5519713261648745, 'ORD'),\n",
              " (0.5017921146953405, 'DTW'),\n",
              " (0.496415770609319, 'MEM'),\n",
              " (0.489247311827957, 'STL'),\n",
              " (0.471326164874552, 'YIP'),\n",
              " (0.44802867383512546, 'IAH'),\n",
              " (0.4390681003584229, 'CVG')]"
            ]
          },
          "execution_count": 42,
          "metadata": {},
          "output_type": "execute_result"
        }
      ],
      "source": [
        "sorted( \n",
        "    ((rank, code) for code, rank in nx.degree_centrality(PG2k).items()), reverse=True\n",
        ")[:10]"
      ]
    },
    {
      "cell_type": "markdown",
      "metadata": {
        "id": "e3dgSPwmdMOK"
      },
      "source": [
        "## Paths"
      ]
    },
    {
      "cell_type": "code",
      "execution_count": null,
      "metadata": {
        "id": "VbEN0PgzdMOK",
        "outputId": "215aaddd-6a3d-435d-aedd-acb774eb4711"
      },
      "outputs": [
        {
          "ename": "NetworkXError",
          "evalue": "Graph is not weakly connected.",
          "output_type": "error",
          "traceback": [
            "\u001b[1;31m---------------------------------------------------------------------------\u001b[0m",
            "\u001b[1;31mNetworkXError\u001b[0m                             Traceback (most recent call last)",
            "\u001b[1;32m<ipython-input-48-97d67bd4d745>\u001b[0m in \u001b[0;36m<module>\u001b[1;34m\u001b[0m\n\u001b[1;32m----> 1\u001b[1;33m \u001b[0mnx\u001b[0m\u001b[1;33m.\u001b[0m\u001b[0maverage_shortest_path_length\u001b[0m\u001b[1;33m(\u001b[0m\u001b[0mPG2k\u001b[0m\u001b[1;33m)\u001b[0m\u001b[1;33m\u001b[0m\u001b[1;33m\u001b[0m\u001b[0m\n\u001b[0m",
            "\u001b[1;32mD:\\Apps\\conda\\lib\\site-packages\\networkx\\algorithms\\shortest_paths\\generic.py\u001b[0m in \u001b[0;36maverage_shortest_path_length\u001b[1;34m(G, weight, method)\u001b[0m\n\u001b[0;32m    401\u001b[0m     \u001b[1;31m# Shortest path length is undefined if the graph is disconnected.\u001b[0m\u001b[1;33m\u001b[0m\u001b[1;33m\u001b[0m\u001b[1;33m\u001b[0m\u001b[0m\n\u001b[0;32m    402\u001b[0m     \u001b[1;32mif\u001b[0m \u001b[0mG\u001b[0m\u001b[1;33m.\u001b[0m\u001b[0mis_directed\u001b[0m\u001b[1;33m(\u001b[0m\u001b[1;33m)\u001b[0m \u001b[1;32mand\u001b[0m \u001b[1;32mnot\u001b[0m \u001b[0mnx\u001b[0m\u001b[1;33m.\u001b[0m\u001b[0mis_weakly_connected\u001b[0m\u001b[1;33m(\u001b[0m\u001b[0mG\u001b[0m\u001b[1;33m)\u001b[0m\u001b[1;33m:\u001b[0m\u001b[1;33m\u001b[0m\u001b[1;33m\u001b[0m\u001b[0m\n\u001b[1;32m--> 403\u001b[1;33m         \u001b[1;32mraise\u001b[0m \u001b[0mnx\u001b[0m\u001b[1;33m.\u001b[0m\u001b[0mNetworkXError\u001b[0m\u001b[1;33m(\u001b[0m\u001b[1;34m\"Graph is not weakly connected.\"\u001b[0m\u001b[1;33m)\u001b[0m\u001b[1;33m\u001b[0m\u001b[1;33m\u001b[0m\u001b[0m\n\u001b[0m\u001b[0;32m    404\u001b[0m     \u001b[1;32mif\u001b[0m \u001b[1;32mnot\u001b[0m \u001b[0mG\u001b[0m\u001b[1;33m.\u001b[0m\u001b[0mis_directed\u001b[0m\u001b[1;33m(\u001b[0m\u001b[1;33m)\u001b[0m \u001b[1;32mand\u001b[0m \u001b[1;32mnot\u001b[0m \u001b[0mnx\u001b[0m\u001b[1;33m.\u001b[0m\u001b[0mis_connected\u001b[0m\u001b[1;33m(\u001b[0m\u001b[0mG\u001b[0m\u001b[1;33m)\u001b[0m\u001b[1;33m:\u001b[0m\u001b[1;33m\u001b[0m\u001b[1;33m\u001b[0m\u001b[0m\n\u001b[0;32m    405\u001b[0m         \u001b[1;32mraise\u001b[0m \u001b[0mnx\u001b[0m\u001b[1;33m.\u001b[0m\u001b[0mNetworkXError\u001b[0m\u001b[1;33m(\u001b[0m\u001b[1;34m\"Graph is not connected.\"\u001b[0m\u001b[1;33m)\u001b[0m\u001b[1;33m\u001b[0m\u001b[1;33m\u001b[0m\u001b[0m\n",
            "\u001b[1;31mNetworkXError\u001b[0m: Graph is not weakly connected."
          ]
        }
      ],
      "source": [
        "nx.average_shortest_path_length(PG2k)"
      ]
    },
    {
      "cell_type": "code",
      "execution_count": null,
      "metadata": {
        "id": "vk6I0mOzdMOK",
        "outputId": "fe6c7ec8-6138-40b7-836a-87432d335675"
      },
      "outputs": [
        {
          "data": {
            "text/plain": [
              "559"
            ]
          },
          "execution_count": 42,
          "metadata": {},
          "output_type": "execute_result"
        }
      ],
      "source": [
        "len(PG2k)"
      ]
    },
    {
      "cell_type": "code",
      "execution_count": null,
      "metadata": {
        "id": "3ClXfw2zdMOL"
      },
      "outputs": [],
      "source": [
        "components = list(nx.weakly_connected_components(PG2k))"
      ]
    },
    {
      "cell_type": "code",
      "execution_count": null,
      "metadata": {
        "id": "bG0eIoMXdMOL",
        "outputId": "b41027bd-76ac-4b5b-ff27-45975010e6ff"
      },
      "outputs": [
        {
          "data": {
            "text/plain": [
              "2"
            ]
          },
          "execution_count": 52,
          "metadata": {},
          "output_type": "execute_result"
        }
      ],
      "source": [
        "len(components)"
      ]
    },
    {
      "cell_type": "code",
      "execution_count": null,
      "metadata": {
        "id": "2m0OSVIGdMOM",
        "outputId": "a78b40d4-bc14-4df3-a978-71d02e4a25db"
      },
      "outputs": [
        {
          "data": {
            "text/plain": [
              "557"
            ]
          },
          "execution_count": 53,
          "metadata": {},
          "output_type": "execute_result"
        }
      ],
      "source": [
        "len(components[0])"
      ]
    },
    {
      "cell_type": "code",
      "execution_count": null,
      "metadata": {
        "id": "6TvyiaxVdMOM",
        "outputId": "1f81d379-3057-4f76-c730-bfeb2c3b42df"
      },
      "outputs": [
        {
          "data": {
            "text/plain": [
              "0.9964221824686941"
            ]
          },
          "execution_count": 55,
          "metadata": {},
          "output_type": "execute_result"
        }
      ],
      "source": [
        "len(components[0]) / len(PG2k)"
      ]
    },
    {
      "cell_type": "code",
      "execution_count": null,
      "metadata": {
        "id": "QUzUCa2JdMOM",
        "outputId": "dc1c8224-8b7f-427d-fee4-c0e7ea47bf35"
      },
      "outputs": [
        {
          "data": {
            "text/plain": [
              "2"
            ]
          },
          "execution_count": 60,
          "metadata": {},
          "output_type": "execute_result"
        }
      ],
      "source": [
        "len(components[1])"
      ]
    },
    {
      "cell_type": "code",
      "execution_count": null,
      "metadata": {
        "id": "BomP6GhjdMON",
        "outputId": "17a3408c-bb0c-4883-f0c2-afe8fec6d1d3"
      },
      "outputs": [
        {
          "data": {
            "text/plain": [
              "{'FTW', 'NEW'}"
            ]
          },
          "execution_count": 61,
          "metadata": {},
          "output_type": "execute_result"
        }
      ],
      "source": [
        "components[1]"
      ]
    },
    {
      "cell_type": "code",
      "execution_count": null,
      "metadata": {
        "id": "MN8ekLO6dMON"
      },
      "outputs": [],
      "source": [
        "PG2k.remove_nodes_from(components[1])"
      ]
    },
    {
      "cell_type": "code",
      "execution_count": null,
      "metadata": {
        "id": "4h--jIN8dMON",
        "outputId": "016c15fe-e9fa-4ee2-a3d5-d512f8136dae"
      },
      "outputs": [
        {
          "data": {
            "text/plain": [
              "True"
            ]
          },
          "execution_count": 66,
          "metadata": {},
          "output_type": "execute_result"
        }
      ],
      "source": [
        "nx.is_weakly_connected(PG2k)"
      ]
    },
    {
      "cell_type": "code",
      "execution_count": null,
      "metadata": {
        "id": "jYOe0kyXdMOO",
        "outputId": "7fba7c89-219d-4b14-9a3d-d7f45f760285"
      },
      "outputs": [
        {
          "data": {
            "text/plain": [
              "2.624475285121992"
            ]
          },
          "execution_count": 67,
          "metadata": {},
          "output_type": "execute_result"
        }
      ],
      "source": [
        "nx.average_shortest_path_length(PG2k)"
      ]
    },
    {
      "cell_type": "markdown",
      "metadata": {
        "id": "3g6b9SagdMOO"
      },
      "source": [
        "# Exercise\n",
        "\n",
        "* Compute centrality measures before and after the addition or removal of nodes/edges\n",
        "    * G.add_edge, G.remove_node\n",
        "    * G.add_edges_from(listofedges), G.remove_nodes_from(listofnodes)\n",
        "    \n",
        "* eg., PG2k.add_egde( ('DFW', 'CVG') ) \n",
        "    * then recompute average_path_length, betwneenness\n",
        "\n",
        "* and thus by doing so, assess the importance/impact of hubs and route bottlenecks. \n"
      ]
    },
    {
      "cell_type": "markdown",
      "metadata": {
        "id": "nrnKIX0cdMOO"
      },
      "source": [
        "### Example: Removing a Top Hub Airport"
      ]
    },
    {
      "cell_type": "code",
      "execution_count": null,
      "metadata": {
        "id": "BD2lhJ7qdMOP"
      },
      "outputs": [],
      "source": [
        "top5 = sorted([ (rank, name) for name, rank in nx.betweenness_centrality(PG2k).items() ], reverse=True)[:5]"
      ]
    },
    {
      "cell_type": "code",
      "execution_count": null,
      "metadata": {
        "id": "Ii1MbefodMOP",
        "outputId": "ac22b7c2-c54c-47d0-ab28-504bd6aa5d0b"
      },
      "outputs": [
        {
          "data": {
            "text/plain": [
              "[(0.12723977393421568, 'MSP'),\n",
              " (0.1264383007190368, 'ANC'),\n",
              " (0.11664780742701998, 'FAI'),\n",
              " (0.08712171767346458, 'YIP'),\n",
              " (0.0675002540613837, 'SEA')]"
            ]
          },
          "execution_count": 78,
          "metadata": {},
          "output_type": "execute_result"
        }
      ],
      "source": [
        "top5"
      ]
    },
    {
      "cell_type": "code",
      "execution_count": null,
      "metadata": {
        "id": "1gQTwySQdMOP"
      },
      "outputs": [],
      "source": [
        "PG2k.remove_nodes_from(['MSP', 'ANC'])"
      ]
    },
    {
      "cell_type": "code",
      "execution_count": null,
      "metadata": {
        "id": "GuphCM8odMOP"
      },
      "outputs": [],
      "source": [
        "splits = list(nx.weakly_connected_components(PG2k))"
      ]
    },
    {
      "cell_type": "code",
      "execution_count": null,
      "metadata": {
        "id": "qDo4Pxe5dMOQ",
        "outputId": "2e469acd-fe2a-4001-9305-ed2fa0389661"
      },
      "outputs": [
        {
          "data": {
            "text/plain": [
              "6"
            ]
          },
          "execution_count": 85,
          "metadata": {},
          "output_type": "execute_result"
        }
      ],
      "source": [
        "len(splits)"
      ]
    },
    {
      "cell_type": "code",
      "execution_count": null,
      "metadata": {
        "id": "WGNgSKF1dMOQ",
        "outputId": "cc449bb3-271f-441d-fc7a-c7669a7399c3"
      },
      "outputs": [
        {
          "data": {
            "text/plain": [
              "[549, 1, 2, 1, 1, 1]"
            ]
          },
          "execution_count": 86,
          "metadata": {},
          "output_type": "execute_result"
        }
      ],
      "source": [
        "[ len(s) for s in splits]"
      ]
    },
    {
      "cell_type": "code",
      "execution_count": null,
      "metadata": {
        "id": "uZ1UcWWKdMOQ"
      },
      "outputs": [],
      "source": [
        "PG2k.remove_nodes_from( splits[1] | splits[2] | splits[3] | splits[4] | splits[5] )"
      ]
    },
    {
      "cell_type": "code",
      "execution_count": null,
      "metadata": {
        "id": "T5zOtiWRdMOQ",
        "outputId": "6444b8c0-ea0a-4ce5-d54a-627d51d33a82"
      },
      "outputs": [
        {
          "data": {
            "text/plain": [
              "2.8290488346429474"
            ]
          },
          "execution_count": 96,
          "metadata": {},
          "output_type": "execute_result"
        }
      ],
      "source": [
        "nx.average_shortest_path_length(PG2k)"
      ]
    },
    {
      "cell_type": "code",
      "execution_count": null,
      "metadata": {
        "id": "OnwaYmnjdMOR",
        "outputId": "232edd95-409a-4232-b62a-f0d50fa7a194"
      },
      "outputs": [
        {
          "data": {
            "text/plain": [
              "True"
            ]
          },
          "execution_count": 79,
          "metadata": {},
          "output_type": "execute_result"
        }
      ],
      "source": [
        "'MSP' in PG2k"
      ]
    },
    {
      "cell_type": "code",
      "execution_count": null,
      "metadata": {
        "id": "cSbz-b3cdMOR",
        "outputId": "ab5b3293-1731-4de1-ddfa-958abf256d40"
      },
      "outputs": [
        {
          "data": {
            "text/plain": [
              "0.07692307692307693"
            ]
          },
          "execution_count": 97,
          "metadata": {},
          "output_type": "execute_result"
        }
      ],
      "source": [
        "0.2 / 2.6"
      ]
    }
  ],
  "metadata": {
    "kernelspec": {
      "display_name": "Python 3 (ipykernel)",
      "language": "python",
      "name": "python3"
    },
    "language_info": {
      "codemirror_mode": {
        "name": "ipython",
        "version": 3
      },
      "file_extension": ".py",
      "mimetype": "text/x-python",
      "name": "python",
      "nbconvert_exporter": "python",
      "pygments_lexer": "ipython3",
      "version": "3.9.7"
    },
    "colab": {
      "name": "4.1-DG_CS_GraphModelling.ipynb",
      "provenance": [],
      "include_colab_link": true
    }
  },
  "nbformat": 4,
  "nbformat_minor": 0
}